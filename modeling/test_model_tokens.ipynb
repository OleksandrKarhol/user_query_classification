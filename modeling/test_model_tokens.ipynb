{
 "cells": [
  {
   "cell_type": "code",
   "execution_count": 1,
   "metadata": {},
   "outputs": [],
   "source": [
    "import pandas as pd \n",
    "import numpy as np "
   ]
  },
  {
   "cell_type": "code",
   "execution_count": 2,
   "metadata": {},
   "outputs": [],
   "source": [
    "# remove punctuation\n",
    "import string\n",
    "\n",
    "def remove_punct(text):\n",
    "    line_no_punct = text.translate(str.maketrans(\"\", \"\", string.punctuation))\n",
    "    return line_no_punct\n"
   ]
  },
  {
   "cell_type": "code",
   "execution_count": 3,
   "metadata": {},
   "outputs": [],
   "source": [
    "# tokenization \n",
    "from nltk.tokenize import word_tokenize\n",
    "\n",
    "def tokenize_text(text):\n",
    "    word_tokens = word_tokenize(text)\n",
    "    return word_tokens\n"
   ]
  },
  {
   "cell_type": "code",
   "execution_count": 4,
   "metadata": {},
   "outputs": [],
   "source": [
    "# lowercase data \n",
    "def lowercase_text(text):\n",
    "    new_line = [word.lower() for word in text]\n",
    "    return new_line"
   ]
  },
  {
   "cell_type": "code",
   "execution_count": 5,
   "metadata": {},
   "outputs": [
    {
     "name": "stderr",
     "output_type": "stream",
     "text": [
      "[nltk_data] Downloading package stopwords to /Users/apple/nltk_data...\n",
      "[nltk_data]   Package stopwords is already up-to-date!\n"
     ]
    }
   ],
   "source": [
    "from nltk.corpus import stopwords\n",
    "from nltk.tokenize import word_tokenize\n",
    "import nltk\n",
    "nltk.download('stopwords')\n",
    "\n",
    "def remove_stop_words(text):\n",
    " \n",
    "    stop_words = set(stopwords.words('english'))\n",
    "    new_sentence = [w for w in text if not w.lower() in stop_words]\n",
    "    return new_sentence"
   ]
  },
  {
   "cell_type": "code",
   "execution_count": 6,
   "metadata": {},
   "outputs": [
    {
     "name": "stderr",
     "output_type": "stream",
     "text": [
      "[nltk_data] Downloading package wordnet to /Users/apple/nltk_data...\n",
      "[nltk_data]   Package wordnet is already up-to-date!\n",
      "[nltk_data] Downloading package omw-1.4 to /Users/apple/nltk_data...\n",
      "[nltk_data]   Package omw-1.4 is already up-to-date!\n"
     ]
    }
   ],
   "source": [
    "# Lemmitization\n",
    "from nltk.stem import WordNetLemmatizer\n",
    "nltk.download(\"wordnet\")\n",
    "nltk.download(\"omw-1.4\")\n",
    "\n",
    "# Initialize wordnet lemmatizer\n",
    "wnl = WordNetLemmatizer()\n",
    "\n",
    "def lemitization(text):\n",
    "\n",
    "    new_sentence = []\n",
    "    for word in text:\n",
    "        word = wnl.lemmatize(word, pos=\"v\")\n",
    "        new_sentence.append(word)\n",
    "    return new_sentence"
   ]
  },
  {
   "cell_type": "code",
   "execution_count": 7,
   "metadata": {},
   "outputs": [],
   "source": [
    "# Join the tokens back into a string\n",
    "\n",
    "def join_tokens(text):\n",
    "    processed_text = ' '.join(text)\n",
    "    return processed_text"
   ]
  },
  {
   "cell_type": "code",
   "execution_count": 8,
   "metadata": {},
   "outputs": [],
   "source": [
    "# bring all together \n",
    "def preprocess_text(text):\n",
    "    text = remove_punct(text)\n",
    "    text = tokenize_text(text)\n",
    "    text = lowercase_text(text)\n",
    "    text = remove_stop_words(text)\n",
    "    text = remove_stop_words(text)\n",
    "    text = lemitization (text)\n",
    "    text = join_tokens(text)\n",
    "    return text "
   ]
  },
  {
   "cell_type": "code",
   "execution_count": 9,
   "metadata": {},
   "outputs": [],
   "source": [
    "labels_dict = {'4': 'Educational resources',\n",
    " '6': 'Open Days',\n",
    " '1': 'Campus',\n",
    " '7': 'Programmes and Degrees',\n",
    " '8': 'Scholarships',\n",
    " '5': 'Internship',\n",
    " '0': 'Admissions and Application Process',\n",
    " '10': 'Study and Internship abroad',\n",
    " '3': 'Double Degree programs',\n",
    " '2': 'Contacts',\n",
    " '9': 'Student Housing'}"
   ]
  },
  {
   "cell_type": "code",
   "execution_count": 10,
   "metadata": {},
   "outputs": [
    {
     "name": "stderr",
     "output_type": "stream",
     "text": [
      "2023-09-13 01:39:38.339619: I tensorflow/core/platform/cpu_feature_guard.cc:182] This TensorFlow binary is optimized to use available CPU instructions in performance-critical operations.\n",
      "To enable the following instructions: AVX2 FMA, in other operations, rebuild TensorFlow with the appropriate compiler flags.\n"
     ]
    }
   ],
   "source": [
    "import numpy as np\n",
    "import tensorflow as tf\n",
    "from tensorflow import keras\n",
    "from sklearn.feature_extraction.text import CountVectorizer\n",
    "import pickle\n",
    "\n",
    "loaded_model = keras.models.load_model(\"models/BOW.h5\")\n",
    "\n",
    "def predict(text):\n",
    "    text = preprocess_text(text)\n",
    "    with open('vectors/vectorizer.txt', 'rb') as f:\n",
    "        vectorizer = pickle.load(f)\n",
    "    X_new = vectorizer.transform([text]).toarray()\n",
    "    predictions_probs = loaded_model.predict(X_new)\n",
    "\n",
    "    prediction = np.argmax(predictions_probs, axis=1)\n",
    "    print( labels_dict[str(int(prediction))] )"
   ]
  },
  {
   "cell_type": "code",
   "execution_count": 13,
   "metadata": {},
   "outputs": [
    {
     "name": "stdout",
     "output_type": "stream",
     "text": [
      "Index(['Category', 'Question'], dtype='object')\n"
     ]
    },
    {
     "name": "stderr",
     "output_type": "stream",
     "text": [
      "0it [00:00, ?it/s]"
     ]
    },
    {
     "name": "stdout",
     "output_type": "stream",
     "text": [
      "I'm studying in Kozminski on the second year of my bachelor's degree, when and where will the next internship fair take place?\n",
      "1/1 [==============================] - 0s 29ms/step\n",
      "Internship <class 'str'>\n"
     ]
    },
    {
     "name": "stderr",
     "output_type": "stream",
     "text": [
      "1it [00:00,  3.34it/s]"
     ]
    },
    {
     "name": "stdout",
     "output_type": "stream",
     "text": [
      "I'm applying to a Management and Artificial Intelligence program (2024-2028), what opportunities and help will be provided by the university with regard to seeking jobs and internships?\n",
      "1/1 [==============================] - 0s 52ms/step\n",
      "Internship <class 'str'>\n"
     ]
    },
    {
     "name": "stderr",
     "output_type": "stream",
     "text": [
      "2it [00:00,  3.33it/s]"
     ]
    },
    {
     "name": "stdout",
     "output_type": "stream",
     "text": [
      "Could you explain the purpose of the OLS test and how it is related to the Erasmus+ internship application process?\n",
      "1/1 [==============================] - 0s 32ms/step\n",
      "Study and Internship abroad <class 'str'>\n"
     ]
    },
    {
     "name": "stderr",
     "output_type": "stream",
     "text": [
      "3it [00:01,  2.53it/s]"
     ]
    },
    {
     "name": "stdout",
     "output_type": "stream",
     "text": [
      "What is a job and internship fair, and how could it be useful for bachelor degree candidates?\n",
      "1/1 [==============================] - 0s 117ms/step\n",
      "Internship <class 'str'>\n"
     ]
    },
    {
     "name": "stderr",
     "output_type": "stream",
     "text": [
      "4it [00:01,  2.32it/s]"
     ]
    },
    {
     "name": "stdout",
     "output_type": "stream",
     "text": [
      "How can I apply for an internship program with an EU-based company/organization under Erasmus+?\n",
      "1/1 [==============================] - 0s 55ms/step\n",
      "Study and Internship abroad <class 'str'>\n"
     ]
    },
    {
     "name": "stderr",
     "output_type": "stream",
     "text": [
      "5it [00:02,  2.31it/s]"
     ]
    },
    {
     "name": "stdout",
     "output_type": "stream",
     "text": [
      "During which semesters should students aim to complete their mandatory internship?\n",
      "1/1 [==============================] - 0s 28ms/step\n",
      "Internship <class 'str'>\n"
     ]
    },
    {
     "name": "stderr",
     "output_type": "stream",
     "text": [
      "6it [00:02,  2.44it/s]"
     ]
    },
    {
     "name": "stdout",
     "output_type": "stream",
     "text": [
      "What kind of support does the Career Development & Cooperation with the Environment Office provide to students in their internship search?\n",
      "1/1 [==============================] - 0s 21ms/step\n",
      "Programmes and Degrees <class 'str'>\n"
     ]
    },
    {
     "name": "stderr",
     "output_type": "stream",
     "text": [
      "7it [00:02,  2.13it/s]"
     ]
    },
    {
     "name": "stdout",
     "output_type": "stream",
     "text": [
      "How does Kozminski University offer financial assistance to students and graduates during their internships?\n",
      "1/1 [==============================] - 0s 34ms/step\n",
      "Internship <class 'str'>\n"
     ]
    },
    {
     "name": "stderr",
     "output_type": "stream",
     "text": [
      "8it [00:03,  2.41it/s]"
     ]
    },
    {
     "name": "stdout",
     "output_type": "stream",
     "text": [
      "Are there any available internship offers for PhD students?\n",
      "1/1 [==============================] - 0s 25ms/step\n",
      "Internship <class 'str'>\n"
     ]
    },
    {
     "name": "stderr",
     "output_type": "stream",
     "text": [
      "9it [00:03,  2.83it/s]"
     ]
    },
    {
     "name": "stdout",
     "output_type": "stream",
     "text": [
      "Are there specific types of institutions where Erasmus+ internships are not possible?\n",
      "1/1 [==============================] - 0s 21ms/step\n",
      "Study and Internship abroad <class 'str'>\n"
     ]
    },
    {
     "name": "stderr",
     "output_type": "stream",
     "text": [
      "10it [00:03,  3.29it/s]"
     ]
    },
    {
     "name": "stdout",
     "output_type": "stream",
     "text": [
      "What types of support can students expect while searching for the right internship?\n",
      "1/1 [==============================] - 0s 23ms/step\n",
      "Internship <class 'str'>\n"
     ]
    },
    {
     "name": "stderr",
     "output_type": "stream",
     "text": [
      "11it [00:03,  3.64it/s]"
     ]
    },
    {
     "name": "stdout",
     "output_type": "stream",
     "text": [
      "Should the internship experience relate to a student's field of study and academic growth?\n",
      "1/1 [==============================] - 0s 20ms/step\n"
     ]
    },
    {
     "name": "stderr",
     "output_type": "stream",
     "text": [
      "12it [00:04,  4.19it/s]"
     ]
    },
    {
     "name": "stdout",
     "output_type": "stream",
     "text": [
      "Internship <class 'str'>\n",
      "What advantages do students gain from aligning their internship experience with their academic program's timeline?\n",
      "1/1 [==============================] - 0s 21ms/step\n",
      "Internship <class 'str'>\n"
     ]
    },
    {
     "name": "stderr",
     "output_type": "stream",
     "text": [
      "13it [00:04,  3.94it/s]"
     ]
    },
    {
     "name": "stdout",
     "output_type": "stream",
     "text": [
      "Is there a specially dedicated time to complete an internship during the first year of studies?\n",
      "1/1 [==============================] - 0s 19ms/step\n"
     ]
    },
    {
     "name": "stderr",
     "output_type": "stream",
     "text": [
      "14it [00:04,  4.39it/s]"
     ]
    },
    {
     "name": "stdout",
     "output_type": "stream",
     "text": [
      "Internship <class 'str'>\n",
      "How can I apply for an internship program with an EU-based company/organization under Erasmus+?\n",
      "1/1 [==============================] - 0s 23ms/step\n",
      "Study and Internship abroad <class 'str'>\n"
     ]
    },
    {
     "name": "stderr",
     "output_type": "stream",
     "text": [
      "15it [00:04,  4.74it/s]"
     ]
    },
    {
     "name": "stdout",
     "output_type": "stream",
     "text": [
      "What are the duration options for internships in case of short-term and long-term under Erasmus+?\n",
      "1/1 [==============================] - 0s 19ms/step\n",
      "Study and Internship abroad <class 'str'>\n"
     ]
    },
    {
     "name": "stderr",
     "output_type": "stream",
     "text": [
      "16it [00:04,  5.02it/s]"
     ]
    },
    {
     "name": "stdout",
     "output_type": "stream",
     "text": [
      "Could you explain the process of getting confirmation from a company/organization for an internship abroad?\n",
      "1/1 [==============================] - 0s 23ms/step\n",
      "Internship <class 'str'>\n"
     ]
    },
    {
     "name": "stderr",
     "output_type": "stream",
     "text": [
      "17it [00:05,  5.26it/s]"
     ]
    },
    {
     "name": "stdout",
     "output_type": "stream",
     "text": [
      "What documents do I need to fill out and send to the International Internship Coordinator for Erasmus+ internships?\n",
      "1/1 [==============================] - 0s 30ms/step\n",
      "Internship <class 'str'>\n"
     ]
    },
    {
     "name": "stderr",
     "output_type": "stream",
     "text": [
      "18it [00:05,  5.30it/s]"
     ]
    },
    {
     "name": "stdout",
     "output_type": "stream",
     "text": [
      "Can you provide details about the scholarship amount and how it varies based on the destination country for the internship?\n",
      "1/1 [==============================] - 0s 29ms/step\n",
      "Internship <class 'str'>\n"
     ]
    },
    {
     "name": "stderr",
     "output_type": "stream",
     "text": [
      "19it [00:05,  5.39it/s]"
     ]
    },
    {
     "name": "stdout",
     "output_type": "stream",
     "text": [
      "Could you provide more information about the Registration Form for Recent Graduates and Students for Erasmus+ internships?\n",
      "1/1 [==============================] - 0s 49ms/step\n"
     ]
    },
    {
     "name": "stderr",
     "output_type": "stream",
     "text": [
      "20it [00:05,  5.26it/s]"
     ]
    },
    {
     "name": "stdout",
     "output_type": "stream",
     "text": [
      "Study and Internship abroad <class 'str'>\n",
      "What sections of the Learning Agreement for Traineeship (LA) need to be filled out for the BEFORE THE MOBILITY stage?\n",
      "1/1 [==============================] - 0s 18ms/step\n",
      "Educational resources <class 'str'>\n"
     ]
    },
    {
     "name": "stderr",
     "output_type": "stream",
     "text": [
      "21it [00:05,  5.18it/s]"
     ]
    },
    {
     "name": "stdout",
     "output_type": "stream",
     "text": [
      "What are the additional documents that the company might ask me to provide for an Erasmus+ internship?\n",
      "1/1 [==============================] - 0s 18ms/step\n",
      "Study and Internship abroad <class 'str'>\n"
     ]
    },
    {
     "name": "stderr",
     "output_type": "stream",
     "text": [
      "22it [00:05,  5.43it/s]"
     ]
    },
    {
     "name": "stdout",
     "output_type": "stream",
     "text": [
      "How do I prepare my CV and motivation letter for an Erasmus+ internship?\n",
      "1/1 [==============================] - 0s 24ms/step\n",
      "Study and Internship abroad <class 'str'>\n"
     ]
    },
    {
     "name": "stderr",
     "output_type": "stream",
     "text": [
      "23it [00:06,  5.60it/s]"
     ]
    },
    {
     "name": "stdout",
     "output_type": "stream",
     "text": [
      "Can I get assistance from the Career Development Office?\n",
      "1/1 [==============================] - 0s 18ms/step\n",
      "Contacts <class 'str'>\n"
     ]
    },
    {
     "name": "stderr",
     "output_type": "stream",
     "text": [
      "24it [00:06,  5.72it/s]"
     ]
    },
    {
     "name": "stdout",
     "output_type": "stream",
     "text": [
      "Can you guide me on where to send my application for an Erasmus+ scholarship at KU? Who should I contact for this process?\n",
      "1/1 [==============================] - 0s 21ms/step\n",
      "Study and Internship abroad <class 'str'>\n"
     ]
    },
    {
     "name": "stderr",
     "output_type": "stream",
     "text": [
      "25it [00:06,  3.89it/s]"
     ]
    },
    {
     "name": "stdout",
     "output_type": "stream",
     "text": [
      "What is the role of the International Internship Coordinator in reviewing and verifying the Registration Form for Erasmus+ internships?\n",
      "1/1 [==============================] - 0s 42ms/step\n",
      "Internship <class 'str'>\n"
     ]
    },
    {
     "name": "stderr",
     "output_type": "stream",
     "text": [
      "26it [00:07,  3.74it/s]"
     ]
    },
    {
     "name": "stdout",
     "output_type": "stream",
     "text": [
      "What formal requirements make a student eligible to receive an E+ grant for an internship?\n",
      "1/1 [==============================] - 0s 26ms/step\n"
     ]
    },
    {
     "name": "stderr",
     "output_type": "stream",
     "text": [
      "27it [00:07,  3.98it/s]"
     ]
    },
    {
     "name": "stdout",
     "output_type": "stream",
     "text": [
      "Internship <class 'str'>\n",
      "What is the process once the Coordinator sends the Learning Agreement – the BEFORE THE MOBILITY section – to the Rector's Proxy for approval?\n",
      "1/1 [==============================] - 0s 26ms/step\n"
     ]
    },
    {
     "name": "stderr",
     "output_type": "stream",
     "text": [
      "28it [00:07,  4.13it/s]"
     ]
    },
    {
     "name": "stdout",
     "output_type": "stream",
     "text": [
      "Educational resources <class 'str'>\n",
      "What happens if my set of documents is incomplete for an Erasmus+ internship application? How will the Coordinator proceed?\n",
      "1/1 [==============================] - 0s 19ms/step\n",
      "Study and Internship abroad <class 'str'>\n"
     ]
    },
    {
     "name": "stderr",
     "output_type": "stream",
     "text": [
      "29it [00:07,  4.56it/s]"
     ]
    },
    {
     "name": "stdout",
     "output_type": "stream",
     "text": [
      "What documents do I need to submit to apply for the minimum grant for the international internship under Erasmus+?\n",
      "1/1 [==============================] - 0s 19ms/step\n",
      "Admissions and Application Process <class 'str'>\n"
     ]
    },
    {
     "name": "stderr",
     "output_type": "stream",
     "text": [
      "30it [00:07,  4.95it/s]"
     ]
    },
    {
     "name": "stdout",
     "output_type": "stream",
     "text": [
      "How does the Rector's Proxy for Student Internships play a role in approving the Learning Agreement for Erasmus+ internships? \n",
      "1/1 [==============================] - 0s 23ms/step\n",
      "Internship <class 'str'>\n"
     ]
    },
    {
     "name": "stderr",
     "output_type": "stream",
     "text": [
      "31it [00:07,  5.18it/s]"
     ]
    },
    {
     "name": "stdout",
     "output_type": "stream",
     "text": [
      "How can I apply for an internship program with an EU-based company/organization under Erasmus+?\n",
      "1/1 [==============================] - 0s 76ms/step\n",
      "Study and Internship abroad <class 'str'>\n"
     ]
    },
    {
     "name": "stderr",
     "output_type": "stream",
     "text": [
      "32it [00:08,  4.62it/s]"
     ]
    },
    {
     "name": "stdout",
     "output_type": "stream",
     "text": [
      "What are the duration options for internships in case of short-term and long-term under Erasmus+?\n",
      "1/1 [==============================] - 0s 20ms/step\n",
      "Study and Internship abroad <class 'str'>\n"
     ]
    },
    {
     "name": "stderr",
     "output_type": "stream",
     "text": [
      "33it [00:08,  4.98it/s]"
     ]
    },
    {
     "name": "stdout",
     "output_type": "stream",
     "text": [
      "Could you explain the process of getting confirmation from a company/organization for an internship abroad?\n",
      "1/1 [==============================] - 0s 26ms/step\n",
      "Internship <class 'str'>\n"
     ]
    },
    {
     "name": "stderr",
     "output_type": "stream",
     "text": [
      "34it [00:08,  5.21it/s]"
     ]
    },
    {
     "name": "stdout",
     "output_type": "stream",
     "text": [
      "What documents do I need to fill out and send to the International Internship Coordinator for Erasmus+ internships?\n",
      "1/1 [==============================] - 0s 25ms/step\n",
      "Internship <class 'str'>\n"
     ]
    },
    {
     "name": "stderr",
     "output_type": "stream",
     "text": [
      "35it [00:08,  5.42it/s]"
     ]
    },
    {
     "name": "stdout",
     "output_type": "stream",
     "text": [
      "Hi there, I'm working on my Erasmus+ internship application and have a question. What steps are involved when the International Internship Coordinator asks me to sign the BEFORE THE MOBILITY section and get it signed by the mentor?\n",
      "1/1 [==============================] - 0s 23ms/step\n",
      "Internship <class 'str'>\n"
     ]
    },
    {
     "name": "stderr",
     "output_type": "stream",
     "text": [
      "36it [00:08,  5.56it/s]"
     ]
    },
    {
     "name": "stdout",
     "output_type": "stream",
     "text": [
      "Hi, I've received approval from the Rector's Proxy for my Erasmus+ internship application. What documents do I need to send to the Coordinator once the Rector's Proxy approves the Learning Agreement for Erasmus+ internships?\n",
      "1/1 [==============================] - 0s 22ms/step\n",
      "Study and Internship abroad <class 'str'>\n"
     ]
    },
    {
     "name": "stderr",
     "output_type": "stream",
     "text": [
      "37it [00:09,  5.75it/s]"
     ]
    },
    {
     "name": "stdout",
     "output_type": "stream",
     "text": [
      "Hello, I'm at the stage of finalizing my Erasmus+ internship application. What is the Financial Agreement and how do I need to fill it out and sign it for an Erasmus+ internship?\n",
      "1/1 [==============================] - 0s 21ms/step\n",
      "Study and Internship abroad <class 'str'>\n"
     ]
    },
    {
     "name": "stderr",
     "output_type": "stream",
     "text": [
      "38it [00:09,  5.84it/s]"
     ]
    },
    {
     "name": "stdout",
     "output_type": "stream",
     "text": [
      "Hello, I'm exploring my options for an Erasmus+ international internship. Can you provide me with a list of countries I can go to under the Erasmus+ program?\n",
      "1/1 [==============================] - 0s 19ms/step\n",
      "Study and Internship abroad <class 'str'>\n"
     ]
    },
    {
     "name": "stderr",
     "output_type": "stream",
     "text": [
      "39it [00:09,  5.92it/s]"
     ]
    },
    {
     "name": "stdout",
     "output_type": "stream",
     "text": [
      "Hi there, I'm about to begin the Erasmus+ internship application process. Can you provide details on how to take the first OLS test and the significance of this test for the internship process?\n",
      "1/1 [==============================] - 0s 25ms/step\n",
      "Internship <class 'str'>\n"
     ]
    },
    {
     "name": "stderr",
     "output_type": "stream",
     "text": [
      "40it [00:09,  6.01it/s]"
     ]
    },
    {
     "name": "stdout",
     "output_type": "stream",
     "text": [
      "Hello, I'm in the process of gathering documents for my Erasmus+ internship application. What are the guidelines for sending the required documents to the Coordinator for an Erasmus+ internship application?\n",
      "1/1 [==============================] - 0s 18ms/step\n",
      "Study and Internship abroad <class 'str'>\n"
     ]
    },
    {
     "name": "stderr",
     "output_type": "stream",
     "text": [
      "41it [00:09,  6.03it/s]"
     ]
    },
    {
     "name": "stdout",
     "output_type": "stream",
     "text": [
      "Hello, I'm trying to understand the financial aspects of an Erasmus+ internship. Could you explain how the grant transfer process works for an Erasmus+ internship? How and when does it get transferred?\n",
      "1/1 [==============================] - 0s 87ms/step\n",
      "Study and Internship abroad <class 'str'>\n"
     ]
    },
    {
     "name": "stderr",
     "output_type": "stream",
     "text": [
      "42it [00:10,  4.72it/s]"
     ]
    },
    {
     "name": "stdout",
     "output_type": "stream",
     "text": [
      "Hi there, I'm in the process of finalizing my Erasmus+ internship plans. What are the provisions of the Financial Agreement in terms of the grant transfer for Erasmus+ internships?\n",
      "1/1 [==============================] - 0s 24ms/step\n"
     ]
    },
    {
     "name": "stderr",
     "output_type": "stream",
     "text": [
      "43it [00:10,  4.88it/s]"
     ]
    },
    {
     "name": "stdout",
     "output_type": "stream",
     "text": [
      "Study and Internship abroad <class 'str'>\n",
      "Hello there, I'm interested in applying for an Erasmus+ program. Could you provide information about who is eligible to go on international internships under the Erasmus+ program at Kozminski University?\n",
      "1/1 [==============================] - 0s 20ms/step\n",
      "Study and Internship abroad <class 'str'>\n"
     ]
    },
    {
     "name": "stderr",
     "output_type": "stream",
     "text": [
      "44it [00:10,  5.00it/s]"
     ]
    },
    {
     "name": "stdout",
     "output_type": "stream",
     "text": [
      "Hi, I'm considering an Erasmus+ international internship. Can you explain the options available for the duration of the internship?\n",
      "1/1 [==============================] - 0s 19ms/step\n",
      "Internship <class 'str'>\n"
     ]
    },
    {
     "name": "stderr",
     "output_type": "stream",
     "text": [
      "45it [00:10,  5.26it/s]"
     ]
    },
    {
     "name": "stdout",
     "output_type": "stream",
     "text": [
      "Hello, I'm in the process of making a decision about an Erasmus+ internship. Could you let me know when I can apply for an Erasmus+ international internship at KU?\n",
      "1/1 [==============================] - 0s 21ms/step\n",
      "Study and Internship abroad <class 'str'>\n"
     ]
    },
    {
     "name": "stderr",
     "output_type": "stream",
     "text": [
      "46it [00:10,  5.50it/s]"
     ]
    },
    {
     "name": "stdout",
     "output_type": "stream",
     "text": [
      "Hello, I'm planning to apply for the Erasmus+ Placement Program. Can you clarify if it's possible to apply before completing the third semester of studies in exceptional cases?\n",
      "1/1 [==============================] - 0s 21ms/step\n",
      "Admissions and Application Process <class 'str'>\n"
     ]
    },
    {
     "name": "stderr",
     "output_type": "stream",
     "text": [
      "47it [00:11,  4.93it/s]"
     ]
    },
    {
     "name": "stdout",
     "output_type": "stream",
     "text": [
      "Hello, I'm interested in the Erasmus+ program, but I'm currently on a dean's leave. Can I still participate in the program and apply for an international internship?\n",
      "1/1 [==============================] - 0s 24ms/step\n"
     ]
    },
    {
     "name": "stderr",
     "output_type": "stream",
     "text": [
      "48it [00:11,  5.07it/s]"
     ]
    },
    {
     "name": "stdout",
     "output_type": "stream",
     "text": [
      "Study and Internship abroad <class 'str'>\n",
      "Hi, I'm looking into the possibility of recent graduates participating in Erasmus+ internships. Could you provide information about their eligibility and any specific conditions they need to meet?\n",
      "1/1 [==============================] - 0s 21ms/step\n",
      "Study and Internship abroad <class 'str'>\n"
     ]
    },
    {
     "name": "stderr",
     "output_type": "stream",
     "text": [
      "49it [00:11,  5.27it/s]"
     ]
    },
    {
     "name": "stdout",
     "output_type": "stream",
     "text": [
      "Hello, I'm trying to decide where to pursue my Erasmus+ internship. Are there any limitations on the types of institutions where I can carry out my internship under the program?\n",
      "1/1 [==============================] - 0s 34ms/step\n",
      "Internship <class 'str'>\n"
     ]
    },
    {
     "name": "stderr",
     "output_type": "stream",
     "text": [
      "50it [00:11,  4.87it/s]"
     ]
    },
    {
     "name": "stdout",
     "output_type": "stream",
     "text": [
      "Can you guide me to where I can find the rules set by the Rector for the academic years?\n",
      "1/1 [==============================] - 0s 26ms/step\n"
     ]
    },
    {
     "name": "stderr",
     "output_type": "stream",
     "text": [
      "51it [00:11,  4.90it/s]"
     ]
    },
    {
     "name": "stdout",
     "output_type": "stream",
     "text": [
      "Study and Internship abroad <class 'str'>\n",
      "Can you explain how much the Erasmus+ scholarship changes depending on the different projects at KU?\n",
      "1/1 [==============================] - 0s 18ms/step\n",
      "Study and Internship abroad <class 'str'>\n"
     ]
    },
    {
     "name": "stderr",
     "output_type": "stream",
     "text": [
      "52it [00:11,  5.20it/s]"
     ]
    },
    {
     "name": "stdout",
     "output_type": "stream",
     "text": [
      "Can you help me understand what Green Travel is and how it's related to students moving around?\n",
      "1/1 [==============================] - 0s 20ms/step\n",
      "Programmes and Degrees <class 'str'>\n"
     ]
    },
    {
     "name": "stderr",
     "output_type": "stream",
     "text": [
      "53it [00:12,  3.64it/s]"
     ]
    },
    {
     "name": "stdout",
     "output_type": "stream",
     "text": [
      "Could you list the current universities that KU students can pick from to partner with?\n",
      "1/1 [==============================] - 0s 45ms/step\n",
      "Study and Internship abroad <class 'str'>\n"
     ]
    },
    {
     "name": "stderr",
     "output_type": "stream",
     "text": [
      "54it [00:12,  3.47it/s]"
     ]
    },
    {
     "name": "stdout",
     "output_type": "stream",
     "text": [
      "How can I estimate the living costs in a specific country where I'll be studying abroad?\n",
      "1/1 [==============================] - 0s 20ms/step\n",
      "Campus <class 'str'>\n"
     ]
    },
    {
     "name": "stderr",
     "output_type": "stream",
     "text": [
      "55it [00:12,  3.97it/s]"
     ]
    },
    {
     "name": "stdout",
     "output_type": "stream",
     "text": [
      "Could you provide more information about the Erasmus Student Charter and why it matters for students?\n",
      "1/1 [==============================] - 0s 24ms/step\n",
      "Study and Internship abroad <class 'str'>\n"
     ]
    },
    {
     "name": "stderr",
     "output_type": "stream",
     "text": [
      "56it [00:13,  4.43it/s]"
     ]
    },
    {
     "name": "stdout",
     "output_type": "stream",
     "text": [
      "What are the various ways KU offers for students to move around, and how are they unique?\n",
      "1/1 [==============================] - 0s 25ms/step\n",
      "Student Housing <class 'str'>\n"
     ]
    },
    {
     "name": "stderr",
     "output_type": "stream",
     "text": [
      "57it [00:13,  4.64it/s]"
     ]
    },
    {
     "name": "stdout",
     "output_type": "stream",
     "text": [
      "Who meets the criteria for joining the Erasmus+ program to study, and what are the requirements?\n",
      "1/1 [==============================] - 0s 21ms/step\n",
      "Study and Internship abroad <class 'str'>\n"
     ]
    },
    {
     "name": "stderr",
     "output_type": "stream",
     "text": [
      "58it [00:13,  4.81it/s]"
     ]
    },
    {
     "name": "stdout",
     "output_type": "stream",
     "text": [
      "How do I start the process of applying for the study abroad program and what paperwork is necessary?\n",
      "1/1 [==============================] - 0s 20ms/step\n",
      "Admissions and Application Process <class 'str'>\n"
     ]
    },
    {
     "name": "stderr",
     "output_type": "stream",
     "text": [
      "59it [00:13,  5.17it/s]"
     ]
    },
    {
     "name": "stdout",
     "output_type": "stream",
     "text": [
      "How does the selection process work for applications, especially when it comes to grades and language skills?\n",
      "1/1 [==============================] - 0s 18ms/step\n",
      "Admissions and Application Process <class 'str'>\n"
     ]
    },
    {
     "name": "stderr",
     "output_type": "stream",
     "text": [
      "60it [00:13,  5.48it/s]"
     ]
    },
    {
     "name": "stdout",
     "output_type": "stream",
     "text": [
      "What papers do I need to put together and submit when I'm applying for an Erasmus+ exchange? \n",
      "1/1 [==============================] - 0s 20ms/step\n",
      "Study and Internship abroad <class 'str'>\n"
     ]
    },
    {
     "name": "stderr",
     "output_type": "stream",
     "text": [
      "61it [00:13,  5.31it/s]"
     ]
    },
    {
     "name": "stdout",
     "output_type": "stream",
     "text": [
      "Could you give me a step-by-step explanation of how to apply for the exchange program for studies? \n",
      "1/1 [==============================] - 0s 21ms/step\n",
      "Admissions and Application Process <class 'str'>\n"
     ]
    },
    {
     "name": "stderr",
     "output_type": "stream",
     "text": [
      "62it [00:14,  5.49it/s]"
     ]
    },
    {
     "name": "stdout",
     "output_type": "stream",
     "text": [
      "If I decide to change my courses while abroad, what's the procedure and potential impact?\n",
      "1/1 [==============================] - 0s 32ms/step\n",
      "Contacts <class 'str'>\n"
     ]
    },
    {
     "name": "stderr",
     "output_type": "stream",
     "text": [
      "63it [00:14,  5.53it/s]"
     ]
    },
    {
     "name": "stdout",
     "output_type": "stream",
     "text": [
      "If I want to stay longer at the partner university, how does that relate to the Financial Agreement?\n",
      "1/1 [==============================] - 0s 57ms/step\n",
      "Programmes and Degrees <class 'str'>\n"
     ]
    },
    {
     "name": "stderr",
     "output_type": "stream",
     "text": [
      "64it [00:14,  5.24it/s]"
     ]
    },
    {
     "name": "stdout",
     "output_type": "stream",
     "text": [
      "After I finish the program, what steps do I take, like sending confirmation and my study records?\n",
      "1/1 [==============================] - 0s 19ms/step\n",
      "Admissions and Application Process <class 'str'>\n"
     ]
    },
    {
     "name": "stderr",
     "output_type": "stream",
     "text": [
      "65it [00:14,  4.63it/s]"
     ]
    },
    {
     "name": "stdout",
     "output_type": "stream",
     "text": [
      "During and after the exchange, what obligations do students have, including the Learning Agreement?\n",
      "1/1 [==============================] - 0s 19ms/step\n",
      "Study and Internship abroad <class 'str'>\n"
     ]
    },
    {
     "name": "stderr",
     "output_type": "stream",
     "text": [
      "66it [00:14,  4.99it/s]"
     ]
    },
    {
     "name": "stdout",
     "output_type": "stream",
     "text": [
      "What's the process for getting the scholarship funds, and when do they arrive for students?\n",
      "1/1 [==============================] - 0s 30ms/step\n",
      "Contacts <class 'str'>\n"
     ]
    },
    {
     "name": "stderr",
     "output_type": "stream",
     "text": [
      "67it [00:15,  4.60it/s]"
     ]
    },
    {
     "name": "stdout",
     "output_type": "stream",
     "text": [
      "Who can get the Erasmus+ scholarship, and what do I need to do to be eligible?\n",
      "1/1 [==============================] - 0s 28ms/step\n",
      "Study and Internship abroad <class 'str'>\n"
     ]
    },
    {
     "name": "stderr",
     "output_type": "stream",
     "text": [
      "68it [00:15,  4.51it/s]"
     ]
    },
    {
     "name": "stdout",
     "output_type": "stream",
     "text": [
      "Can you tell me about the financial assistance available from the Erasmus+ program budget, and who's eligible?\n",
      "1/1 [==============================] - 0s 40ms/step\n"
     ]
    },
    {
     "name": "stderr",
     "output_type": "stream",
     "text": [
      "69it [00:15,  4.69it/s]"
     ]
    },
    {
     "name": "stdout",
     "output_type": "stream",
     "text": [
      "Study and Internship abroad <class 'str'>\n",
      "Can you provide more information about extra money for students in the Erasmus+ program?\n",
      "1/1 [==============================] - 0s 19ms/step\n",
      "Study and Internship abroad <class 'str'>\n"
     ]
    },
    {
     "name": "stderr",
     "output_type": "stream",
     "text": [
      "70it [00:15,  4.81it/s]"
     ]
    },
    {
     "name": "stdout",
     "output_type": "stream",
     "text": [
      "How does the Erasmus+ scholarship help with handling the differences in living costs?\n",
      "1/1 [==============================] - 0s 25ms/step\n",
      "Study and Internship abroad <class 'str'>\n"
     ]
    },
    {
     "name": "stderr",
     "output_type": "stream",
     "text": [
      "71it [00:16,  4.72it/s]"
     ]
    },
    {
     "name": "stdout",
     "output_type": "stream",
     "text": [
      "How does KU help students going abroad with finding housing and getting support during their time away?\n",
      "1/1 [==============================] - 0s 41ms/step\n"
     ]
    },
    {
     "name": "stderr",
     "output_type": "stream",
     "text": [
      "72it [00:16,  4.84it/s]"
     ]
    },
    {
     "name": "stdout",
     "output_type": "stream",
     "text": [
      "Contacts <class 'str'>\n",
      "What are the tasks students need to do when arranging flights, housing, visas, and insurance?\n",
      "1/1 [==============================] - 0s 19ms/step\n",
      "Student Housing <class 'str'>\n"
     ]
    },
    {
     "name": "stderr",
     "output_type": "stream",
     "text": [
      "73it [00:16,  5.16it/s]"
     ]
    },
    {
     "name": "stdout",
     "output_type": "stream",
     "text": [
      "How does the availability of Erasmus+ opportunities at KU affect the amount of scholarship money students get?\n",
      "1/1 [==============================] - 0s 19ms/step\n",
      "Study and Internship abroad <class 'str'>\n"
     ]
    },
    {
     "name": "stderr",
     "output_type": "stream",
     "text": [
      "74it [00:16,  4.57it/s]"
     ]
    },
    {
     "name": "stdout",
     "output_type": "stream",
     "text": [
      "Where can I find more details about the Erasmus+ program and what it offers?\n",
      "1/1 [==============================] - 0s 20ms/step\n"
     ]
    },
    {
     "name": "stderr",
     "output_type": "stream",
     "text": [
      "75it [00:16,  4.80it/s]"
     ]
    },
    {
     "name": "stdout",
     "output_type": "stream",
     "text": [
      "Study and Internship abroad <class 'str'>\n",
      "Can you explain how KU manages student exchanges with universities outside the European Union?\n",
      "1/1 [==============================] - 0s 18ms/step\n",
      "Study and Internship abroad <class 'str'>\n"
     ]
    },
    {
     "name": "stderr",
     "output_type": "stream",
     "text": [
      "76it [00:17,  5.11it/s]"
     ]
    },
    {
     "name": "stdout",
     "output_type": "stream",
     "text": [
      "Can you provide more information about the funding choices for students with disabilities or in financially tough situations?\n",
      "1/1 [==============================] - 0s 19ms/step\n",
      "Contacts <class 'str'>\n"
     ]
    },
    {
     "name": "stderr",
     "output_type": "stream",
     "text": [
      "77it [00:17,  5.36it/s]"
     ]
    },
    {
     "name": "stdout",
     "output_type": "stream",
     "text": [
      "How do the payments for scholarships work, and when will students receive the money?\n",
      "1/1 [==============================] - 0s 28ms/step\n",
      "Scholarship  <class 'str'>\n"
     ]
    },
    {
     "name": "stderr",
     "output_type": "stream",
     "text": [
      "78it [00:17,  5.56it/s]"
     ]
    },
    {
     "name": "stdout",
     "output_type": "stream",
     "text": [
      "How is the grading system converted for courses taken during an Erasmus+ exchange program?\n",
      "1/1 [==============================] - 0s 24ms/step\n",
      "Study and Internship abroad <class 'str'>\n"
     ]
    },
    {
     "name": "stderr",
     "output_type": "stream",
     "text": [
      "79it [00:17,  5.72it/s]"
     ]
    },
    {
     "name": "stdout",
     "output_type": "stream",
     "text": [
      "What are the criteria for getting the Erasmus+ scholarship based on how long I'll be studying abroad?\n",
      "1/1 [==============================] - 0s 18ms/step\n",
      "Study and Internship abroad <class 'str'>\n"
     ]
    },
    {
     "name": "stderr",
     "output_type": "stream",
     "text": [
      "80it [00:17,  5.83it/s]"
     ]
    },
    {
     "name": "stdout",
     "output_type": "stream",
     "text": [
      "Can you make it clearer about the options for co-funding different types of student movement?\n",
      "1/1 [==============================] - 0s 25ms/step\n",
      "Programmes and Degrees <class 'str'>\n"
     ]
    },
    {
     "name": "stderr",
     "output_type": "stream",
     "text": [
      "81it [00:18,  3.76it/s]"
     ]
    },
    {
     "name": "stdout",
     "output_type": "stream",
     "text": [
      "Can you give me more information about how KU's mobility capital functions and how students use it?\n",
      "1/1 [==============================] - 0s 22ms/step\n"
     ]
    },
    {
     "name": "stderr",
     "output_type": "stream",
     "text": [
      "82it [00:18,  4.26it/s]"
     ]
    },
    {
     "name": "stdout",
     "output_type": "stream",
     "text": [
      "Campus <class 'str'>\n",
      "How does KU assist students leaving for their studies with housing and support while they're away?\n",
      "1/1 [==============================] - 0s 20ms/step\n",
      "Student Housing <class 'str'>\n"
     ]
    },
    {
     "name": "stderr",
     "output_type": "stream",
     "text": [
      "83it [00:18,  4.64it/s]"
     ]
    },
    {
     "name": "stdout",
     "output_type": "stream",
     "text": [
      "What's the process like for sorting out flights, housing, visas, and insurance for students?\n",
      "1/1 [==============================] - 0s 20ms/step\n",
      "Contacts <class 'str'>\n"
     ]
    },
    {
     "name": "stderr",
     "output_type": "stream",
     "text": [
      "84it [00:18,  4.25it/s]"
     ]
    },
    {
     "name": "stdout",
     "output_type": "stream",
     "text": [
      "How do Erasmus+ projects at KU affect the amount of scholarship money and the support students receive?\n",
      "1/1 [==============================] - 0s 19ms/step\n",
      "Study and Internship abroad <class 'str'>\n"
     ]
    },
    {
     "name": "stderr",
     "output_type": "stream",
     "text": [
      "85it [00:18,  4.70it/s]"
     ]
    },
    {
     "name": "stdout",
     "output_type": "stream",
     "text": [
      "Hey there! I'm curious about the Erasmus+ exchange program. Could you shed some light on the factors that are considered when reviewing applications, especially when it comes to things like your overall grades and how well you know English?\n",
      "1/1 [==============================] - 0s 22ms/step\n",
      "Study and Internship abroad <class 'str'>\n"
     ]
    },
    {
     "name": "stderr",
     "output_type": "stream",
     "text": [
      "86it [00:19,  5.03it/s]"
     ]
    },
    {
     "name": "stdout",
     "output_type": "stream",
     "text": [
      "Hi, I'm getting ready for an Erasmus+ exchange adventure. Can you give me more details about how the Erasmus+ scholarship helps with managing the various expenses associated with living in different places?\n",
      "1/1 [==============================] - 0s 19ms/step\n",
      "Study and Internship abroad <class 'str'>\n"
     ]
    },
    {
     "name": "stderr",
     "output_type": "stream",
     "text": [
      "87it [00:19,  5.13it/s]"
     ]
    },
    {
     "name": "stdout",
     "output_type": "stream",
     "text": [
      "Hey, I'm looking to join an exchange program. Can you give me a rundown of the rules for the Erasmus+ program in the years 2022/2023 and 2021/2022?\n",
      "1/1 [==============================] - 0s 23ms/step\n",
      "Study and Internship abroad <class 'str'>\n"
     ]
    },
    {
     "name": "stderr",
     "output_type": "stream",
     "text": [
      "88it [00:19,  5.26it/s]"
     ]
    },
    {
     "name": "stdout",
     "output_type": "stream",
     "text": [
      "Hi, I'm trying to decide about studying on Erasmus+. Can you explain who can take part in the Erasmus+ exchange program for studies and what you need to be eligible?\n",
      "1/1 [==============================] - 0s 19ms/step\n",
      "Study and Internship abroad <class 'str'>\n"
     ]
    },
    {
     "name": "stderr",
     "output_type": "stream",
     "text": [
      "89it [00:19,  5.25it/s]"
     ]
    },
    {
     "name": "stdout",
     "output_type": "stream",
     "text": [
      "Hey, I'm thinking about going on an exchange program. Can you tell me how KU converts the grades I get during my exchange into our academic system?\n",
      "1/1 [==============================] - 0s 26ms/step\n",
      "Study and Internship abroad <class 'str'>\n"
     ]
    },
    {
     "name": "stderr",
     "output_type": "stream",
     "text": [
      "90it [00:19,  4.89it/s]"
     ]
    },
    {
     "name": "stdout",
     "output_type": "stream",
     "text": [
      "Hi there, I'm collecting info about the Erasmus+ Exchange Program. Can you break down how we choose partner universities and what criteria are considered?\n",
      "1/1 [==============================] - 0s 26ms/step\n",
      "Study and Internship abroad <class 'str'>\n"
     ]
    },
    {
     "name": "stderr",
     "output_type": "stream",
     "text": [
      "91it [00:20,  4.69it/s]"
     ]
    },
    {
     "name": "stdout",
     "output_type": "stream",
     "text": [
      "Hello, I'm trying to figure out if I should join the Erasmus+ program. Could you go into detail about the Erasmus Student Charter and how it helps students move around?\n",
      "1/1 [==============================] - 0s 22ms/step\n",
      "Study and Internship abroad <class 'str'>\n"
     ]
    },
    {
     "name": "stderr",
     "output_type": "stream",
     "text": [
      "92it [00:20,  4.75it/s]"
     ]
    },
    {
     "name": "stdout",
     "output_type": "stream",
     "text": [
      "Hey, I'm applying for an exchange program. Can you explain how much money you get from the Erasmus+ scholarship for different projects like KA131 2021-2023 and KA131 2022-2024?\n",
      "1/1 [==============================] - 0s 35ms/step\n",
      "Study and Internship abroad <class 'str'>\n"
     ]
    },
    {
     "name": "stderr",
     "output_type": "stream",
     "text": [
      "93it [00:20,  4.68it/s]"
     ]
    },
    {
     "name": "stdout",
     "output_type": "stream",
     "text": [
      "Hi, I'm filling out an application for an exchange program. Can you walk me through the steps to get an Erasmus+ scholarship and what documents I need?\n",
      "1/1 [==============================] - 0s 18ms/step\n",
      "Study and Internship abroad <class 'str'>\n"
     ]
    },
    {
     "name": "stderr",
     "output_type": "stream",
     "text": [
      "94it [00:20,  4.33it/s]"
     ]
    },
    {
     "name": "stdout",
     "output_type": "stream",
     "text": [
      "Hello, I'm deciding on studying abroad. Can you explain the various options for students to move around at KU and what these opportunities involve?\n",
      "1/1 [==============================] - 0s 18ms/step\n"
     ]
    },
    {
     "name": "stderr",
     "output_type": "stream",
     "text": [
      "95it [00:21,  4.79it/s]"
     ]
    },
    {
     "name": "stdout",
     "output_type": "stream",
     "text": [
      "Programmes and Degrees <class 'str'>\n",
      "Hi there, I'm looking at joining an exchange program. Can you tell me how you decide which courses to take at partner universities and how the credits transfer?\n",
      "1/1 [==============================] - 0s 19ms/step\n",
      "Study and Internship abroad <class 'str'>\n"
     ]
    },
    {
     "name": "stderr",
     "output_type": "stream",
     "text": [
      "96it [00:21,  5.15it/s]"
     ]
    },
    {
     "name": "stdout",
     "output_type": "stream",
     "text": [
      "Hey, I'm checking out the Erasmus+ Exchange Program. Can you explain what the Transcript of Records and Confirmation of Stay are and why they matter?\n",
      "1/1 [==============================] - 0s 20ms/step\n",
      "Study and Internship abroad <class 'str'>\n"
     ]
    },
    {
     "name": "stderr",
     "output_type": "stream",
     "text": [
      "97it [00:21,  5.20it/s]"
     ]
    },
    {
     "name": "stdout",
     "output_type": "stream",
     "text": [
      "Hello, I'm trying to understand how the Erasmus+ scholarship helps with living costs. Could you explain who can get this support and how it works?\n",
      "1/1 [==============================] - 0s 24ms/step\n",
      "Study and Internship abroad <class 'str'>\n"
     ]
    },
    {
     "name": "stderr",
     "output_type": "stream",
     "text": [
      "98it [00:21,  5.45it/s]"
     ]
    },
    {
     "name": "stdout",
     "output_type": "stream",
     "text": [
      "Hi, I'm filling out an exchange program application. Could you tell me about the deadlines, when to apply, and the steps I need to follow to make sure it's successful?\n",
      "1/1 [==============================] - 0s 25ms/step\n",
      "Admissions and Application Process <class 'str'>\n"
     ]
    },
    {
     "name": "stderr",
     "output_type": "stream",
     "text": [
      "99it [00:21,  5.45it/s]"
     ]
    },
    {
     "name": "stdout",
     "output_type": "stream",
     "text": [
      "Hey, I'm thinking about studying abroad. Can you guide me through what I need to do as a student before, during, and after the exchange program?\n",
      "1/1 [==============================] - 0s 37ms/step\n",
      "Admissions and Application Process <class 'str'>\n"
     ]
    },
    {
     "name": "stderr",
     "output_type": "stream",
     "text": [
      "100it [00:21,  4.82it/s]"
     ]
    },
    {
     "name": "stdout",
     "output_type": "stream",
     "text": [
      "Can you explain the scholarships and discounts available for Bachelor and Master students at KU?\n",
      "1/1 [==============================] - 0s 31ms/step\n"
     ]
    },
    {
     "name": "stderr",
     "output_type": "stream",
     "text": [
      "101it [00:22,  4.94it/s]"
     ]
    },
    {
     "name": "stdout",
     "output_type": "stream",
     "text": [
      "Programmes and Degrees <class 'str'>\n",
      "How can both full-time and part-time students apply for scholarships?\n",
      "1/1 [==============================] - 0s 41ms/step\n",
      "Scholarship  <class 'str'>\n"
     ]
    },
    {
     "name": "stderr",
     "output_type": "stream",
     "text": [
      "102it [00:22,  4.98it/s]"
     ]
    },
    {
     "name": "stdout",
     "output_type": "stream",
     "text": [
      "What is the duration for which scholarships are granted to students?\n",
      "1/1 [==============================] - 0s 20ms/step\n",
      "Scholarship  <class 'str'>\n"
     ]
    },
    {
     "name": "stderr",
     "output_type": "stream",
     "text": [
      "103it [00:22,  5.24it/s]"
     ]
    },
    {
     "name": "stdout",
     "output_type": "stream",
     "text": [
      "Which scholarships are exclusively available for full-time Bachelor program candidates?\n",
      "1/1 [==============================] - 0s 26ms/step\n",
      "Scholarship  <class 'str'>\n"
     ]
    },
    {
     "name": "stderr",
     "output_type": "stream",
     "text": [
      "104it [00:22,  5.20it/s]"
     ]
    },
    {
     "name": "stdout",
     "output_type": "stream",
     "text": [
      "What are the criteria for the \"For Future Business Leaders\" scholarship?\n",
      "1/1 [==============================] - 0s 28ms/step\n",
      "Scholarship  <class 'str'>\n"
     ]
    },
    {
     "name": "stderr",
     "output_type": "stream",
     "text": [
      "105it [00:23,  4.43it/s]"
     ]
    },
    {
     "name": "stdout",
     "output_type": "stream",
     "text": [
      "How are qualifying points calculated for Bachelor programs in English?\n",
      "1/1 [==============================] - 0s 18ms/step\n"
     ]
    },
    {
     "name": "stderr",
     "output_type": "stream",
     "text": [
      "106it [00:23,  4.84it/s]"
     ]
    },
    {
     "name": "stdout",
     "output_type": "stream",
     "text": [
      "Admissions and Application Process <class 'str'>\n",
      "What is the minimum qualifying point score for admission to KU programs?\n",
      "1/1 [==============================] - 0s 28ms/step\n",
      "Admissions and Application Process <class 'str'>\n"
     ]
    },
    {
     "name": "stderr",
     "output_type": "stream",
     "text": [
      "107it [00:23,  3.49it/s]"
     ]
    },
    {
     "name": "stdout",
     "output_type": "stream",
     "text": [
      "Can you clarify the qualifying point requirements for \"Scholarship for the Best Candidates\"?\n",
      "1/1 [==============================] - 0s 20ms/step\n"
     ]
    },
    {
     "name": "stderr",
     "output_type": "stream",
     "text": [
      "108it [00:23,  4.03it/s]"
     ]
    },
    {
     "name": "stdout",
     "output_type": "stream",
     "text": [
      "Scholarship  <class 'str'>\n",
      "What is the significance of the Scholarship Test for Master programs in Big Data Science?\n",
      "1/1 [==============================] - 0s 33ms/step\n",
      "Programmes and Degrees <class 'str'>\n"
     ]
    },
    {
     "name": "stderr",
     "output_type": "stream",
     "text": [
      "109it [00:24,  4.07it/s]"
     ]
    },
    {
     "name": "stdout",
     "output_type": "stream",
     "text": [
      "How does the \"Scholarship for Future Business Leaders\" differ for Master programs?\n",
      "1/1 [==============================] - 0s 41ms/step\n",
      "Programmes and Degrees <class 'str'>\n"
     ]
    },
    {
     "name": "stderr",
     "output_type": "stream",
     "text": [
      "110it [00:24,  4.19it/s]"
     ]
    },
    {
     "name": "stdout",
     "output_type": "stream",
     "text": [
      "What documents are required for the \"Scholarship for Future Business Leaders\" application?\n",
      "1/1 [==============================] - 0s 18ms/step\n",
      "Scholarship  <class 'str'>\n"
     ]
    },
    {
     "name": "stderr",
     "output_type": "stream",
     "text": [
      "111it [00:24,  4.63it/s]"
     ]
    },
    {
     "name": "stdout",
     "output_type": "stream",
     "text": [
      "Are KU graduates eligible for fee reductions when pursuing a Master's degree?\n",
      "1/1 [==============================] - 0s 19ms/step\n",
      "Double Degree programs <class 'str'>\n"
     ]
    },
    {
     "name": "stderr",
     "output_type": "stream",
     "text": [
      "112it [00:24,  4.95it/s]"
     ]
    },
    {
     "name": "stdout",
     "output_type": "stream",
     "text": [
      "What fee reduction do graduates receive when taking up a Bachelor's degree?\n",
      "1/1 [==============================] - 0s 76ms/step\n",
      "Internship <class 'str'>\n"
     ]
    },
    {
     "name": "stderr",
     "output_type": "stream",
     "text": [
      "113it [00:24,  4.44it/s]"
     ]
    },
    {
     "name": "stdout",
     "output_type": "stream",
     "text": [
      "How does the discount system work for students studying two majors concurrently?\n",
      "1/1 [==============================] - 0s 24ms/step\n",
      "Contacts <class 'str'>\n"
     ]
    },
    {
     "name": "stderr",
     "output_type": "stream",
     "text": [
      "114it [00:25,  4.80it/s]"
     ]
    },
    {
     "name": "stdout",
     "output_type": "stream",
     "text": [
      "Are there any discounts for students enrolled in multiple programs at the same time?\n",
      "1/1 [==============================] - 0s 25ms/step\n",
      "Programmes and Degrees <class 'str'>\n"
     ]
    },
    {
     "name": "stderr",
     "output_type": "stream",
     "text": [
      "115it [00:25,  5.08it/s]"
     ]
    },
    {
     "name": "stdout",
     "output_type": "stream",
     "text": [
      "Can you explain the discount for children or siblings of other students?\n",
      "1/1 [==============================] - 0s 24ms/step\n",
      "Programmes and Degrees <class 'str'>\n"
     ]
    },
    {
     "name": "stderr",
     "output_type": "stream",
     "text": [
      "116it [00:25,  5.31it/s]"
     ]
    },
    {
     "name": "stdout",
     "output_type": "stream",
     "text": [
      "What discounts are available for alumni of Kozminski University?\n",
      "1/1 [==============================] - 0s 27ms/step\n",
      "Contacts <class 'str'>\n"
     ]
    },
    {
     "name": "stderr",
     "output_type": "stream",
     "text": [
      "117it [00:25,  5.46it/s]"
     ]
    },
    {
     "name": "stdout",
     "output_type": "stream",
     "text": [
      "Are there any discounts for Master programs for KU Bachelor program alumni?\n",
      "1/1 [==============================] - 0s 22ms/step\n",
      "Programmes and Degrees <class 'str'>\n"
     ]
    },
    {
     "name": "stderr",
     "output_type": "stream",
     "text": [
      "118it [00:25,  5.42it/s]"
     ]
    },
    {
     "name": "stdout",
     "output_type": "stream",
     "text": [
      "How can I obtain more information about state budget financial scholarships?\n",
      "1/1 [==============================] - 0s 19ms/step\n",
      "Scholarship  <class 'str'>\n"
     ]
    },
    {
     "name": "stderr",
     "output_type": "stream",
     "text": [
      "119it [00:25,  5.48it/s]"
     ]
    },
    {
     "name": "stdout",
     "output_type": "stream",
     "text": [
      "Where can I find details about the Scholarship Program for foreign Master programs applicants?\n",
      "1/1 [==============================] - 0s 21ms/step\n",
      "Programmes and Degrees <class 'str'>\n"
     ]
    },
    {
     "name": "stderr",
     "output_type": "stream",
     "text": [
      "120it [00:26,  5.62it/s]"
     ]
    },
    {
     "name": "stdout",
     "output_type": "stream",
     "text": [
      "What are the criteria for the Kozminski Foundation Scholarships?\n",
      "1/1 [==============================] - 0s 102ms/step\n",
      "Scholarship  <class 'str'>\n"
     ]
    },
    {
     "name": "stderr",
     "output_type": "stream",
     "text": [
      "121it [00:26,  4.87it/s]"
     ]
    },
    {
     "name": "stdout",
     "output_type": "stream",
     "text": [
      "How do the Kozminski Foundation Scholarships support students' ambitions?\n",
      "1/1 [==============================] - 0s 19ms/step\n",
      "Scholarship  <class 'str'>\n"
     ]
    },
    {
     "name": "stderr",
     "output_type": "stream",
     "text": [
      "122it [00:26,  5.16it/s]"
     ]
    },
    {
     "name": "stdout",
     "output_type": "stream",
     "text": [
      "What was the total number of recipients for the Kozminski Foundation Scholarships in 2019?\n",
      "1/1 [==============================] - 0s 23ms/step\n",
      "Scholarship  <class 'str'>\n"
     ]
    },
    {
     "name": "stderr",
     "output_type": "stream",
     "text": [
      "123it [00:26,  5.36it/s]"
     ]
    },
    {
     "name": "stdout",
     "output_type": "stream",
     "text": [
      "What's the GPA and online test score criteria for full-time Master program admission?\n",
      "1/1 [==============================] - 0s 34ms/step\n",
      "Admissions and Application Process <class 'str'>\n"
     ]
    },
    {
     "name": "stderr",
     "output_type": "stream",
     "text": [
      "124it [00:26,  5.04it/s]"
     ]
    },
    {
     "name": "stdout",
     "output_type": "stream",
     "text": [
      "What's the process for scoring candidates for admission to Master programs?\n",
      "1/1 [==============================] - 0s 19ms/step\n",
      "Admissions and Application Process <class 'str'>\n"
     ]
    },
    {
     "name": "stderr",
     "output_type": "stream",
     "text": [
      "125it [00:27,  5.23it/s]"
     ]
    },
    {
     "name": "stdout",
     "output_type": "stream",
     "text": [
      "Can you provide details about the \"Scholarship for Future Business Leaders\" for Master programs?\n",
      "1/1 [==============================] - 0s 23ms/step\n",
      "Programmes and Degrees <class 'str'>\n"
     ]
    },
    {
     "name": "stderr",
     "output_type": "stream",
     "text": [
      "126it [00:27,  5.43it/s]"
     ]
    },
    {
     "name": "stdout",
     "output_type": "stream",
     "text": [
      "What is the essay topic for the \"Scholarship for Future Business Leaders\" application?\n",
      "1/1 [==============================] - 0s 30ms/step\n",
      "Scholarship  <class 'str'>\n"
     ]
    },
    {
     "name": "stderr",
     "output_type": "stream",
     "text": [
      "127it [00:27,  5.44it/s]"
     ]
    },
    {
     "name": "stdout",
     "output_type": "stream",
     "text": [
      "How are recipients of the \"Scholarship for Future Business Leaders\" chosen?\n",
      "1/1 [==============================] - 0s 23ms/step\n",
      "Scholarship  <class 'str'>\n"
     ]
    },
    {
     "name": "stderr",
     "output_type": "stream",
     "text": [
      "128it [00:27,  5.63it/s]"
     ]
    },
    {
     "name": "stdout",
     "output_type": "stream",
     "text": [
      "Can you clarify the duration and amount of the \"Scholarship for Future Business Leaders\"?\n",
      "1/1 [==============================] - 0s 21ms/step\n",
      "Scholarship  <class 'str'>\n"
     ]
    },
    {
     "name": "stderr",
     "output_type": "stream",
     "text": [
      "129it [00:27,  5.33it/s]"
     ]
    },
    {
     "name": "stdout",
     "output_type": "stream",
     "text": [
      "How do discounts apply to graduates taking up a Master's degree at KU?\n",
      "1/1 [==============================] - 0s 37ms/step\n",
      "Admissions and Application Process <class 'str'>\n"
     ]
    },
    {
     "name": "stderr",
     "output_type": "stream",
     "text": [
      "130it [00:28,  4.97it/s]"
     ]
    },
    {
     "name": "stdout",
     "output_type": "stream",
     "text": [
      "What discounts do Bachelor's degree graduates receive when pursuing another degree?\n",
      "1/1 [==============================] - 0s 22ms/step\n",
      "Double Degree programs <class 'str'>\n"
     ]
    },
    {
     "name": "stderr",
     "output_type": "stream",
     "text": [
      "131it [00:28,  4.45it/s]"
     ]
    },
    {
     "name": "stdout",
     "output_type": "stream",
     "text": [
      "Are there any discounts for students studying two majors on the Master in Management program?\n",
      "1/1 [==============================] - 0s 24ms/step\n"
     ]
    },
    {
     "name": "stderr",
     "output_type": "stream",
     "text": [
      "132it [00:28,  3.82it/s]"
     ]
    },
    {
     "name": "stdout",
     "output_type": "stream",
     "text": [
      "Programmes and Degrees <class 'str'>\n",
      "What discount applies to students pursuing two programs simultaneously?\n",
      "1/1 [==============================] - 0s 20ms/step\n",
      "Admissions and Application Process <class 'str'>\n"
     ]
    },
    {
     "name": "stderr",
     "output_type": "stream",
     "text": [
      "133it [00:29,  2.95it/s]"
     ]
    },
    {
     "name": "stdout",
     "output_type": "stream",
     "text": [
      "Can you explain the fee reduction for children or siblings of other students?\n",
      "1/1 [==============================] - 0s 20ms/step\n"
     ]
    },
    {
     "name": "stderr",
     "output_type": "stream",
     "text": [
      "134it [00:29,  3.41it/s]"
     ]
    },
    {
     "name": "stdout",
     "output_type": "stream",
     "text": [
      "Programmes and Degrees <class 'str'>\n",
      "Are there any discounts available for KU alumni in Master programs? \n",
      "1/1 [==============================] - 0s 23ms/step\n",
      "Programmes and Degrees <class 'str'>\n"
     ]
    },
    {
     "name": "stderr",
     "output_type": "stream",
     "text": [
      "135it [00:29,  3.92it/s]"
     ]
    },
    {
     "name": "stdout",
     "output_type": "stream",
     "text": [
      "Hi, I'm a Bachelor's program student and I'm trying to understand the scholarship options available. Can you provide a comprehensive overview of the scholarships and discounts that both Bachelor and Master students at KU can apply for?\n",
      "1/1 [==============================] - 0s 22ms/step\n",
      "Scholarship  <class 'str'>\n"
     ]
    },
    {
     "name": "stderr",
     "output_type": "stream",
     "text": [
      "136it [00:29,  4.35it/s]"
     ]
    },
    {
     "name": "stdout",
     "output_type": "stream",
     "text": [
      "Hello, I'm a Master's program applicant and I'm seeking information to assist my decision-making process. Could you elaborate on the application process and criteria for the \"Scholarship for Future Business Leaders\"?\n",
      "1/1 [==============================] - 0s 28ms/step\n"
     ]
    },
    {
     "name": "stderr",
     "output_type": "stream",
     "text": [
      "137it [00:29,  4.51it/s]"
     ]
    },
    {
     "name": "stdout",
     "output_type": "stream",
     "text": [
      "Scholarship  <class 'str'>\n",
      "Hi there, I'm a Bachelor's program student considering applying for scholarships. Can you explain in detail how qualifying points are calculated for the \"Scholarship for the Best Candidates,\" and what score is required for eligibility?\n",
      "1/1 [==============================] - 0s 26ms/step\n",
      "Scholarship  <class 'str'>\n"
     ]
    },
    {
     "name": "stderr",
     "output_type": "stream",
     "text": [
      "138it [00:30,  4.75it/s]"
     ]
    },
    {
     "name": "stdout",
     "output_type": "stream",
     "text": [
      "Hello, I'm a prospective Master's program student interested in scholarships. Can you provide a step-by-step explanation of the admission criteria and scholarship opportunities for the Master in Big Data Science Program?\n",
      "1/1 [==============================] - 0s 19ms/step\n",
      "Scholarship  <class 'str'>\n"
     ]
    },
    {
     "name": "stderr",
     "output_type": "stream",
     "text": [
      "139it [00:30,  5.11it/s]"
     ]
    },
    {
     "name": "stdout",
     "output_type": "stream",
     "text": [
      "Hi, I'm planning to pursue a Master's degree and I'm exploring scholarship options. Could you walk me through the process of the Scholarship Test for the Master in Big Data Science Program and its impact on scholarships?\n",
      "1/1 [==============================] - 0s 28ms/step\n",
      "Scholarship  <class 'str'>\n"
     ]
    },
    {
     "name": "stderr",
     "output_type": "stream",
     "text": [
      "140it [00:30,  5.27it/s]"
     ]
    },
    {
     "name": "stdout",
     "output_type": "stream",
     "text": [
      "Hello, I'm a Master's program applicant and I'm interested in the \"Scholarship for Future Business Leaders.\" Can you provide a detailed breakdown of the application process, including the required documents and essay topic?\n",
      "1/1 [==============================] - 0s 26ms/step\n",
      "Scholarship  <class 'str'>\n"
     ]
    },
    {
     "name": "stderr",
     "output_type": "stream",
     "text": [
      "141it [00:30,  5.31it/s]"
     ]
    },
    {
     "name": "stdout",
     "output_type": "stream",
     "text": [
      "Hi there, I'm trying to make an informed decision about studying at KU and I'm curious about discounts. Can you provide comprehensive information about the discounts available for KU graduates pursuing both Bachelor and Master programs?\n",
      "1/1 [==============================] - 0s 102ms/step\n",
      "Programmes and Degrees <class 'str'>\n"
     ]
    },
    {
     "name": "stderr",
     "output_type": "stream",
     "text": [
      "142it [00:30,  4.64it/s]"
     ]
    },
    {
     "name": "stdout",
     "output_type": "stream",
     "text": [
      "Hello, I need this information to support my studies. Can you explain the different discount percentages for various scenarios, such as studying two majors, enrolling in multiple programs, or being a child/sibling of another student?\n",
      "1/1 [==============================] - 0s 19ms/step\n",
      "Admissions and Application Process <class 'str'>\n"
     ]
    },
    {
     "name": "stderr",
     "output_type": "stream",
     "text": [
      "143it [00:31,  5.01it/s]"
     ]
    },
    {
     "name": "stdout",
     "output_type": "stream",
     "text": [
      "Hi, I'm exploring the scholarship options for KU alumni and I'm interested in the Kozminski Foundation Scholarships. Could you provide a detailed overview of these scholarships, their eligibility criteria, and their significance for students?\n",
      "1/1 [==============================] - 0s 28ms/step\n",
      "Scholarship  <class 'str'>\n"
     ]
    },
    {
     "name": "stderr",
     "output_type": "stream",
     "text": [
      "144it [00:31,  5.09it/s]"
     ]
    },
    {
     "name": "stdout",
     "output_type": "stream",
     "text": [
      "Hello, I'm considering applying for a Master's program and I'm curious about the \"Scholarship for Future Business Leaders.\" Can you provide an extensive explanation of the entire process, including the GPA and test score criteria, essay topic, and how recipients are chosen? \n",
      "1/1 [==============================] - 0s 23ms/step\n",
      "Scholarship  <class 'str'>\n"
     ]
    },
    {
     "name": "stderr",
     "output_type": "stream",
     "text": [
      "145it [00:31,  5.34it/s]"
     ]
    },
    {
     "name": "stdout",
     "output_type": "stream",
     "text": [
      "Hi, I'm a Master's program applicant and I'm seeking information to make an informed decision. Can you guide me through the process of applying for the \"Scholarship for Future Business Leaders,\" including the submission of documents and the timeline for the application?\n",
      "1/1 [==============================] - 0s 19ms/step\n",
      "Scholarship  <class 'str'>\n"
     ]
    },
    {
     "name": "stderr",
     "output_type": "stream",
     "text": [
      "146it [00:31,  5.46it/s]"
     ]
    },
    {
     "name": "stdout",
     "output_type": "stream",
     "text": [
      "Hello, I'm a prospective student interested in scholarships. Can you explain the process and criteria for the \"Scholarship for the Best Candidates\" in Bachelor programs, particularly how qualifying points are calculated and what different levels of scholarships are available?\n",
      "1/1 [==============================] - 0s 43ms/step\n",
      "Scholarship  <class 'str'>\n"
     ]
    },
    {
     "name": "stderr",
     "output_type": "stream",
     "text": [
      "147it [00:31,  5.19it/s]"
     ]
    },
    {
     "name": "stdout",
     "output_type": "stream",
     "text": [
      "Hi there, I'm a current Bachelor's program student exploring future scholarship options. Can you provide a detailed overview of the scholarships available exclusively for full-time Bachelor program candidates, including the \"For Future Business Leaders\" and \"For the Best Candidates\" scholarships?\n",
      "1/1 [==============================] - 0s 18ms/step\n",
      "Scholarship  <class 'str'>\n"
     ]
    },
    {
     "name": "stderr",
     "output_type": "stream",
     "text": [
      "148it [00:32,  5.44it/s]"
     ]
    },
    {
     "name": "stdout",
     "output_type": "stream",
     "text": [
      "Hello, I'm a Master's program applicant with a strong academic background. Could you elaborate on the Kozminski Foundation Scholarships and how they reward exceptional academic and organizational achievements, as well as their significance in supporting students' ambitions?\n",
      "1/1 [==============================] - 0s 31ms/step\n",
      "Programmes and Degrees <class 'str'>\n"
     ]
    },
    {
     "name": "stderr",
     "output_type": "stream",
     "text": [
      "149it [00:32,  5.27it/s]"
     ]
    },
    {
     "name": "stdout",
     "output_type": "stream",
     "text": [
      "Hi, I'm a Bachelor's program student looking to maximize my financial support for further studies. Can you provide an in-depth explanation of the state budget financial scholarships and the scholarship program offered by the Polish National Agency for Academic Exchange for foreign Master programs applicants?\n",
      "1/1 [==============================] - 0s 25ms/step\n",
      "Scholarship  <class 'str'>\n"
     ]
    },
    {
     "name": "stderr",
     "output_type": "stream",
     "text": [
      "150it [00:32,  5.29it/s]"
     ]
    },
    {
     "name": "stdout",
     "output_type": "stream",
     "text": [
      "What are the main advantages of doing a double degree programme?\n",
      "1/1 [==============================] - 0s 100ms/step\n",
      "Double Degree programs <class 'str'>\n"
     ]
    },
    {
     "name": "stderr",
     "output_type": "stream",
     "text": [
      "151it [00:32,  3.71it/s]"
     ]
    },
    {
     "name": "stdout",
     "output_type": "stream",
     "text": [
      "How can I benefit from completing a double degree course?\n",
      "1/1 [==============================] - 0s 21ms/step\n"
     ]
    },
    {
     "name": "stderr",
     "output_type": "stream",
     "text": [
      "152it [00:33,  4.01it/s]"
     ]
    },
    {
     "name": "stdout",
     "output_type": "stream",
     "text": [
      "Double Degree programs <class 'str'>\n",
      "Which programs offer an opporuinity of double degree\n",
      "1/1 [==============================] - 0s 22ms/step\n",
      "Double Degree programs <class 'str'>\n"
     ]
    },
    {
     "name": "stderr",
     "output_type": "stream",
     "text": [
      "153it [00:33,  4.21it/s]"
     ]
    },
    {
     "name": "stdout",
     "output_type": "stream",
     "text": [
      "Would I get two diplomas bystudying a double degree progeramme?\n",
      "1/1 [==============================] - 0s 30ms/step\n"
     ]
    },
    {
     "name": "stderr",
     "output_type": "stream",
     "text": [
      "154it [00:33,  4.43it/s]"
     ]
    },
    {
     "name": "stdout",
     "output_type": "stream",
     "text": [
      "Double Degree programs <class 'str'>\n",
      "What is a double degree program, and how does it differ from a regular degree?\n",
      "1/1 [==============================] - 0s 20ms/step\n",
      "Double Degree programs <class 'str'>\n"
     ]
    },
    {
     "name": "stderr",
     "output_type": "stream",
     "text": [
      "155it [00:33,  4.84it/s]"
     ]
    },
    {
     "name": "stdout",
     "output_type": "stream",
     "text": [
      "Are there specific application requirements for a double degree program?\n",
      "1/1 [==============================] - 0s 20ms/step\n",
      "Double Degree programs <class 'str'>\n"
     ]
    },
    {
     "name": "stderr",
     "output_type": "stream",
     "text": [
      "156it [00:33,  4.99it/s]"
     ]
    },
    {
     "name": "stdout",
     "output_type": "stream",
     "text": [
      "Can you provide an overview of the benefits of participating in a double degree program?\n",
      "1/1 [==============================] - 0s 30ms/step\n",
      "Double Degree programs <class 'str'>\n"
     ]
    },
    {
     "name": "stderr",
     "output_type": "stream",
     "text": [
      "157it [00:34,  4.57it/s]"
     ]
    },
    {
     "name": "stdout",
     "output_type": "stream",
     "text": [
      "Are there any additional fees associated with participating in a double degree program?\n",
      "1/1 [==============================] - 0s 27ms/step\n"
     ]
    },
    {
     "name": "stderr",
     "output_type": "stream",
     "text": [
      "158it [00:34,  4.76it/s]"
     ]
    },
    {
     "name": "stdout",
     "output_type": "stream",
     "text": [
      "Double Degree programs <class 'str'>\n",
      "Can I choose any combination of majors for my double degree program?\n",
      "1/1 [==============================] - 0s 20ms/step\n",
      "Double Degree programs <class 'str'>\n"
     ]
    },
    {
     "name": "stderr",
     "output_type": "stream",
     "text": [
      "159it [00:34,  5.03it/s]"
     ]
    },
    {
     "name": "stdout",
     "output_type": "stream",
     "text": [
      "How are classes and coursework structured for students in double degree programs?\n",
      "1/1 [==============================] - 0s 19ms/step\n",
      "Double Degree programs <class 'str'>\n"
     ]
    },
    {
     "name": "stderr",
     "output_type": "stream",
     "text": [
      "160it [00:34,  3.51it/s]"
     ]
    },
    {
     "name": "stdout",
     "output_type": "stream",
     "text": [
      "What are the potential career advantages of completing a double degree program?\n",
      "1/1 [==============================] - 0s 24ms/step\n",
      "Double Degree programs <class 'str'>\n"
     ]
    },
    {
     "name": "stderr",
     "output_type": "stream",
     "text": [
      "161it [00:35,  3.58it/s]"
     ]
    },
    {
     "name": "stdout",
     "output_type": "stream",
     "text": [
      "Do I need to apply separately to each of the degree programs in the double degree program?\n",
      "1/1 [==============================] - 0s 24ms/step\n"
     ]
    },
    {
     "name": "stderr",
     "output_type": "stream",
     "text": [
      "162it [00:35,  4.06it/s]"
     ]
    },
    {
     "name": "stdout",
     "output_type": "stream",
     "text": [
      "Double Degree programs <class 'str'>\n",
      "Are there any specific prerequisites or requirements for each degree in the double degree program?\n",
      "1/1 [==============================] - 0s 30ms/step\n",
      "Double Degree programs <class 'str'>\n"
     ]
    },
    {
     "name": "stderr",
     "output_type": "stream",
     "text": [
      "163it [00:35,  4.44it/s]"
     ]
    },
    {
     "name": "stdout",
     "output_type": "stream",
     "text": [
      "Are scholarships or financial aid options available for double degree students?\n",
      "1/1 [==============================] - 0s 19ms/step\n",
      "Double Degree programs <class 'str'>\n"
     ]
    },
    {
     "name": "stderr",
     "output_type": "stream",
     "text": [
      "164it [00:35,  4.73it/s]"
     ]
    },
    {
     "name": "stdout",
     "output_type": "stream",
     "text": [
      "What is the diploma or degree certificate for a double degree program like?\n",
      "1/1 [==============================] - 0s 27ms/step\n",
      "Double Degree programs <class 'str'>\n"
     ]
    },
    {
     "name": "stderr",
     "output_type": "stream",
     "text": [
      "165it [00:35,  4.97it/s]"
     ]
    },
    {
     "name": "stdout",
     "output_type": "stream",
     "text": [
      "Is it possible to switch to a regular degree program if I change my mind about the double degree?\n",
      "1/1 [==============================] - 0s 28ms/step\n",
      "Double Degree programs <class 'str'>\n"
     ]
    },
    {
     "name": "stderr",
     "output_type": "stream",
     "text": [
      "166it [00:36,  4.97it/s]"
     ]
    },
    {
     "name": "stdout",
     "output_type": "stream",
     "text": [
      "Can I apply for a double degree program after I have already started my studies at the university?\n",
      "1/1 [==============================] - 0s 19ms/step\n",
      "Double Degree programs <class 'str'>\n"
     ]
    },
    {
     "name": "stderr",
     "output_type": "stream",
     "text": [
      "167it [00:36,  5.20it/s]"
     ]
    },
    {
     "name": "stdout",
     "output_type": "stream",
     "text": [
      "Is there a separate application deadline for double degree programs?\n",
      "1/1 [==============================] - 0s 33ms/step\n",
      "Double Degree programs <class 'str'>\n"
     ]
    },
    {
     "name": "stderr",
     "output_type": "stream",
     "text": [
      "168it [00:36,  5.06it/s]"
     ]
    },
    {
     "name": "stdout",
     "output_type": "stream",
     "text": [
      "Are there any academic advisors or counselors specifically for double degree students?\n",
      "1/1 [==============================] - 0s 19ms/step\n",
      "Double Degree programs <class 'str'>\n"
     ]
    },
    {
     "name": "stderr",
     "output_type": "stream",
     "text": [
      "169it [00:36,  5.29it/s]"
     ]
    },
    {
     "name": "stdout",
     "output_type": "stream",
     "text": [
      "What happens if I need to retake a course or if I fail a course in one of the degrees?\n",
      "1/1 [==============================] - 0s 28ms/step\n",
      "Contacts <class 'str'>\n"
     ]
    },
    {
     "name": "stderr",
     "output_type": "stream",
     "text": [
      "170it [00:36,  5.16it/s]"
     ]
    },
    {
     "name": "stdout",
     "output_type": "stream",
     "text": [
      "Can I take a break or study abroad during my time in the double degree program?\n",
      "1/1 [==============================] - 0s 32ms/step\n",
      "Double Degree programs <class 'str'>\n"
     ]
    },
    {
     "name": "stderr",
     "output_type": "stream",
     "text": [
      "171it [00:37,  4.12it/s]"
     ]
    },
    {
     "name": "stdout",
     "output_type": "stream",
     "text": [
      "How can I connect with other students in the same double degree program?\n",
      "1/1 [==============================] - 0s 21ms/step\n",
      "Double Degree programs <class 'str'>\n"
     ]
    },
    {
     "name": "stderr",
     "output_type": "stream",
     "text": [
      "172it [00:37,  4.25it/s]"
     ]
    },
    {
     "name": "stdout",
     "output_type": "stream",
     "text": [
      "Are there workshops or resources to help double degree students?\n",
      "1/1 [==============================] - 0s 36ms/step\n"
     ]
    },
    {
     "name": "stderr",
     "output_type": "stream",
     "text": [
      "173it [00:37,  4.37it/s]"
     ]
    },
    {
     "name": "stdout",
     "output_type": "stream",
     "text": [
      "Double Degree programs <class 'str'>\n",
      "Can I customize my internship experiences to align with both of my degree areas?\n",
      "1/1 [==============================] - 0s 25ms/step\n",
      "Internship <class 'str'>\n"
     ]
    },
    {
     "name": "stderr",
     "output_type": "stream",
     "text": [
      "174it [00:37,  4.70it/s]"
     ]
    },
    {
     "name": "stdout",
     "output_type": "stream",
     "text": [
      "Do employers value the combination of degrees in a double degree program?\n",
      "1/1 [==============================] - 0s 19ms/step\n",
      "Double Degree programs <class 'str'>\n"
     ]
    },
    {
     "name": "stderr",
     "output_type": "stream",
     "text": [
      "175it [00:37,  5.01it/s]"
     ]
    },
    {
     "name": "stdout",
     "output_type": "stream",
     "text": [
      "What are some common challenges that double degree students might face?\n",
      "1/1 [==============================] - 0s 26ms/step\n",
      "Double Degree programs <class 'str'>\n"
     ]
    },
    {
     "name": "stderr",
     "output_type": "stream",
     "text": [
      "176it [00:38,  5.17it/s]"
     ]
    },
    {
     "name": "stdout",
     "output_type": "stream",
     "text": [
      "What academic resources are available to help double degree students overcome challenges?\n",
      "1/1 [==============================] - 0s 33ms/step\n",
      "Double Degree programs <class 'str'>\n"
     ]
    },
    {
     "name": "stderr",
     "output_type": "stream",
     "text": [
      "177it [00:38,  5.08it/s]"
     ]
    },
    {
     "name": "stdout",
     "output_type": "stream",
     "text": [
      "How do I determine which combination of degrees is right for me in a double degree program?\n",
      "1/1 [==============================] - 0s 21ms/step\n",
      "Double Degree programs <class 'str'>\n"
     ]
    },
    {
     "name": "stderr",
     "output_type": "stream",
     "text": [
      "178it [00:38,  5.22it/s]"
     ]
    },
    {
     "name": "stdout",
     "output_type": "stream",
     "text": [
      "Can I modify the standard course sequence to accommodate personal interests or study abroad?\n",
      "1/1 [==============================] - 0s 23ms/step\n",
      "Contacts <class 'str'>\n"
     ]
    },
    {
     "name": "stderr",
     "output_type": "stream",
     "text": [
      "179it [00:38,  4.83it/s]"
     ]
    },
    {
     "name": "stdout",
     "output_type": "stream",
     "text": [
      "Are there any exemptions from certain courses if I've already covered similar material in my other degree?\n",
      "1/1 [==============================] - 0s 19ms/step\n",
      "Double Degree programs <class 'str'>\n"
     ]
    },
    {
     "name": "stderr",
     "output_type": "stream",
     "text": [
      "180it [00:39,  4.54it/s]"
     ]
    },
    {
     "name": "stdout",
     "output_type": "stream",
     "text": [
      "Are there networking events or alumni gatherings specifically for double degree graduates?\n",
      "1/1 [==============================] - 0s 18ms/step\n"
     ]
    },
    {
     "name": "stderr",
     "output_type": "stream",
     "text": [
      "181it [00:39,  4.81it/s]"
     ]
    },
    {
     "name": "stdout",
     "output_type": "stream",
     "text": [
      "Double Degree programs <class 'str'>\n",
      "How does an international experience align with completing requirements for both degrees?\n",
      "1/1 [==============================] - 0s 26ms/step\n",
      "Internship <class 'str'>\n"
     ]
    },
    {
     "name": "stderr",
     "output_type": "stream",
     "text": [
      "182it [00:39,  5.09it/s]"
     ]
    },
    {
     "name": "stdout",
     "output_type": "stream",
     "text": [
      "Can I participate in study abroad or international exchange programs while in a double degree program?\n",
      "1/1 [==============================] - 0s 20ms/step\n",
      "Double Degree programs <class 'str'>\n"
     ]
    },
    {
     "name": "stderr",
     "output_type": "stream",
     "text": [
      "183it [00:39,  5.26it/s]"
     ]
    },
    {
     "name": "stdout",
     "output_type": "stream",
     "text": [
      "What is the difference between pursuing a double major and a double degree?\n",
      "1/1 [==============================] - 0s 27ms/step\n",
      "Double Degree programs <class 'str'>\n"
     ]
    },
    {
     "name": "stderr",
     "output_type": "stream",
     "text": [
      "184it [00:39,  5.14it/s]"
     ]
    },
    {
     "name": "stdout",
     "output_type": "stream",
     "text": [
      "Are there joint thesis opportunities that combine elements from both degrees?\n",
      "1/1 [==============================] - 0s 41ms/step\n",
      "Programmes and Degrees <class 'str'>\n"
     ]
    },
    {
     "name": "stderr",
     "output_type": "stream",
     "text": [
      "185it [00:40,  3.22it/s]"
     ]
    },
    {
     "name": "stdout",
     "output_type": "stream",
     "text": [
      "Are there any specific industries or career paths that highly value candidates with double degrees?\n",
      "1/1 [==============================] - 0s 20ms/step\n"
     ]
    },
    {
     "name": "stderr",
     "output_type": "stream",
     "text": [
      "186it [00:40,  3.68it/s]"
     ]
    },
    {
     "name": "stdout",
     "output_type": "stream",
     "text": [
      "Double Degree programs <class 'str'>\n",
      "As an internaional student, what are main considerations for choosing a double degree program?\n",
      "1/1 [==============================] - 0s 28ms/step\n",
      "Double Degree programs <class 'str'>\n"
     ]
    },
    {
     "name": "stderr",
     "output_type": "stream",
     "text": [
      "187it [00:40,  4.07it/s]"
     ]
    },
    {
     "name": "stdout",
     "output_type": "stream",
     "text": [
      "Are there any common diffictulties regarding mobility for double degree students?\n",
      "1/1 [==============================] - 0s 18ms/step\n",
      "Double Degree programs <class 'str'>\n"
     ]
    },
    {
     "name": "stderr",
     "output_type": "stream",
     "text": [
      "188it [00:40,  4.31it/s]"
     ]
    },
    {
     "name": "stdout",
     "output_type": "stream",
     "text": [
      "What universities does Kozminski partner with for double degree programmes?\n",
      "1/1 [==============================] - 0s 20ms/step\n",
      "Double Degree programs <class 'str'>\n"
     ]
    },
    {
     "name": "stderr",
     "output_type": "stream",
     "text": [
      "189it [00:41,  4.62it/s]"
     ]
    },
    {
     "name": "stdout",
     "output_type": "stream",
     "text": [
      "Could you provide me a list of destinations that I can choose for a double degree programme?\n",
      "1/1 [==============================] - 0s 40ms/step\n",
      "Double Degree programs <class 'str'>\n"
     ]
    },
    {
     "name": "stderr",
     "output_type": "stream",
     "text": [
      "190it [00:41,  4.68it/s]"
     ]
    },
    {
     "name": "stdout",
     "output_type": "stream",
     "text": [
      "What legal challenges are frequesntly met among double degree students?\n",
      "1/1 [==============================] - 0s 27ms/step\n",
      "Double Degree programs <class 'str'>\n"
     ]
    },
    {
     "name": "stderr",
     "output_type": "stream",
     "text": [
      "191it [00:41,  4.07it/s]"
     ]
    },
    {
     "name": "stdout",
     "output_type": "stream",
     "text": [
      "Hi, I'm looking to kickstart a career in the business field. Can you share details on the career support and job placement assistance that Kozminski University provides to double degree graduates?\n",
      "1/1 [==============================] - 0s 27ms/step\n",
      "Double Degree programs <class 'str'>\n"
     ]
    },
    {
     "name": "stderr",
     "output_type": "stream",
     "text": [
      "192it [00:41,  4.15it/s]"
     ]
    },
    {
     "name": "stdout",
     "output_type": "stream",
     "text": [
      "Hi! I'm at the stage of putting together my application for Kozminski's double degree programs. Can you clarify whether there are any specific standardized tests or language requirements that I need to fulfill?\n",
      "1/1 [==============================] - 0s 18ms/step\n"
     ]
    },
    {
     "name": "stderr",
     "output_type": "stream",
     "text": [
      "193it [00:42,  4.57it/s]"
     ]
    },
    {
     "name": "stdout",
     "output_type": "stream",
     "text": [
      "Double Degree programs <class 'str'>\n",
      "Hey, I'm all about teamwork and diversity. Could you give me insights into the collaborative aspects of Kozminski's double degree programs and how they foster a vibrant learning community?\n",
      "1/1 [==============================] - 0s 32ms/step\n",
      "Double Degree programs <class 'str'>\n"
     ]
    },
    {
     "name": "stderr",
     "output_type": "stream",
     "text": [
      "194it [00:42,  4.84it/s]"
     ]
    },
    {
     "name": "stdout",
     "output_type": "stream",
     "text": [
      "Hi there, I'm interested in a double degree program at Kozminski, but I need to plan my finances. Can you provide information about tuition fees, available scholarships, and any potential cost-saving opportunities?\n",
      "1/1 [==============================] - 0s 19ms/step\n",
      "Double Degree programs <class 'str'>\n"
     ]
    },
    {
     "name": "stderr",
     "output_type": "stream",
     "text": [
      "195it [00:42,  4.85it/s]"
     ]
    },
    {
     "name": "stdout",
     "output_type": "stream",
     "text": [
      "Hello! I'm an international student considering Kozminski University's double degree programs. Could you elaborate on any study abroad opportunities or global experiences integrated into these programs?\n",
      "1/1 [==============================] - 0s 22ms/step\n",
      "Double Degree programs <class 'str'>\n"
     ]
    },
    {
     "name": "stderr",
     "output_type": "stream",
     "text": [
      "196it [00:42,  5.10it/s]"
     ]
    },
    {
     "name": "stdout",
     "output_type": "stream",
     "text": [
      "Hi, I'm intrigued by Kozminski's double degree offerings, but I'm worried about the workload. Could you shed some light on how students manage the academic demands?\n",
      "1/1 [==============================] - 0s 30ms/step\n",
      "Double Degree programs <class 'str'>\n"
     ]
    },
    {
     "name": "stderr",
     "output_type": "stream",
     "text": [
      "197it [00:42,  5.20it/s]"
     ]
    },
    {
     "name": "stdout",
     "output_type": "stream",
     "text": [
      "Greetings! I'm evaluating my options for higher education, and Kozminski's double degree programs caught my attention. Can you compare the curriculum structure and available specializations across different combinations of degrees?\n",
      "1/1 [==============================] - 0s 31ms/step\n",
      "Double Degree programs <class 'str'>\n"
     ]
    },
    {
     "name": "stderr",
     "output_type": "stream",
     "text": [
      "198it [00:42,  5.30it/s]"
     ]
    },
    {
     "name": "stdout",
     "output_type": "stream",
     "text": [
      "Hello! I'm really excited about the idea of pursuing a double degree at Kozminski University. Could you share some success stories or examples of students who have thrived in these programs and what they're up to now?\n",
      "1/1 [==============================] - 0s 28ms/step\n",
      "Double Degree programs <class 'str'>\n"
     ]
    },
    {
     "name": "stderr",
     "output_type": "stream",
     "text": [
      "199it [00:43,  5.43it/s]"
     ]
    },
    {
     "name": "stdout",
     "output_type": "stream",
     "text": [
      "Hi, I'm thinking about applying to Kozminski University for a double degree. Could you break down the application process, including any specific documents or prerequisites I need to keep in mind?\n",
      "1/1 [==============================] - 0s 102ms/step\n"
     ]
    },
    {
     "name": "stderr",
     "output_type": "stream",
     "text": [
      "200it [00:43,  4.40it/s]"
     ]
    },
    {
     "name": "stdout",
     "output_type": "stream",
     "text": [
      "Admissions and Application Process <class 'str'>\n",
      "Hey there! I've heard Kozminski University offers double degree programs. Can you tell me more about these programs and how they could boost my career prospects in the business world?\n",
      "1/1 [==============================] - 0s 27ms/step\n",
      "Double Degree programs <class 'str'>\n"
     ]
    },
    {
     "name": "stderr",
     "output_type": "stream",
     "text": [
      "201it [00:43,  4.52it/s]"
     ]
    },
    {
     "name": "stdout",
     "output_type": "stream",
     "text": [
      "Can you provide information about the undergraduate Management program at Kozminski University?\n",
      "1/1 [==============================] - 0s 19ms/step\n",
      "Programmes and Degrees <class 'str'>\n"
     ]
    },
    {
     "name": "stderr",
     "output_type": "stream",
     "text": [
      "202it [00:43,  4.87it/s]"
     ]
    },
    {
     "name": "stdout",
     "output_type": "stream",
     "text": [
      "What's unique about the Management & Artificial Intelligence bachelor's program here?\n",
      "1/1 [==============================] - 0s 29ms/step\n",
      "Programmes and Degrees <class 'str'>\n"
     ]
    },
    {
     "name": "stderr",
     "output_type": "stream",
     "text": [
      "203it [00:44,  5.05it/s]"
     ]
    },
    {
     "name": "stdout",
     "output_type": "stream",
     "text": [
      "Tell me more about the Financial Management degree curriculum and opportunities.\n",
      "1/1 [==============================] - 0s 29ms/step\n",
      "Double Degree programs <class 'str'>\n"
     ]
    },
    {
     "name": "stderr",
     "output_type": "stream",
     "text": [
      "204it [00:44,  5.10it/s]"
     ]
    },
    {
     "name": "stdout",
     "output_type": "stream",
     "text": [
      "Could you elaborate on the graduate Management program's specializations?\n",
      "1/1 [==============================] - 0s 19ms/step\n",
      "Admissions and Application Process <class 'str'>\n"
     ]
    },
    {
     "name": "stderr",
     "output_type": "stream",
     "text": [
      "205it [00:44,  5.21it/s]"
     ]
    },
    {
     "name": "stdout",
     "output_type": "stream",
     "text": [
      "I'm interested in the Finances and Accounting master's program, what career paths does it open up?\n",
      "1/1 [==============================] - 0s 35ms/step\n",
      "Programmes and Degrees <class 'str'>\n"
     ]
    },
    {
     "name": "stderr",
     "output_type": "stream",
     "text": [
      "206it [00:44,  5.24it/s]"
     ]
    },
    {
     "name": "stdout",
     "output_type": "stream",
     "text": [
      "What postgraduate options does Kozminski University offer in addition to regular degrees?\n",
      "1/1 [==============================] - 0s 29ms/step\n",
      "Programmes and Degrees <class 'str'>\n"
     ]
    },
    {
     "name": "stderr",
     "output_type": "stream",
     "text": [
      "207it [00:44,  5.37it/s]"
     ]
    },
    {
     "name": "stdout",
     "output_type": "stream",
     "text": [
      "What's the difference between the MBA and EMBA programs for mid-careed professionals?\n",
      "1/1 [==============================] - 0s 25ms/step\n",
      "Contacts <class 'str'>\n"
     ]
    },
    {
     "name": "stderr",
     "output_type": "stream",
     "text": [
      "208it [00:44,  5.41it/s]"
     ]
    },
    {
     "name": "stdout",
     "output_type": "stream",
     "text": [
      "Can you provide an overview of the Executive Programs available at the university?\n",
      "1/1 [==============================] - 0s 19ms/step\n",
      "Programmes and Degrees <class 'str'>\n"
     ]
    },
    {
     "name": "stderr",
     "output_type": "stream",
     "text": [
      "209it [00:45,  4.56it/s]"
     ]
    },
    {
     "name": "stdout",
     "output_type": "stream",
     "text": [
      "Are there any Online Postgraduate programs tailored for working professionals in management?\n",
      "1/1 [==============================] - 0s 21ms/step\n",
      "Internship <class 'str'>\n"
     ]
    },
    {
     "name": "stderr",
     "output_type": "stream",
     "text": [
      "210it [00:45,  4.38it/s]"
     ]
    },
    {
     "name": "stdout",
     "output_type": "stream",
     "text": [
      "I'm interested in short courses for skill enhancement, what kind of training do you offer for employees?\n",
      "1/1 [==============================] - 0s 23ms/step\n",
      "Programmes and Degrees <class 'str'>\n"
     ]
    },
    {
     "name": "stderr",
     "output_type": "stream",
     "text": [
      "211it [00:46,  2.91it/s]"
     ]
    },
    {
     "name": "stdout",
     "output_type": "stream",
     "text": [
      "Can you share some alumni success stories from the various programs at Kozminski?\n",
      "1/1 [==============================] - 0s 20ms/step\n"
     ]
    },
    {
     "name": "stderr",
     "output_type": "stream",
     "text": [
      "212it [00:46,  3.39it/s]"
     ]
    },
    {
     "name": "stdout",
     "output_type": "stream",
     "text": [
      "Programmes and Degrees <class 'str'>\n",
      "How can I get involved in research projects as an undergraduate Management student?\n",
      "1/1 [==============================] - 0s 28ms/step\n",
      "Contacts <class 'str'>\n"
     ]
    },
    {
     "name": "stderr",
     "output_type": "stream",
     "text": [
      "213it [00:46,  3.86it/s]"
     ]
    },
    {
     "name": "stdout",
     "output_type": "stream",
     "text": [
      "What resources does the university provide to help graduate students find job placements?\n",
      "1/1 [==============================] - 0s 23ms/step\n",
      "Internship <class 'str'>\n"
     ]
    },
    {
     "name": "stderr",
     "output_type": "stream",
     "text": [
      "214it [00:46,  4.21it/s]"
     ]
    },
    {
     "name": "stdout",
     "output_type": "stream",
     "text": [
      "Are there any joint degree programs where I can study at Kozminski and another university simultaneously?\n",
      "1/1 [==============================] - 0s 35ms/step\n",
      "Double Degree programs <class 'str'>\n"
     ]
    },
    {
     "name": "stderr",
     "output_type": "stream",
     "text": [
      "215it [00:46,  4.53it/s]"
     ]
    },
    {
     "name": "stdout",
     "output_type": "stream",
     "text": [
      "Can you explain the admission requirements for the MBA program and the key selection criteria?\n",
      "1/1 [==============================] - 0s 27ms/step\n",
      "Programmes and Degrees <class 'str'>\n"
     ]
    },
    {
     "name": "stderr",
     "output_type": "stream",
     "text": [
      "216it [00:47,  4.70it/s]"
     ]
    },
    {
     "name": "stdout",
     "output_type": "stream",
     "text": [
      "What kind of networking opportunities does the EMBA program offer to seasoned professionals?\n",
      "1/1 [==============================] - 0s 20ms/step\n",
      "Programmes and Degrees <class 'str'>\n"
     ]
    },
    {
     "name": "stderr",
     "output_type": "stream",
     "text": [
      "217it [00:47,  4.64it/s]"
     ]
    },
    {
     "name": "stdout",
     "output_type": "stream",
     "text": [
      "Can you clarify the prerequisites for enrolling in the Big Data master's program?\n",
      "1/1 [==============================] - 0s 19ms/step\n",
      "Admissions and Application Process <class 'str'>\n"
     ]
    },
    {
     "name": "stderr",
     "output_type": "stream",
     "text": [
      "218it [00:47,  4.27it/s]"
     ]
    },
    {
     "name": "stdout",
     "output_type": "stream",
     "text": [
      "What types of industries do graduates of the Finances and Accounting program typically find employment in?\n",
      "1/1 [==============================] - 0s 20ms/step\n"
     ]
    },
    {
     "name": "stderr",
     "output_type": "stream",
     "text": [
      "219it [00:47,  4.58it/s]"
     ]
    },
    {
     "name": "stdout",
     "output_type": "stream",
     "text": [
      "Admissions and Application Process <class 'str'>\n",
      "Are the postgraduate programs suitable for recent graduates, or do they require work experience?\n",
      "1/1 [==============================] - 0s 28ms/step\n",
      "Admissions and Application Process <class 'str'>\n"
     ]
    },
    {
     "name": "stderr",
     "output_type": "stream",
     "text": [
      "220it [00:47,  4.86it/s]"
     ]
    },
    {
     "name": "stdout",
     "output_type": "stream",
     "text": [
      "What's the duration of the Online Postgraduate programs, and can I study part-time?\n",
      "1/1 [==============================] - 0s 19ms/step\n",
      "Contacts <class 'str'>\n"
     ]
    },
    {
     "name": "stderr",
     "output_type": "stream",
     "text": [
      "221it [00:48,  5.00it/s]"
     ]
    },
    {
     "name": "stdout",
     "output_type": "stream",
     "text": [
      "How frequently are the Online Workshops and Courses conducted?\n",
      "1/1 [==============================] - 0s 19ms/step\n"
     ]
    },
    {
     "name": "stderr",
     "output_type": "stream",
     "text": [
      "222it [00:48,  5.07it/s]"
     ]
    },
    {
     "name": "stdout",
     "output_type": "stream",
     "text": [
      "Contacts <class 'str'>\n",
      "What's the application process for the Doctoral School, and what research areas are available?\n",
      "1/1 [==============================] - 0s 30ms/step\n",
      "Contacts <class 'str'>\n"
     ]
    },
    {
     "name": "stderr",
     "output_type": "stream",
     "text": [
      "223it [00:48,  5.18it/s]"
     ]
    },
    {
     "name": "stdout",
     "output_type": "stream",
     "text": [
      "Could you name examples of researches for the Doctoral School?\n",
      "1/1 [==============================] - 0s 21ms/step\n",
      "Contacts <class 'str'>\n"
     ]
    },
    {
     "name": "stderr",
     "output_type": "stream",
     "text": [
      "224it [00:48,  5.29it/s]"
     ]
    },
    {
     "name": "stdout",
     "output_type": "stream",
     "text": [
      "How does the university stay updated with the latest industry trends to reflect them in the curriculum?\n",
      "1/1 [==============================] - 0s 18ms/step\n",
      "Programmes and Degrees <class 'str'>\n"
     ]
    },
    {
     "name": "stderr",
     "output_type": "stream",
     "text": [
      "225it [00:48,  5.15it/s]"
     ]
    },
    {
     "name": "stdout",
     "output_type": "stream",
     "text": [
      "Are there opportunities for students to engage with industry professionals and gain real-world insights?\n",
      "1/1 [==============================] - 0s 19ms/step\n",
      "Programmes and Degrees <class 'str'>\n"
     ]
    },
    {
     "name": "stderr",
     "output_type": "stream",
     "text": [
      "226it [00:49,  4.45it/s]"
     ]
    },
    {
     "name": "stdout",
     "output_type": "stream",
     "text": [
      "Could you describe the mentoring or guidance programs available to students during their studies?\n",
      "1/1 [==============================] - 0s 20ms/step\n"
     ]
    },
    {
     "name": "stderr",
     "output_type": "stream",
     "text": [
      "227it [00:49,  4.76it/s]"
     ]
    },
    {
     "name": "stdout",
     "output_type": "stream",
     "text": [
      "Scholarship  <class 'str'>\n",
      "What's the ratio of local to international students in the different programs?\n",
      "1/1 [==============================] - 0s 26ms/step\n",
      "Programmes and Degrees <class 'str'>\n"
     ]
    },
    {
     "name": "stderr",
     "output_type": "stream",
     "text": [
      "228it [00:49,  4.86it/s]"
     ]
    },
    {
     "name": "stdout",
     "output_type": "stream",
     "text": [
      "What is the percentage of native speakers among lecturers of English programs at the univaristy?\n",
      "1/1 [==============================] - 0s 24ms/step\n",
      "Admissions and Application Process <class 'str'>\n"
     ]
    },
    {
     "name": "stderr",
     "output_type": "stream",
     "text": [
      "229it [00:49,  4.35it/s]"
     ]
    },
    {
     "name": "stdout",
     "output_type": "stream",
     "text": [
      "How does the university ensure a balance between theoretical knowledge and practical skills?\n",
      "1/1 [==============================] - 0s 22ms/step\n"
     ]
    },
    {
     "name": "stderr",
     "output_type": "stream",
     "text": [
      "230it [00:49,  4.52it/s]"
     ]
    },
    {
     "name": "stdout",
     "output_type": "stream",
     "text": [
      "Programmes and Degrees <class 'str'>\n",
      "Can I transfer between programs if my interests change during my time at Kozminski?\n",
      "1/1 [==============================] - 0s 44ms/step\n"
     ]
    },
    {
     "name": "stderr",
     "output_type": "stream",
     "text": [
      "231it [00:50,  4.30it/s]"
     ]
    },
    {
     "name": "stdout",
     "output_type": "stream",
     "text": [
      "Contacts <class 'str'>\n",
      "What kind of global partnerships or exchange programs does the university have?\n",
      "1/1 [==============================] - 0s 21ms/step\n"
     ]
    },
    {
     "name": "stderr",
     "output_type": "stream",
     "text": [
      "232it [00:50,  4.03it/s]"
     ]
    },
    {
     "name": "stdout",
     "output_type": "stream",
     "text": [
      "Programmes and Degrees <class 'str'>\n",
      "Are there any language proficiency requirements for non-native English speakers applying to programs?\n",
      "1/1 [==============================] - 0s 21ms/step\n"
     ]
    },
    {
     "name": "stderr",
     "output_type": "stream",
     "text": [
      "233it [00:50,  4.33it/s]"
     ]
    },
    {
     "name": "stdout",
     "output_type": "stream",
     "text": [
      "Admissions and Application Process <class 'str'>\n",
      "What support does the university provide to graduates in terms of job placement after completing their studies?\n",
      "1/1 [==============================] - 0s 37ms/step\n",
      "Contacts <class 'str'>\n"
     ]
    },
    {
     "name": "stderr",
     "output_type": "stream",
     "text": [
      "234it [00:50,  4.59it/s]"
     ]
    },
    {
     "name": "stdout",
     "output_type": "stream",
     "text": [
      "Can you tell me more about the faculty's research contributions and collaborations with businesses?\n",
      "1/1 [==============================] - 0s 21ms/step\n",
      "Open Days <class 'str'>\n"
     ]
    },
    {
     "name": "stderr",
     "output_type": "stream",
     "text": [
      "235it [00:51,  4.24it/s]"
     ]
    },
    {
     "name": "stdout",
     "output_type": "stream",
     "text": [
      "How can professionals from other fields benefit from the Executive Programs?\n",
      "1/1 [==============================] - 0s 20ms/step\n"
     ]
    },
    {
     "name": "stderr",
     "output_type": "stream",
     "text": [
      "236it [00:51,  4.61it/s]"
     ]
    },
    {
     "name": "stdout",
     "output_type": "stream",
     "text": [
      "Programmes and Degrees <class 'str'>\n",
      "Can I apply for the Online Postgraduate programs if I'm already employed full-time?\n",
      "1/1 [==============================] - 0s 28ms/step\n",
      "Admissions and Application Process <class 'str'>\n"
     ]
    },
    {
     "name": "stderr",
     "output_type": "stream",
     "text": [
      "237it [00:51,  3.23it/s]"
     ]
    },
    {
     "name": "stdout",
     "output_type": "stream",
     "text": [
      "What are the avaiable modes of studies for graduate programs in English?\n",
      "1/1 [==============================] - 0s 26ms/step\n",
      "Admissions and Application Process <class 'str'>\n"
     ]
    },
    {
     "name": "stderr",
     "output_type": "stream",
     "text": [
      "238it [00:52,  3.49it/s]"
     ]
    },
    {
     "name": "stdout",
     "output_type": "stream",
     "text": [
      "Can you share some details about the faculty's industry experience and academic qualifications?\n",
      "1/1 [==============================] - 0s 21ms/step\n"
     ]
    },
    {
     "name": "stderr",
     "output_type": "stream",
     "text": [
      "239it [00:52,  3.82it/s]"
     ]
    },
    {
     "name": "stdout",
     "output_type": "stream",
     "text": [
      "Study and Internship abroad <class 'str'>\n",
      "Are there any opportunities for students to showcase their business ideas or startups?\n",
      "1/1 [==============================] - 0s 19ms/step\n",
      "Programmes and Degrees <class 'str'>\n"
     ]
    },
    {
     "name": "stderr",
     "output_type": "stream",
     "text": [
      "240it [00:52,  4.25it/s]"
     ]
    },
    {
     "name": "stdout",
     "output_type": "stream",
     "text": [
      "Can you provide insights into the overall learning approach and teaching methodologies followed at Kozminski University?\n",
      "1/1 [==============================] - 0s 31ms/step\n",
      "Programmes and Degrees <class 'str'>\n"
     ]
    },
    {
     "name": "stderr",
     "output_type": "stream",
     "text": [
      "241it [00:52,  4.49it/s]"
     ]
    },
    {
     "name": "stdout",
     "output_type": "stream",
     "text": [
      "What types of Online Postgraduate programs are available, and how are they delivered?\n",
      "1/1 [==============================] - 0s 20ms/step\n",
      "Contacts <class 'str'>\n"
     ]
    },
    {
     "name": "stderr",
     "output_type": "stream",
     "text": [
      "242it [00:52,  4.70it/s]"
     ]
    },
    {
     "name": "stdout",
     "output_type": "stream",
     "text": [
      "\"Hi! I'm currently working and looking for short courses to boost my skills. Can you tell me about the training courses for employees? Specifically, how do these courses address the needs of professionals from various backgrounds and industries?\"\n",
      "1/1 [==============================] - 0s 31ms/step\n",
      "Internship <class 'str'>\n"
     ]
    },
    {
     "name": "stderr",
     "output_type": "stream",
     "text": [
      "243it [00:53,  4.93it/s]"
     ]
    },
    {
     "name": "stdout",
     "output_type": "stream",
     "text": [
      "Hey there! Finance and accounting are my passion. Can you shed some light on the curriculum of the master's program you offer?\n",
      "1/1 [==============================] - 0s 111ms/step\n",
      "Programmes and Degrees <class 'str'>\n"
     ]
    },
    {
     "name": "stderr",
     "output_type": "stream",
     "text": [
      "244it [00:53,  4.23it/s]"
     ]
    },
    {
     "name": "stdout",
     "output_type": "stream",
     "text": [
      "Hi! I've heard about postgraduate programs. Can you clarify what these are and how they differ from regular degrees?\n",
      "1/1 [==============================] - 0s 33ms/step\n"
     ]
    },
    {
     "name": "stderr",
     "output_type": "stream",
     "text": [
      "245it [00:53,  4.52it/s]"
     ]
    },
    {
     "name": "stdout",
     "output_type": "stream",
     "text": [
      "Programmes and Degrees <class 'str'>\n",
      " \"Hi, I've got my sights set on pursuing a master's degree at Kozminski. Can you guide me through the application process for the postgraduate programs? Additionally, could you share insights into the selection criteria and prerequisites for programs like MBA and Finances and Accounting?\"\n",
      "1/1 [==============================] - 0s 40ms/step\n"
     ]
    },
    {
     "name": "stderr",
     "output_type": "stream",
     "text": [
      "246it [00:53,  3.91it/s]"
     ]
    },
    {
     "name": "stdout",
     "output_type": "stream",
     "text": [
      "Admissions and Application Process <class 'str'>\n",
      "Hello! I'm envisioning a career in finance. Can you provide examples of industries where your graduates find employment?\n",
      "1/1 [==============================] - 0s 26ms/step\n"
     ]
    },
    {
     "name": "stderr",
     "output_type": "stream",
     "text": [
      "247it [00:54,  4.28it/s]"
     ]
    },
    {
     "name": "stdout",
     "output_type": "stream",
     "text": [
      "Educational resources <class 'str'>\n",
      "\"Hello there! I've been working for a few years now and I'm considering enhancing my skills. Can you tell me about the postgraduate programs available? Specifically, I'm interested in the Big Data and Finances and Accounting master's degrees. How do these programs cater to professionals like me?\"\n",
      "1/1 [==============================] - 0s 20ms/step\n",
      "Programmes and Degrees <class 'str'>\n"
     ]
    },
    {
     "name": "stderr",
     "output_type": "stream",
     "text": [
      "248it [00:54,  4.62it/s]"
     ]
    },
    {
     "name": "stdout",
     "output_type": "stream",
     "text": [
      "Hey! Online learning is more my style due to my busy schedule. Are there postgraduate programs or workshops available online?\n",
      "1/1 [==============================] - 0s 19ms/step\n",
      "Contacts <class 'str'>\n"
     ]
    },
    {
     "name": "stderr",
     "output_type": "stream",
     "text": [
      "249it [00:54,  4.82it/s]"
     ]
    },
    {
     "name": "stdout",
     "output_type": "stream",
     "text": [
      "\"Hello! I'm an international student interested in pursuing a business degree in Warsaw. Can you give me an overview of the undergraduate and graduate programs available? Also, how does Kozminski University support international students in terms of language and cultural adaptation?\"\n",
      "1/1 [==============================] - 0s 19ms/step\n"
     ]
    },
    {
     "name": "stderr",
     "output_type": "stream",
     "text": [
      "250it [00:54,  4.87it/s]"
     ]
    },
    {
     "name": "stdout",
     "output_type": "stream",
     "text": [
      "Programmes and Degrees <class 'str'>\n",
      "\"Hey! Your university seems to offer quite a range of programs. I'm intrigued by the Management & Artificial Intelligence bachelor's program. Could you elaborate on how the AI component blends with the business curriculum? I'm open to discover how this unique combination can shape my educational experience.\"\n",
      "1/1 [==============================] - 0s 19ms/step\n",
      "Programmes and Degrees <class 'str'>\n"
     ]
    },
    {
     "name": "stderr",
     "output_type": "stream",
     "text": [
      "251it [00:54,  5.18it/s]"
     ]
    },
    {
     "name": "stdout",
     "output_type": "stream",
     "text": [
      "\"Hi there! I'm considering a career switch into the finance sector. Can you provide details about the curriculum of the Big Data and Finances and Accounting programs? I'm curious to know how these programs can help me transition into a new field.\"\n",
      "1/1 [==============================] - 0s 20ms/step\n",
      "Programmes and Degrees <class 'str'>\n"
     ]
    },
    {
     "name": "stderr",
     "output_type": "stream",
     "text": [
      "252it [00:54,  5.39it/s]"
     ]
    },
    {
     "name": "stdout",
     "output_type": "stream",
     "text": [
      "Can you tell me about the student housing options at Kozminski University?\n",
      "1/1 [==============================] - 0s 28ms/step\n",
      "Contacts <class 'str'>\n"
     ]
    },
    {
     "name": "stderr",
     "output_type": "stream",
     "text": [
      "253it [00:55,  5.38it/s]"
     ]
    },
    {
     "name": "stdout",
     "output_type": "stream",
     "text": [
      "I'm looking for information on accommodation near Kozminski University, what can you recommend?\n",
      "1/1 [==============================] - 0s 22ms/step\n",
      "Programmes and Degrees <class 'str'>\n"
     ]
    },
    {
     "name": "stderr",
     "output_type": "stream",
     "text": [
      "254it [00:55,  5.49it/s]"
     ]
    },
    {
     "name": "stdout",
     "output_type": "stream",
     "text": [
      "What are the different types of student housing available around the campus?\n",
      "1/1 [==============================] - 0s 65ms/step\n",
      "Campus <class 'str'>\n"
     ]
    },
    {
     "name": "stderr",
     "output_type": "stream",
     "text": [
      "255it [00:55,  4.74it/s]"
     ]
    },
    {
     "name": "stdout",
     "output_type": "stream",
     "text": [
      "How close is the student housing to the Kozminski University campus?\n",
      "1/1 [==============================] - 0s 19ms/step\n",
      "Student Housing <class 'str'>\n"
     ]
    },
    {
     "name": "stderr",
     "output_type": "stream",
     "text": [
      "256it [00:55,  5.07it/s]"
     ]
    },
    {
     "name": "stdout",
     "output_type": "stream",
     "text": [
      "Are there any affordable housing options for students near the university?\n",
      "1/1 [==============================] - 0s 26ms/step\n",
      "Student Housing <class 'str'>\n"
     ]
    },
    {
     "name": "stderr",
     "output_type": "stream",
     "text": [
      "257it [00:55,  5.14it/s]"
     ]
    },
    {
     "name": "stdout",
     "output_type": "stream",
     "text": [
      "Can you provide details about the cost of student housing around Kozminski University?\n",
      "1/1 [==============================] - 0s 19ms/step\n",
      "Student Housing <class 'str'>\n"
     ]
    },
    {
     "name": "stderr",
     "output_type": "stream",
     "text": [
      "258it [00:56,  5.31it/s]"
     ]
    },
    {
     "name": "stdout",
     "output_type": "stream",
     "text": [
      "What's the process for applying for housing at Kozminski?\n",
      "1/1 [==============================] - 0s 24ms/step\n",
      "Student Housing <class 'str'>\n"
     ]
    },
    {
     "name": "stderr",
     "output_type": "stream",
     "text": [
      "259it [00:56,  5.50it/s]"
     ]
    },
    {
     "name": "stdout",
     "output_type": "stream",
     "text": [
      "I'd like to know about housing facilities offered by the university?\n",
      "1/1 [==============================] - 0s 27ms/step\n",
      "Student Housing <class 'str'>\n"
     ]
    },
    {
     "name": "stderr",
     "output_type": "stream",
     "text": [
      "260it [00:56,  5.55it/s]"
     ]
    },
    {
     "name": "stdout",
     "output_type": "stream",
     "text": [
      "How do I find a roommate in the university's accommodation?\n",
      "1/1 [==============================] - 0s 21ms/step\n",
      "Open Days <class 'str'>\n"
     ]
    },
    {
     "name": "stderr",
     "output_type": "stream",
     "text": [
      "261it [00:56,  5.53it/s]"
     ]
    },
    {
     "name": "stdout",
     "output_type": "stream",
     "text": [
      "What's the average monthly cost of living, including housing, for a student in Warsaw?\n",
      "1/1 [==============================] - 0s 23ms/step\n",
      "Student Housing <class 'str'>\n"
     ]
    },
    {
     "name": "stderr",
     "output_type": "stream",
     "text": [
      "262it [00:56,  5.60it/s]"
     ]
    },
    {
     "name": "stdout",
     "output_type": "stream",
     "text": [
      "Can you tell me about any off-campus housing partnerships or recommendations?\n",
      "1/1 [==============================] - 0s 20ms/step\n"
     ]
    },
    {
     "name": "stderr",
     "output_type": "stream",
     "text": [
      "263it [00:57,  3.68it/s]"
     ]
    },
    {
     "name": "stdout",
     "output_type": "stream",
     "text": [
      "Student Housing <class 'str'>\n",
      "Are there any student-friendly neighborhoods close to Kozminski University?\n",
      "1/1 [==============================] - 0s 24ms/step\n",
      "Programmes and Degrees <class 'str'>\n"
     ]
    },
    {
     "name": "stderr",
     "output_type": "stream",
     "text": [
      "264it [00:57,  4.10it/s]"
     ]
    },
    {
     "name": "stdout",
     "output_type": "stream",
     "text": [
      "Do you have any advice on finding roommates for off-campus housing?\n",
      "1/1 [==============================] - 0s 19ms/step\n",
      "Student Housing <class 'str'>\n"
     ]
    },
    {
     "name": "stderr",
     "output_type": "stream",
     "text": [
      "265it [00:57,  4.52it/s]"
     ]
    },
    {
     "name": "stdout",
     "output_type": "stream",
     "text": [
      "Can international students apply for student housing?\n",
      "1/1 [==============================] - 0s 94ms/step\n",
      "Student Housing <class 'str'>\n"
     ]
    },
    {
     "name": "stderr",
     "output_type": "stream",
     "text": [
      "266it [00:58,  3.46it/s]"
     ]
    },
    {
     "name": "stdout",
     "output_type": "stream",
     "text": [
      "How safe is the area around Kozminski University for student accommodation?\n",
      "1/1 [==============================] - 0s 27ms/step\n"
     ]
    },
    {
     "name": "stderr",
     "output_type": "stream",
     "text": [
      "267it [00:58,  3.79it/s]"
     ]
    },
    {
     "name": "stdout",
     "output_type": "stream",
     "text": [
      "Open Days <class 'str'>\n",
      "Can you provide a breakdown of the different housing costs at Kozminski University?\n",
      "1/1 [==============================] - 0s 28ms/step\n"
     ]
    },
    {
     "name": "stderr",
     "output_type": "stream",
     "text": [
      "268it [00:58,  3.94it/s]"
     ]
    },
    {
     "name": "stdout",
     "output_type": "stream",
     "text": [
      "Student Housing <class 'str'>\n",
      "How competitive is securing housing in Warsaw?\n",
      "1/1 [==============================] - 0s 30ms/step\n"
     ]
    },
    {
     "name": "stderr",
     "output_type": "stream",
     "text": [
      "269it [00:58,  4.24it/s]"
     ]
    },
    {
     "name": "stdout",
     "output_type": "stream",
     "text": [
      "Student Housing <class 'str'>\n",
      "Is a dormitory or rental apartment a more favourable option for fresh students?\n",
      "1/1 [==============================] - 0s 19ms/step\n",
      "Programmes and Degrees <class 'str'>\n"
     ]
    },
    {
     "name": "stderr",
     "output_type": "stream",
     "text": [
      "270it [00:58,  4.65it/s]"
     ]
    },
    {
     "name": "stdout",
     "output_type": "stream",
     "text": [
      "Are there any preferred housing options for international exchange students?\n",
      "1/1 [==============================] - 0s 19ms/step\n",
      "Student Housing <class 'str'>\n"
     ]
    },
    {
     "name": "stderr",
     "output_type": "stream",
     "text": [
      "271it [00:59,  4.77it/s]"
     ]
    },
    {
     "name": "stdout",
     "output_type": "stream",
     "text": [
      "What's the availability of single rooms in the university's accommodation?\n",
      "1/1 [==============================] - 0s 19ms/step\n",
      "Open Days <class 'str'>\n"
     ]
    },
    {
     "name": "stderr",
     "output_type": "stream",
     "text": [
      "272it [00:59,  5.06it/s]"
     ]
    },
    {
     "name": "stdout",
     "output_type": "stream",
     "text": [
      "Are there any special housing considerations for students with disabilities?\n",
      "1/1 [==============================] - 0s 30ms/step\n",
      "Student Housing <class 'str'>\n"
     ]
    },
    {
     "name": "stderr",
     "output_type": "stream",
     "text": [
      "273it [00:59,  5.03it/s]"
     ]
    },
    {
     "name": "stdout",
     "output_type": "stream",
     "text": [
      "Can you recommend any online resources for finding off-campus apartments or flats?\n",
      "1/1 [==============================] - 0s 19ms/step\n",
      "Educational resources <class 'str'>\n"
     ]
    },
    {
     "name": "stderr",
     "output_type": "stream",
     "text": [
      "274it [00:59,  5.24it/s]"
     ]
    },
    {
     "name": "stdout",
     "output_type": "stream",
     "text": [
      "Are there any housing options specifically designed for graduate students?\n",
      "1/1 [==============================] - 0s 27ms/step\n",
      "Student Housing <class 'str'>\n"
     ]
    },
    {
     "name": "stderr",
     "output_type": "stream",
     "text": [
      "275it [00:59,  5.36it/s]"
     ]
    },
    {
     "name": "stdout",
     "output_type": "stream",
     "text": [
      "Do you offer any family housing options for students with dependents?\n",
      "1/1 [==============================] - 0s 36ms/step\n",
      "Student Housing <class 'str'>\n"
     ]
    },
    {
     "name": "stderr",
     "output_type": "stream",
     "text": [
      "276it [00:59,  5.34it/s]"
     ]
    },
    {
     "name": "stdout",
     "output_type": "stream",
     "text": [
      "What's the distance between the various off-campus housing options and the university?\n",
      "1/1 [==============================] - 0s 102ms/step\n",
      "Contacts <class 'str'>\n"
     ]
    },
    {
     "name": "stderr",
     "output_type": "stream",
     "text": [
      "277it [01:00,  4.57it/s]"
     ]
    },
    {
     "name": "stdout",
     "output_type": "stream",
     "text": [
      "What's the process for finding temporary accommodation if I arrive before my housing is ready?\n",
      "1/1 [==============================] - 0s 20ms/step\n",
      "Contacts <class 'str'>\n"
     ]
    },
    {
     "name": "stderr",
     "output_type": "stream",
     "text": [
      "278it [01:00,  4.79it/s]"
     ]
    },
    {
     "name": "stdout",
     "output_type": "stream",
     "text": [
      "How do I connect with other students who are looking for off-campus roommates?\n",
      "1/1 [==============================] - 0s 24ms/step\n",
      "Student Housing <class 'str'>\n"
     ]
    },
    {
     "name": "stderr",
     "output_type": "stream",
     "text": [
      "279it [01:00,  5.08it/s]"
     ]
    },
    {
     "name": "stdout",
     "output_type": "stream",
     "text": [
      "Are there any co-ed housing options available for students?\n",
      "1/1 [==============================] - 0s 25ms/step\n",
      "Student Housing <class 'str'>\n"
     ]
    },
    {
     "name": "stderr",
     "output_type": "stream",
     "text": [
      "280it [01:00,  5.32it/s]"
     ]
    },
    {
     "name": "stdout",
     "output_type": "stream",
     "text": [
      "Are there any discounts or benefits for stundent housing in Warsaw?\n",
      "1/1 [==============================] - 0s 23ms/step\n",
      "Student Housing <class 'str'>\n"
     ]
    },
    {
     "name": "stderr",
     "output_type": "stream",
     "text": [
      "281it [01:00,  5.41it/s]"
     ]
    },
    {
     "name": "stdout",
     "output_type": "stream",
     "text": [
      "How difficult is it to find a rental apartment in Warsaw?\n",
      "1/1 [==============================] - 0s 27ms/step\n",
      "Open Days <class 'str'>\n"
     ]
    },
    {
     "name": "stderr",
     "output_type": "stream",
     "text": [
      "282it [01:01,  5.54it/s]"
     ]
    },
    {
     "name": "stdout",
     "output_type": "stream",
     "text": [
      "How do I apply for financial assistance with housing costs?\n",
      "1/1 [==============================] - 0s 27ms/step\n",
      "Student Housing <class 'str'>\n"
     ]
    },
    {
     "name": "stderr",
     "output_type": "stream",
     "text": [
      "283it [01:01,  5.60it/s]"
     ]
    },
    {
     "name": "stdout",
     "output_type": "stream",
     "text": [
      "What's the process for terminating an off-campus lease if I need to leave early?\n",
      "1/1 [==============================] - 0s 27ms/step\n",
      "Contacts <class 'str'>\n"
     ]
    },
    {
     "name": "stderr",
     "output_type": "stream",
     "text": [
      "284it [01:01,  5.54it/s]"
     ]
    },
    {
     "name": "stdout",
     "output_type": "stream",
     "text": [
      "Are there any themed housing communities or special interest groups within the university accommodation?\n",
      "1/1 [==============================] - 0s 26ms/step\n",
      "Contacts <class 'str'>\n"
     ]
    },
    {
     "name": "stderr",
     "output_type": "stream",
     "text": [
      "285it [01:01,  5.63it/s]"
     ]
    },
    {
     "name": "stdout",
     "output_type": "stream",
     "text": [
      "I'd like to bring my pet, are there housing options that accommodate this?\n",
      "1/1 [==============================] - 0s 28ms/step\n",
      "Student Housing <class 'str'>\n"
     ]
    },
    {
     "name": "stderr",
     "output_type": "stream",
     "text": [
      "286it [01:01,  5.63it/s]"
     ]
    },
    {
     "name": "stdout",
     "output_type": "stream",
     "text": [
      "Are there any cultural or themed housing experiences available for international students?\n",
      "1/1 [==============================] - 0s 30ms/step\n",
      "Student Housing <class 'str'>\n"
     ]
    },
    {
     "name": "stderr",
     "output_type": "stream",
     "text": [
      "287it [01:02,  3.29it/s]"
     ]
    },
    {
     "name": "stdout",
     "output_type": "stream",
     "text": [
      "Are there any student organizations or events related to housing and residential life?\n",
      "1/1 [==============================] - 0s 21ms/step\n",
      "Student Housing <class 'str'>\n"
     ]
    },
    {
     "name": "stderr",
     "output_type": "stream",
     "text": [
      "288it [01:02,  3.57it/s]"
     ]
    },
    {
     "name": "stdout",
     "output_type": "stream",
     "text": [
      "How do I handle property insurance or safety concerns for my belongings in off-campus housing?\n",
      "1/1 [==============================] - 0s 20ms/step\n"
     ]
    },
    {
     "name": "stderr",
     "output_type": "stream",
     "text": [
      "289it [01:02,  4.04it/s]"
     ]
    },
    {
     "name": "stdout",
     "output_type": "stream",
     "text": [
      "Student Housing <class 'str'>\n",
      "How does the university assist international students in finding suitable housing options?\n",
      "1/1 [==============================] - 0s 66ms/step\n"
     ]
    },
    {
     "name": "stderr",
     "output_type": "stream",
     "text": [
      "290it [01:03,  3.89it/s]"
     ]
    },
    {
     "name": "stdout",
     "output_type": "stream",
     "text": [
      "Contacts <class 'str'>\n",
      "Are there any housing options that offer a study-friendly environment?\n",
      "1/1 [==============================] - 0s 19ms/step\n",
      "Student Housing <class 'str'>\n"
     ]
    },
    {
     "name": "stderr",
     "output_type": "stream",
     "text": [
      "291it [01:03,  4.28it/s]"
     ]
    },
    {
     "name": "stdout",
     "output_type": "stream",
     "text": [
      "Can you provide recommendations for local moving companies or services for students transitioning into housing?\n",
      "1/1 [==============================] - 0s 18ms/step\n",
      "Student Housing <class 'str'>\n"
     ]
    },
    {
     "name": "stderr",
     "output_type": "stream",
     "text": [
      "292it [01:03,  4.53it/s]"
     ]
    },
    {
     "name": "stdout",
     "output_type": "stream",
     "text": [
      "Can you provide information on any mentorship or peer support programs related to housing transitions?\n",
      "1/1 [==============================] - 0s 25ms/step\n",
      "Contacts <class 'str'>\n"
     ]
    },
    {
     "name": "stderr",
     "output_type": "stream",
     "text": [
      "293it [01:03,  4.49it/s]"
     ]
    },
    {
     "name": "stdout",
     "output_type": "stream",
     "text": [
      "Can I apply for housing even before I've been officially accepted into Kozminski University?\n",
      "1/1 [==============================] - 0s 32ms/step\n",
      "Internship <class 'str'>\n"
     ]
    },
    {
     "name": "stderr",
     "output_type": "stream",
     "text": [
      "294it [01:03,  4.49it/s]"
     ]
    },
    {
     "name": "stdout",
     "output_type": "stream",
     "text": [
      "What are alternatives to on-campus housing at your university?\n",
      "1/1 [==============================] - 0s 20ms/step\n"
     ]
    },
    {
     "name": "stderr",
     "output_type": "stream",
     "text": [
      "295it [01:04,  4.63it/s]"
     ]
    },
    {
     "name": "stdout",
     "output_type": "stream",
     "text": [
      "Student Housing <class 'str'>\n",
      "What's the availability of short-term housing options for students attending summer courses or workshops?\n",
      "1/1 [==============================] - 0s 23ms/step\n",
      "Contacts <class 'str'>\n"
     ]
    },
    {
     "name": "stderr",
     "output_type": "stream",
     "text": [
      "296it [01:04,  3.01it/s]"
     ]
    },
    {
     "name": "stdout",
     "output_type": "stream",
     "text": [
      "Can you provide insights into the process for finding housing if I'll be participating in a semester-long exchange at Kozminski?\n",
      "1/1 [==============================] - 0s 78ms/step\n",
      "Study and Internship abroad <class 'str'>\n"
     ]
    },
    {
     "name": "stderr",
     "output_type": "stream",
     "text": [
      "297it [01:05,  2.63it/s]"
     ]
    },
    {
     "name": "stdout",
     "output_type": "stream",
     "text": [
      "What are hotels I can stay at in Warsaw?\n",
      "1/1 [==============================] - 0s 49ms/step\n",
      "Student Housing <class 'str'>\n"
     ]
    },
    {
     "name": "stderr",
     "output_type": "stream",
     "text": [
      "298it [01:05,  2.75it/s]"
     ]
    },
    {
     "name": "stdout",
     "output_type": "stream",
     "text": [
      "What is the average accommodation cost in Warsaw?\n",
      "1/1 [==============================] - 0s 39ms/step\n",
      "Campus <class 'str'>\n"
     ]
    },
    {
     "name": "stderr",
     "output_type": "stream",
     "text": [
      "299it [01:06,  2.44it/s]"
     ]
    },
    {
     "name": "stdout",
     "output_type": "stream",
     "text": [
      "Can I get any student discount for a hotel room in Warsaw?\n",
      "1/1 [==============================] - 0s 47ms/step\n",
      "Student Housing <class 'str'>\n"
     ]
    },
    {
     "name": "stderr",
     "output_type": "stream",
     "text": [
      "300it [01:06,  2.44it/s]"
     ]
    },
    {
     "name": "stdout",
     "output_type": "stream",
     "text": [
      "Are there any hotels with parking near the university?\n",
      "1/1 [==============================] - 0s 45ms/step\n",
      "Contacts <class 'str'>\n"
     ]
    },
    {
     "name": "stderr",
     "output_type": "stream",
     "text": [
      "301it [01:07,  2.02it/s]"
     ]
    },
    {
     "name": "stdout",
     "output_type": "stream",
     "text": [
      "How much do I need to spend on transportation around Warsaw?\n",
      "1/1 [==============================] - 0s 48ms/step\n",
      "Campus <class 'str'>\n"
     ]
    },
    {
     "name": "stderr",
     "output_type": "stream",
     "text": [
      "302it [01:07,  2.17it/s]"
     ]
    },
    {
     "name": "stdout",
     "output_type": "stream",
     "text": [
      "What are the average costs of living in Warsaw?\n",
      "1/1 [==============================] - 0s 32ms/step\n",
      "Student Housing <class 'str'>\n"
     ]
    },
    {
     "name": "stderr",
     "output_type": "stream",
     "text": [
      "303it [01:07,  2.39it/s]"
     ]
    },
    {
     "name": "stdout",
     "output_type": "stream",
     "text": [
      "Would I spend a lot of money on groceries living in Warsaw?\n",
      "1/1 [==============================] - 0s 27ms/step\n",
      "Student Housing <class 'str'>\n"
     ]
    },
    {
     "name": "stderr",
     "output_type": "stream",
     "text": [
      "304it [01:08,  2.63it/s]"
     ]
    },
    {
     "name": "stdout",
     "output_type": "stream",
     "text": [
      "How does the university assist international students in obtaining visas and settling in Warsaw?\n",
      "1/1 [==============================] - 0s 30ms/step\n",
      "Internship <class 'str'>\n"
     ]
    },
    {
     "name": "stderr",
     "output_type": "stream",
     "text": [
      "305it [01:08,  2.77it/s]"
     ]
    },
    {
     "name": "stdout",
     "output_type": "stream",
     "text": [
      "Hello, I'm a professional athlete from Belgium. I would like to ask aquestion regarding gym. Does Kozminski University has gym on site or partnership with other fitness clubs? \n",
      "1/1 [==============================] - 0s 59ms/step\n",
      "Contacts <class 'str'>\n"
     ]
    },
    {
     "name": "stderr",
     "output_type": "stream",
     "text": [
      "306it [01:08,  2.94it/s]"
     ]
    },
    {
     "name": "stdout",
     "output_type": "stream",
     "text": [
      "Hi,  ilive pretty faк from University and it is kind of hard to have a breakfast. Are there any caffes in the University or close to it? \n",
      "1/1 [==============================] - 0s 21ms/step\n",
      "Programmes and Degrees <class 'str'>\n"
     ]
    },
    {
     "name": "stderr",
     "output_type": "stream",
     "text": [
      "307it [01:09,  3.21it/s]"
     ]
    },
    {
     "name": "stdout",
     "output_type": "stream",
     "text": [
      "Good morrning, I have a problem, my printer is broken. What is the price to copy 50 pages in color? When is the copy point availible? What is the price for 1 page?\n",
      "1/1 [==============================] - 0s 22ms/step\n",
      "Student Housing <class 'str'>\n"
     ]
    },
    {
     "name": "stderr",
     "output_type": "stream",
     "text": [
      "308it [01:09,  3.34it/s]"
     ]
    },
    {
     "name": "stdout",
     "output_type": "stream",
     "text": [
      "Hello, my professor from management suggested us one book, may I find it in book shop? If yes, could you give me information on  when book shop is availible? \n",
      "1/1 [==============================] - 0s 148ms/step\n",
      "Educational resources <class 'str'>\n"
     ]
    },
    {
     "name": "stderr",
     "output_type": "stream",
     "text": [
      "309it [01:09,  2.72it/s]"
     ]
    },
    {
     "name": "stdout",
     "output_type": "stream",
     "text": [
      "I have special diet - I'm vegan. Does Kozminksi have such opportnity to finв vegan food in canteen? Could you tell me where is it located? \n",
      "1/1 [==============================] - 0s 141ms/step\n",
      "Campus <class 'str'>\n"
     ]
    },
    {
     "name": "stderr",
     "output_type": "stream",
     "text": [
      "310it [01:10,  2.17it/s]"
     ]
    },
    {
     "name": "stdout",
     "output_type": "stream",
     "text": [
      "I have an electric car and saw that you have few electric chargers. May i charge my vehicle during classes. Is this option free or not?\n",
      "1/1 [==============================] - 0s 26ms/step\n",
      "Student Housing <class 'str'>\n"
     ]
    },
    {
     "name": "stderr",
     "output_type": "stream",
     "text": [
      "311it [01:10,  2.31it/s]"
     ]
    },
    {
     "name": "stdout",
     "output_type": "stream",
     "text": [
      "Hello, I'm currently in the university and want to withdraw money in order to pay my tuition fee. Where can I find ATM inside? Is there one on site?\n",
      "1/1 [==============================] - 0s 60ms/step\n",
      "Programmes and Degrees <class 'str'>\n"
     ]
    },
    {
     "name": "stderr",
     "output_type": "stream",
     "text": [
      "312it [01:11,  2.49it/s]"
     ]
    },
    {
     "name": "stdout",
     "output_type": "stream",
     "text": [
      "My IQ is lower then 10 and I want all people to know about my autism spectrum disorders, thus I would like to buy some Kozminski clothes. Сould you guide me on the price? \n",
      "1/1 [==============================] - 0s 22ms/step\n",
      "Programmes and Degrees <class 'str'>\n"
     ]
    },
    {
     "name": "stderr",
     "output_type": "stream",
     "text": [
      "313it [01:11,  2.16it/s]"
     ]
    },
    {
     "name": "stdout",
     "output_type": "stream",
     "text": [
      "I'm young mother and i make starting from 100$ a moth sitting at home. Is there possibility to leave my child in playing room for a few hours? \n",
      "1/1 [==============================] - 0s 26ms/step\n",
      "Student Housing <class 'str'>\n"
     ]
    },
    {
     "name": "stderr",
     "output_type": "stream",
     "text": [
      "314it [01:12,  2.37it/s]"
     ]
    },
    {
     "name": "stdout",
     "output_type": "stream",
     "text": [
      "Hi, I heard about you parner's premises that are really well equiped. So my question is arу those rooms availible all the time or only during special classes like Programming or Finance? \n",
      "1/1 [==============================] - 0s 93ms/step\n",
      "Student Housing <class 'str'>\n"
     ]
    },
    {
     "name": "stderr",
     "output_type": "stream",
     "text": [
      "315it [01:12,  2.02it/s]"
     ]
    },
    {
     "name": "stdout",
     "output_type": "stream",
     "text": [
      "How pany parking lots are in the university?\n",
      "1/1 [==============================] - 0s 39ms/step\n",
      "Contacts <class 'str'>\n"
     ]
    },
    {
     "name": "stderr",
     "output_type": "stream",
     "text": [
      "316it [01:13,  1.97it/s]"
     ]
    },
    {
     "name": "stdout",
     "output_type": "stream",
     "text": [
      "Are therу rooms for remote studies? \n",
      "1/1 [==============================] - 0s 84ms/step\n",
      "Student Housing <class 'str'>\n"
     ]
    },
    {
     "name": "stderr",
     "output_type": "stream",
     "text": [
      "317it [01:13,  1.91it/s]"
     ]
    },
    {
     "name": "stdout",
     "output_type": "stream",
     "text": [
      "Is there treadmill in fitness club? \n",
      "1/1 [==============================] - 0s 111ms/step\n",
      "Contacts <class 'str'>\n"
     ]
    },
    {
     "name": "stderr",
     "output_type": "stream",
     "text": [
      "318it [01:14,  1.59it/s]"
     ]
    },
    {
     "name": "stdout",
     "output_type": "stream",
     "text": [
      "May I pring my diploma work on site? \n",
      "1/1 [==============================] - 0s 53ms/step\n",
      "Open Days <class 'str'>\n"
     ]
    },
    {
     "name": "stderr",
     "output_type": "stream",
     "text": [
      "319it [01:15,  1.51it/s]"
     ]
    },
    {
     "name": "stdout",
     "output_type": "stream",
     "text": [
      "Are there conditions to study inside the school? \n",
      "1/1 [==============================] - 0s 45ms/step\n",
      "Contacts <class 'str'>\n"
     ]
    },
    {
     "name": "stderr",
     "output_type": "stream",
     "text": [
      "320it [01:16,  1.61it/s]"
     ]
    },
    {
     "name": "stdout",
     "output_type": "stream",
     "text": [
      "How many cuisines are represented in the dining premises?\n",
      "1/1 [==============================] - 0s 29ms/step\n",
      "Internship <class 'str'>\n"
     ]
    },
    {
     "name": "stderr",
     "output_type": "stream",
     "text": [
      "321it [01:16,  1.79it/s]"
     ]
    },
    {
     "name": "stdout",
     "output_type": "stream",
     "text": [
      "Where can I find special room for programming? \n",
      "1/1 [==============================] - 0s 40ms/step\n",
      "Student Housing <class 'str'>\n"
     ]
    },
    {
     "name": "stderr",
     "output_type": "stream",
     "text": [
      "322it [01:16,  1.92it/s]"
     ]
    },
    {
     "name": "stdout",
     "output_type": "stream",
     "text": [
      "Is there elevator on site of the University?\n",
      "1/1 [==============================] - 0s 51ms/step\n",
      "Internship <class 'str'>\n"
     ]
    },
    {
     "name": "stderr",
     "output_type": "stream",
     "text": [
      "323it [01:17,  2.06it/s]"
     ]
    },
    {
     "name": "stdout",
     "output_type": "stream",
     "text": [
      "Does Kozminski University have barrier-free environment for disabled people? \n",
      "1/1 [==============================] - 0s 38ms/step\n",
      "Programmes and Degrees <class 'str'>\n"
     ]
    },
    {
     "name": "stderr",
     "output_type": "stream",
     "text": [
      "324it [01:17,  2.35it/s]"
     ]
    },
    {
     "name": "stdout",
     "output_type": "stream",
     "text": [
      "What is fare to attend sports hall\n",
      "1/1 [==============================] - 0s 38ms/step\n",
      "Student Housing <class 'str'>\n"
     ]
    },
    {
     "name": "stderr",
     "output_type": "stream",
     "text": [
      "325it [01:18,  2.16it/s]"
     ]
    },
    {
     "name": "stdout",
     "output_type": "stream",
     "text": [
      "Is therу garage to hidу my vehicle? \n",
      "1/1 [==============================] - 0s 53ms/step\n",
      "Student Housing <class 'str'>\n"
     ]
    },
    {
     "name": "stderr",
     "output_type": "stream",
     "text": [
      "326it [01:18,  2.11it/s]"
     ]
    },
    {
     "name": "stdout",
     "output_type": "stream",
     "text": [
      "Wherecan i send my package? \n",
      "1/1 [==============================] - 0s 33ms/step\n",
      "Student Housing <class 'str'>\n"
     ]
    },
    {
     "name": "stderr",
     "output_type": "stream",
     "text": [
      "327it [01:18,  2.32it/s]"
     ]
    },
    {
     "name": "stdout",
     "output_type": "stream",
     "text": [
      "How can I send my application documents?\n",
      "1/1 [==============================] - 0s 33ms/step\n",
      "Admissions and Application Process <class 'str'>\n"
     ]
    },
    {
     "name": "stderr",
     "output_type": "stream",
     "text": [
      "328it [01:19,  2.50it/s]"
     ]
    },
    {
     "name": "stdout",
     "output_type": "stream",
     "text": [
      "Whre can I grab some snacks? \n",
      "1/1 [==============================] - 0s 50ms/step\n",
      "Student Housing <class 'str'>\n"
     ]
    },
    {
     "name": "stderr",
     "output_type": "stream",
     "text": [
      "329it [01:19,  2.54it/s]"
     ]
    },
    {
     "name": "stdout",
     "output_type": "stream",
     "text": [
      "On which floor is located postal service? \n",
      "1/1 [==============================] - 0s 52ms/step\n",
      "Student Housing <class 'str'>\n"
     ]
    },
    {
     "name": "stderr",
     "output_type": "stream",
     "text": [
      "330it [01:20,  2.44it/s]"
     ]
    },
    {
     "name": "stdout",
     "output_type": "stream",
     "text": [
      "What are the opening hours of eatery? \n",
      "1/1 [==============================] - 0s 46ms/step\n",
      "Open Days <class 'str'>\n"
     ]
    },
    {
     "name": "stderr",
     "output_type": "stream",
     "text": [
      "331it [01:20,  2.05it/s]"
     ]
    },
    {
     "name": "stdout",
     "output_type": "stream",
     "text": [
      "Is there chineese cuisine in the caffeteria? \n",
      "1/1 [==============================] - 0s 41ms/step\n",
      "Campus <class 'str'>\n"
     ]
    },
    {
     "name": "stderr",
     "output_type": "stream",
     "text": [
      "332it [01:21,  2.23it/s]"
     ]
    },
    {
     "name": "stdout",
     "output_type": "stream",
     "text": [
      "Is there fast charge for electric car? \n",
      "1/1 [==============================] - 0s 43ms/step\n",
      "Student Housing <class 'str'>\n"
     ]
    },
    {
     "name": "stderr",
     "output_type": "stream",
     "text": [
      "333it [01:21,  2.23it/s]"
     ]
    },
    {
     "name": "stdout",
     "output_type": "stream",
     "text": [
      "In which bilding is located computer class? \n",
      "1/1 [==============================] - 0s 58ms/step\n",
      "Student Housing <class 'str'>\n"
     ]
    },
    {
     "name": "stderr",
     "output_type": "stream",
     "text": [
      "334it [01:22,  2.14it/s]"
     ]
    },
    {
     "name": "stdout",
     "output_type": "stream",
     "text": [
      "Where law classes are conducted? \n",
      "1/1 [==============================] - 0s 29ms/step\n",
      "Student Housing <class 'str'>\n"
     ]
    },
    {
     "name": "stderr",
     "output_type": "stream",
     "text": [
      "335it [01:22,  2.41it/s]"
     ]
    },
    {
     "name": "stdout",
     "output_type": "stream",
     "text": [
      "How well are computer calasses are equiped? \n",
      "1/1 [==============================] - 0s 31ms/step\n",
      "Student Housing <class 'str'>\n"
     ]
    },
    {
     "name": "stderr",
     "output_type": "stream",
     "text": [
      "336it [01:22,  2.19it/s]"
     ]
    },
    {
     "name": "stdout",
     "output_type": "stream",
     "text": [
      "Are there any srort events on site? \n",
      "1/1 [==============================] - 0s 51ms/step\n",
      "Student Housing <class 'str'>\n"
     ]
    },
    {
     "name": "stderr",
     "output_type": "stream",
     "text": [
      "337it [01:23,  2.12it/s]"
     ]
    },
    {
     "name": "stdout",
     "output_type": "stream",
     "text": [
      "Is there basketball or volleyball court inside university?\n",
      "1/1 [==============================] - 0s 33ms/step\n",
      "Contacts <class 'str'>\n"
     ]
    },
    {
     "name": "stderr",
     "output_type": "stream",
     "text": [
      "338it [01:24,  1.64it/s]"
     ]
    },
    {
     "name": "stdout",
     "output_type": "stream",
     "text": [
      "Are computer games availible in programming rooms? \n",
      "1/1 [==============================] - 0s 47ms/step\n",
      "Student Housing <class 'str'>\n"
     ]
    },
    {
     "name": "stderr",
     "output_type": "stream",
     "text": [
      "339it [01:24,  1.73it/s]"
     ]
    },
    {
     "name": "stdout",
     "output_type": "stream",
     "text": [
      "May I bring my child on campus?\n",
      "1/1 [==============================] - 0s 36ms/step\n",
      "Campus <class 'str'>\n"
     ]
    },
    {
     "name": "stderr",
     "output_type": "stream",
     "text": [
      "340it [01:25,  1.94it/s]"
     ]
    },
    {
     "name": "stdout",
     "output_type": "stream",
     "text": [
      "How can I rest instide Kozminski building? \n",
      "1/1 [==============================] - 0s 33ms/step\n",
      "Student Housing <class 'str'>\n"
     ]
    },
    {
     "name": "stderr",
     "output_type": "stream",
     "text": [
      "341it [01:25,  2.05it/s]"
     ]
    },
    {
     "name": "stdout",
     "output_type": "stream",
     "text": [
      "Which classes are conducted in hybrid mode? \n",
      "1/1 [==============================] - 0s 25ms/step\n",
      "Student Housing <class 'str'>\n"
     ]
    },
    {
     "name": "stderr",
     "output_type": "stream",
     "text": [
      "342it [01:26,  2.12it/s]"
     ]
    },
    {
     "name": "stdout",
     "output_type": "stream",
     "text": [
      "What are the possibilities to stdudy for people with physical disorders? \n",
      "1/1 [==============================] - 0s 33ms/step\n",
      "Student Housing <class 'str'>\n"
     ]
    },
    {
     "name": "stderr",
     "output_type": "stream",
     "text": [
      "343it [01:26,  2.41it/s]"
     ]
    },
    {
     "name": "stdout",
     "output_type": "stream",
     "text": [
      "Do you have rehabilitation classes at the fitness hall? \n",
      "1/1 [==============================] - 0s 32ms/step\n",
      "Student Housing <class 'str'>\n"
     ]
    },
    {
     "name": "stderr",
     "output_type": "stream",
     "text": [
      "344it [01:26,  2.66it/s]"
     ]
    },
    {
     "name": "stdout",
     "output_type": "stream",
     "text": [
      "What is the availibility of canteen?\n",
      "1/1 [==============================] - 0s 55ms/step\n",
      "Student Housing <class 'str'>\n"
     ]
    },
    {
     "name": "stderr",
     "output_type": "stream",
     "text": [
      "345it [01:27,  2.41it/s]"
     ]
    },
    {
     "name": "stdout",
     "output_type": "stream",
     "text": [
      "What are the opening hours of gym?\n",
      "1/1 [==============================] - 0s 34ms/step\n",
      "Open Days <class 'str'>\n"
     ]
    },
    {
     "name": "stderr",
     "output_type": "stream",
     "text": [
      "346it [01:27,  2.38it/s]"
     ]
    },
    {
     "name": "stdout",
     "output_type": "stream",
     "text": [
      "Untill what time may I be on site?\n",
      "1/1 [==============================] - 0s 61ms/step\n",
      "Internship <class 'str'>\n"
     ]
    },
    {
     "name": "stderr",
     "output_type": "stream",
     "text": [
      "347it [01:28,  2.32it/s]"
     ]
    },
    {
     "name": "stdout",
     "output_type": "stream",
     "text": [
      "How can I get to the university on a wheelchair? \n",
      "1/1 [==============================] - 0s 146ms/step\n",
      "Contacts <class 'str'>\n"
     ]
    },
    {
     "name": "stderr",
     "output_type": "stream",
     "text": [
      "348it [01:28,  1.96it/s]"
     ]
    },
    {
     "name": "stdout",
     "output_type": "stream",
     "text": [
      "Do I have time today to send the documents?\n",
      "1/1 [==============================] - 0s 72ms/step\n",
      "Admissions and Application Process <class 'str'>\n"
     ]
    },
    {
     "name": "stderr",
     "output_type": "stream",
     "text": [
      "349it [01:29,  1.98it/s]"
     ]
    },
    {
     "name": "stdout",
     "output_type": "stream",
     "text": [
      "Where Finance classes are hold? \n",
      "1/1 [==============================] - 0s 36ms/step\n",
      "Admissions and Application Process <class 'str'>\n"
     ]
    },
    {
     "name": "stderr",
     "output_type": "stream",
     "text": [
      "350it [01:29,  2.02it/s]"
     ]
    },
    {
     "name": "stdout",
     "output_type": "stream",
     "text": [
      "Shoud I pay for food or it is included in tuition fee? \n",
      "1/1 [==============================] - 0s 38ms/step\n",
      "Admissions and Application Process <class 'str'>\n"
     ]
    },
    {
     "name": "stderr",
     "output_type": "stream",
     "text": [
      "351it [01:30,  2.07it/s]"
     ]
    },
    {
     "name": "stdout",
     "output_type": "stream",
     "text": [
      "Where is the football field located?\n",
      "1/1 [==============================] - 0s 58ms/step\n",
      "Student Housing <class 'str'>\n"
     ]
    },
    {
     "name": "stderr",
     "output_type": "stream",
     "text": [
      "352it [01:30,  2.09it/s]"
     ]
    },
    {
     "name": "stdout",
     "output_type": "stream",
     "text": [
      "What is the closest restaurant to building B?\n",
      "1/1 [==============================] - 0s 198ms/step\n",
      "Student Housing <class 'str'>\n"
     ]
    },
    {
     "name": "stderr",
     "output_type": "stream",
     "text": [
      "353it [01:31,  1.79it/s]"
     ]
    },
    {
     "name": "stdout",
     "output_type": "stream",
     "text": [
      "In which building is copy office located? \n",
      "1/1 [==============================] - 0s 66ms/step\n",
      "Student Housing <class 'str'>\n"
     ]
    },
    {
     "name": "stderr",
     "output_type": "stream",
     "text": [
      "354it [01:31,  1.86it/s]"
     ]
    },
    {
     "name": "stdout",
     "output_type": "stream",
     "text": [
      "How many gym premises are in total in Kozminski? \n",
      "1/1 [==============================] - 0s 41ms/step\n",
      "Programmes and Degrees <class 'str'>\n"
     ]
    },
    {
     "name": "stderr",
     "output_type": "stream",
     "text": [
      "355it [01:32,  1.91it/s]"
     ]
    },
    {
     "name": "stdout",
     "output_type": "stream",
     "text": [
      "Hello, I plan to apply for a Bachelor's degree at Komzinksi. What are the requirements to be enrolled on an open day event. Are all open days have similar information or is it vary from one to another?\n",
      "1/1 [==============================] - 0s 97ms/step\n",
      "Open Days <class 'str'>\n"
     ]
    },
    {
     "name": "stderr",
     "output_type": "stream",
     "text": [
      "356it [01:33,  1.77it/s]"
     ]
    },
    {
     "name": "stdout",
     "output_type": "stream",
     "text": [
      "Hi, I have interest in studying Management on course that is conducted in English. Will be any useful information durin excursion if I'm not fluent in Polish language? \n",
      "1/1 [==============================] - 0s 87ms/step\n",
      "Contacts <class 'str'>\n"
     ]
    },
    {
     "name": "stderr",
     "output_type": "stream",
     "text": [
      "357it [01:33,  1.68it/s]"
     ]
    },
    {
     "name": "stdout",
     "output_type": "stream",
     "text": [
      "Hello, I was really attracted by youк Finance program in English. Where can I get more information about this program and to meet representatives of the University? Is there any chance to have such possibility?\n",
      "1/1 [==============================] - 0s 70ms/step\n",
      "Admissions and Application Process <class 'str'>\n"
     ]
    },
    {
     "name": "stderr",
     "output_type": "stream",
     "text": [
      "358it [01:34,  1.72it/s]"
     ]
    },
    {
     "name": "stdout",
     "output_type": "stream",
     "text": [
      "Good morning, I have mentioned that you have event on site for applicants. My question - is there a choice between Polish and English event? If no, may I bring a friend who could translate to me? \n",
      "1/1 [==============================] - 0s 40ms/step\n",
      "Admissions and Application Process <class 'str'>\n"
     ]
    },
    {
     "name": "stderr",
     "output_type": "stream",
     "text": [
      "359it [01:34,  1.76it/s]"
     ]
    },
    {
     "name": "stdout",
     "output_type": "stream",
     "text": [
      "Hi, I have a few question considering my application process at this University. What is the main goal of open day event? Will I have a possibility to ask them or is this event mostly looks like a lecture? \n",
      "1/1 [==============================] - 0s 28ms/step\n",
      "Open Days <class 'str'>\n"
     ]
    },
    {
     "name": "stderr",
     "output_type": "stream",
     "text": [
      "360it [01:35,  2.08it/s]"
     ]
    },
    {
     "name": "stdout",
     "output_type": "stream",
     "text": [
      "Hello, I was wondering if open days event is obligatory for applicants or not. Will be there any information that is not presented on website or any crucial information considering enrollment process?\n",
      "1/1 [==============================] - 0s 26ms/step\n",
      "Open Days <class 'str'>\n"
     ]
    },
    {
     "name": "stderr",
     "output_type": "stream",
     "text": [
      "361it [01:35,  2.13it/s]"
     ]
    },
    {
     "name": "stdout",
     "output_type": "stream",
     "text": [
      "Good afternoon, вo I have to fill out anything to get to the open days activity? If yes, where can I find form to fill in and where I can check schedule?\n",
      "1/1 [==============================] - 0s 31ms/step\n",
      "Open Days <class 'str'>\n"
     ]
    },
    {
     "name": "stderr",
     "output_type": "stream",
     "text": [
      "362it [01:36,  1.73it/s]"
     ]
    },
    {
     "name": "stdout",
     "output_type": "stream",
     "text": [
      "Hello, I accidentally skipped previous open days that I was signed in, thus may I come for second one? Will be information about scholarship presented during this event? \n",
      "1/1 [==============================] - 0s 27ms/step\n",
      "Open Days <class 'str'>\n"
     ]
    },
    {
     "name": "stderr",
     "output_type": "stream",
     "text": [
      "363it [01:36,  2.09it/s]"
     ]
    },
    {
     "name": "stdout",
     "output_type": "stream",
     "text": [
      "Hi, I really would like to talk with students of Kozminski in order find more information. Mostly, from people who are from Marketingprogram. Will I havу such possibility during any event for applicants? \n",
      "1/1 [==============================] - 0s 32ms/step\n",
      "Programmes and Degrees <class 'str'>\n"
     ]
    },
    {
     "name": "stderr",
     "output_type": "stream",
     "text": [
      "364it [01:37,  2.12it/s]"
     ]
    },
    {
     "name": "stdout",
     "output_type": "stream",
     "text": [
      "Hello, I have read that you are having open days in a week. Will be there representatitves of Management program in a face of Professors or students. I would like to gather more information about my program.\n",
      "1/1 [==============================] - 0s 37ms/step\n",
      "Open Days <class 'str'>\n"
     ]
    },
    {
     "name": "stderr",
     "output_type": "stream",
     "text": [
      "365it [01:37,  2.34it/s]"
     ]
    },
    {
     "name": "stdout",
     "output_type": "stream",
     "text": [
      "Is there any possibility to visit the University without student id?\n",
      "1/1 [==============================] - 0s 38ms/step\n",
      "Contacts <class 'str'>\n"
     ]
    },
    {
     "name": "stderr",
     "output_type": "stream",
     "text": [
      "366it [01:37,  2.67it/s]"
     ]
    },
    {
     "name": "stdout",
     "output_type": "stream",
     "text": [
      "Are there any special days for applicants to talk with University representatives in persone? \n",
      "1/1 [==============================] - 0s 123ms/step\n"
     ]
    },
    {
     "name": "stderr",
     "output_type": "stream",
     "text": [
      "367it [01:38,  2.60it/s]"
     ]
    },
    {
     "name": "stdout",
     "output_type": "stream",
     "text": [
      "Contacts <class 'str'>\n",
      "Is onformation during excursion covered both for Bachelor and Master candidates? \n",
      "1/1 [==============================] - 0s 24ms/step\n",
      "Programmes and Degrees <class 'str'>\n"
     ]
    },
    {
     "name": "stderr",
     "output_type": "stream",
     "text": [
      "368it [01:38,  2.87it/s]"
     ]
    },
    {
     "name": "stdout",
     "output_type": "stream",
     "text": [
      "How many open days are hold during the year?\n",
      "1/1 [==============================] - 0s 45ms/step\n",
      "Open Days <class 'str'>\n"
     ]
    },
    {
     "name": "stderr",
     "output_type": "stream",
     "text": [
      "369it [01:38,  3.04it/s]"
     ]
    },
    {
     "name": "stdout",
     "output_type": "stream",
     "text": [
      "Are there events for applicants during winter? \n",
      "1/1 [==============================] - 0s 30ms/step\n",
      "Student Housing <class 'str'>\n"
     ]
    },
    {
     "name": "stderr",
     "output_type": "stream",
     "text": [
      "370it [01:38,  3.05it/s]"
     ]
    },
    {
     "name": "stdout",
     "output_type": "stream",
     "text": [
      "Are there any rules regarding attending this event?\n",
      "1/1 [==============================] - 0s 32ms/step\n",
      "Internship <class 'str'>\n"
     ]
    },
    {
     "name": "stderr",
     "output_type": "stream",
     "text": [
      "371it [01:39,  3.31it/s]"
     ]
    },
    {
     "name": "stdout",
     "output_type": "stream",
     "text": [
      "Which forms should I sign in in order to takу part in Open Days event? \n",
      "1/1 [==============================] - 0s 49ms/step\n",
      "Open Days <class 'str'>\n"
     ]
    },
    {
     "name": "stderr",
     "output_type": "stream",
     "text": [
      "372it [01:39,  3.51it/s]"
     ]
    },
    {
     "name": "stdout",
     "output_type": "stream",
     "text": [
      "Will be information about management coverd during excursion? \n",
      "1/1 [==============================] - 0s 45ms/step\n",
      "Educational resources <class 'str'>\n"
     ]
    },
    {
     "name": "stderr",
     "output_type": "stream",
     "text": [
      "373it [01:39,  3.42it/s]"
     ]
    },
    {
     "name": "stdout",
     "output_type": "stream",
     "text": [
      "Does University gives opportunity to talk with professors during excursion\n",
      "1/1 [==============================] - 0s 48ms/step\n",
      "Open Days <class 'str'>\n"
     ]
    },
    {
     "name": "stderr",
     "output_type": "stream",
     "text": [
      "374it [01:40,  2.78it/s]"
     ]
    },
    {
     "name": "stdout",
     "output_type": "stream",
     "text": [
      "Is information for students with disabilities presented during  event? \n",
      "1/1 [==============================] - 0s 37ms/step\n",
      "Contacts <class 'str'>\n"
     ]
    },
    {
     "name": "stderr",
     "output_type": "stream",
     "text": [
      "375it [01:40,  2.29it/s]"
     ]
    },
    {
     "name": "stdout",
     "output_type": "stream",
     "text": [
      "Does university porvides chance to talk with current students during open days?\n",
      "1/1 [==============================] - 0s 39ms/step\n",
      "Open Days <class 'str'>\n"
     ]
    },
    {
     "name": "stderr",
     "output_type": "stream",
     "text": [
      "376it [01:41,  2.30it/s]"
     ]
    },
    {
     "name": "stdout",
     "output_type": "stream",
     "text": [
      "Who arу those people that conduct presentation about university?\n",
      "1/1 [==============================] - 0s 163ms/step\n",
      "Internship <class 'str'>\n"
     ]
    },
    {
     "name": "stderr",
     "output_type": "stream",
     "text": [
      "377it [01:41,  2.14it/s]"
     ]
    },
    {
     "name": "stdout",
     "output_type": "stream",
     "text": [
      "When I can take part in Open days? \n",
      "1/1 [==============================] - 0s 55ms/step\n",
      "Open Days <class 'str'>\n"
     ]
    },
    {
     "name": "stderr",
     "output_type": "stream",
     "text": [
      "378it [01:42,  2.00it/s]"
     ]
    },
    {
     "name": "stdout",
     "output_type": "stream",
     "text": [
      "Does excurtion include campus facilities review? \n",
      "1/1 [==============================] - 0s 29ms/step\n",
      "Campus <class 'str'>\n"
     ]
    },
    {
     "name": "stderr",
     "output_type": "stream",
     "text": [
      "379it [01:42,  2.02it/s]"
     ]
    },
    {
     "name": "stdout",
     "output_type": "stream",
     "text": [
      "Will I have a chance to ask questions regarding scholarship in persone? \n",
      "1/1 [==============================] - 0s 36ms/step\n",
      "Scholarship  <class 'str'>\n"
     ]
    },
    {
     "name": "stderr",
     "output_type": "stream",
     "text": [
      "380it [01:43,  2.21it/s]"
     ]
    },
    {
     "name": "stdout",
     "output_type": "stream",
     "text": [
      "On which possible activities may I count on during open day? \n",
      "1/1 [==============================] - 0s 32ms/step\n",
      "Open Days <class 'str'>\n"
     ]
    },
    {
     "name": "stderr",
     "output_type": "stream",
     "text": [
      "381it [01:43,  2.45it/s]"
     ]
    },
    {
     "name": "stdout",
     "output_type": "stream",
     "text": [
      "Will be a chance to talk to dean office members during excursion? \n",
      "1/1 [==============================] - 0s 121ms/step\n",
      "Contacts <class 'str'>\n"
     ]
    },
    {
     "name": "stderr",
     "output_type": "stream",
     "text": [
      "382it [01:44,  2.30it/s]"
     ]
    },
    {
     "name": "stdout",
     "output_type": "stream",
     "text": [
      "Are partners of kozminski University also take part in open day event? \n",
      "1/1 [==============================] - 0s 22ms/step\n",
      "Open Days <class 'str'>\n"
     ]
    },
    {
     "name": "stderr",
     "output_type": "stream",
     "text": [
      "383it [01:44,  2.69it/s]"
     ]
    },
    {
     "name": "stdout",
     "output_type": "stream",
     "text": [
      "How long will the open day last?\n",
      "1/1 [==============================] - 0s 36ms/step\n",
      "Open Days <class 'str'>\n"
     ]
    },
    {
     "name": "stderr",
     "output_type": "stream",
     "text": [
      "384it [01:44,  2.90it/s]"
     ]
    },
    {
     "name": "stdout",
     "output_type": "stream",
     "text": [
      "In which class wil be event hold? \n",
      "1/1 [==============================] - 0s 21ms/step\n"
     ]
    },
    {
     "name": "stderr",
     "output_type": "stream",
     "text": [
      "385it [01:44,  3.31it/s]"
     ]
    },
    {
     "name": "stdout",
     "output_type": "stream",
     "text": [
      "Student Housing <class 'str'>\n",
      "Does open day event includes Q&A session? \n",
      "1/1 [==============================] - 0s 24ms/step\n",
      "Open Days <class 'str'>\n"
     ]
    },
    {
     "name": "stderr",
     "output_type": "stream",
     "text": [
      "386it [01:45,  2.77it/s]"
     ]
    },
    {
     "name": "stdout",
     "output_type": "stream",
     "text": [
      "Will there be an example of a lecture during the tour?\n",
      "1/1 [==============================] - 0s 22ms/step\n"
     ]
    },
    {
     "name": "stderr",
     "output_type": "stream",
     "text": [
      "387it [01:45,  3.23it/s]"
     ]
    },
    {
     "name": "stdout",
     "output_type": "stream",
     "text": [
      "Student Housing <class 'str'>\n",
      "Shoul I bring any documents in order to verify myself during open day? \n",
      "1/1 [==============================] - 0s 35ms/step\n"
     ]
    },
    {
     "name": "stderr",
     "output_type": "stream",
     "text": [
      "388it [01:45,  3.63it/s]"
     ]
    },
    {
     "name": "stdout",
     "output_type": "stream",
     "text": [
      "Open Days <class 'str'>\n",
      "Will there be a break during the open days? \n",
      "1/1 [==============================] - 0s 19ms/step\n",
      "Open Days <class 'str'>\n"
     ]
    },
    {
     "name": "stderr",
     "output_type": "stream",
     "text": [
      "389it [01:45,  4.04it/s]"
     ]
    },
    {
     "name": "stdout",
     "output_type": "stream",
     "text": [
      "What should I do if I missed both Open Days that are hold in summer? \n",
      "1/1 [==============================] - 0s 41ms/step\n",
      "Open Days <class 'str'>\n"
     ]
    },
    {
     "name": "stderr",
     "output_type": "stream",
     "text": [
      "390it [01:46,  4.14it/s]"
     ]
    },
    {
     "name": "stdout",
     "output_type": "stream",
     "text": [
      "is there possibility to visit university besides Open days?\n",
      "1/1 [==============================] - 0s 21ms/step\n"
     ]
    },
    {
     "name": "stderr",
     "output_type": "stream",
     "text": [
      "391it [01:46,  4.43it/s]"
     ]
    },
    {
     "name": "stdout",
     "output_type": "stream",
     "text": [
      "Open Days <class 'str'>\n",
      "May people with hearing disabilities also take part in university excursion? \n",
      "1/1 [==============================] - 0s 62ms/step\n"
     ]
    },
    {
     "name": "stderr",
     "output_type": "stream",
     "text": [
      "392it [01:46,  4.09it/s]"
     ]
    },
    {
     "name": "stdout",
     "output_type": "stream",
     "text": [
      "Internship <class 'str'>\n",
      "How can I talk to a university representative in persone? \n",
      "1/1 [==============================] - 0s 29ms/step\n"
     ]
    },
    {
     "name": "stderr",
     "output_type": "stream",
     "text": [
      "393it [01:46,  4.13it/s]"
     ]
    },
    {
     "name": "stdout",
     "output_type": "stream",
     "text": [
      "Contacts <class 'str'>\n",
      "Where can I find information about tudent activities, events?\n",
      "1/1 [==============================] - 0s 22ms/step\n"
     ]
    },
    {
     "name": "stderr",
     "output_type": "stream",
     "text": [
      "394it [01:46,  4.07it/s]"
     ]
    },
    {
     "name": "stdout",
     "output_type": "stream",
     "text": [
      "Contacts <class 'str'>\n",
      "Is excurtion devided into sections like Bachelore in Finance or Master in Management or not? \n",
      "1/1 [==============================] - 0s 20ms/step\n",
      "Programmes and Degrees <class 'str'>\n"
     ]
    },
    {
     "name": "stderr",
     "output_type": "stream",
     "text": [
      "395it [01:47,  4.39it/s]"
     ]
    },
    {
     "name": "stdout",
     "output_type": "stream",
     "text": [
      "Which requirements should I met in order to take part in open day? \n",
      "1/1 [==============================] - 0s 21ms/step\n",
      "Open Days <class 'str'>\n"
     ]
    },
    {
     "name": "stderr",
     "output_type": "stream",
     "text": [
      "396it [01:47,  4.50it/s]"
     ]
    },
    {
     "name": "stdout",
     "output_type": "stream",
     "text": [
      "Will be questions regarding exchange program covered during excursion? \n",
      "1/1 [==============================] - 0s 21ms/step\n"
     ]
    },
    {
     "name": "stderr",
     "output_type": "stream",
     "text": [
      "397it [01:47,  4.72it/s]"
     ]
    },
    {
     "name": "stdout",
     "output_type": "stream",
     "text": [
      "Study and Internship abroad <class 'str'>\n",
      "Is information about specific programs presented during open days? \n",
      "1/1 [==============================] - 0s 32ms/step\n"
     ]
    },
    {
     "name": "stderr",
     "output_type": "stream",
     "text": [
      "398it [01:47,  4.68it/s]"
     ]
    },
    {
     "name": "stdout",
     "output_type": "stream",
     "text": [
      "Open Days <class 'str'>\n",
      "In which sections is excursion devided? \n",
      "1/1 [==============================] - 0s 19ms/step\n",
      "Student Housing <class 'str'>\n"
     ]
    },
    {
     "name": "stderr",
     "output_type": "stream",
     "text": [
      "399it [01:47,  4.80it/s]"
     ]
    },
    {
     "name": "stdout",
     "output_type": "stream",
     "text": [
      "Shoul I expect physical university excursion or only presentaiton in a lecture hall? \n",
      "1/1 [==============================] - 0s 20ms/step\n"
     ]
    },
    {
     "name": "stderr",
     "output_type": "stream",
     "text": [
      "400it [01:48,  4.93it/s]"
     ]
    },
    {
     "name": "stdout",
     "output_type": "stream",
     "text": [
      "Internship <class 'str'>\n",
      "May my parents also come with me on open days event? \n",
      "1/1 [==============================] - 0s 27ms/step\n",
      "Open Days <class 'str'>\n"
     ]
    },
    {
     "name": "stderr",
     "output_type": "stream",
     "text": [
      "401it [01:48,  5.01it/s]"
     ]
    },
    {
     "name": "stdout",
     "output_type": "stream",
     "text": [
      "I will not have a possibility to be present physically, thus is there a way to connect online? \n",
      "1/1 [==============================] - 0s 22ms/step\n",
      "Contacts <class 'str'>\n"
     ]
    },
    {
     "name": "stderr",
     "output_type": "stream",
     "text": [
      "402it [01:48,  4.35it/s]"
     ]
    },
    {
     "name": "stdout",
     "output_type": "stream",
     "text": [
      "Should I bring anything with me to do tasks or anything else for open day event? \n",
      "1/1 [==============================] - 0s 20ms/step\n"
     ]
    },
    {
     "name": "stderr",
     "output_type": "stream",
     "text": [
      "403it [01:48,  4.57it/s]"
     ]
    },
    {
     "name": "stdout",
     "output_type": "stream",
     "text": [
      "Open Days <class 'str'>\n",
      "Whom can I contact if I am late for the excursion in order to find a supervisor? \n",
      "1/1 [==============================] - 0s 20ms/step\n",
      "Contacts <class 'str'>\n"
     ]
    },
    {
     "name": "stderr",
     "output_type": "stream",
     "text": [
      "404it [01:49,  4.87it/s]"
     ]
    },
    {
     "name": "stdout",
     "output_type": "stream",
     "text": [
      "What sis the limit on people whom I can bring with me during open day excursion? \n",
      "1/1 [==============================] - 0s 27ms/step\n",
      "Open Days <class 'str'>\n"
     ]
    },
    {
     "name": "stderr",
     "output_type": "stream",
     "text": [
      "405it [01:49,  4.96it/s]"
     ]
    },
    {
     "name": "stdout",
     "output_type": "stream",
     "text": [
      "Hello,  i am 17 and have finished my school lately. Am I able to apply for Bachelor in Finance if I am still under 18? Should I provide any  legal permission from my parents?\n",
      "1/1 [==============================] - 0s 24ms/step\n",
      "Admissions and Application Process <class 'str'>\n"
     ]
    },
    {
     "name": "stderr",
     "output_type": "stream",
     "text": [
      "406it [01:49,  5.08it/s]"
     ]
    },
    {
     "name": "stdout",
     "output_type": "stream",
     "text": [
      "Hi, I have no idea which documents should I provide in order to be enrolled on studies. Could you guide me on when, which and how should I apply in order to havу successful result?\n",
      "1/1 [==============================] - 0s 29ms/step\n",
      "Admissions and Application Process <class 'str'>\n"
     ]
    },
    {
     "name": "stderr",
     "output_type": "stream",
     "text": [
      "407it [01:49,  5.13it/s]"
     ]
    },
    {
     "name": "stdout",
     "output_type": "stream",
     "text": [
      "Good morning, the laest application date is in august, however, I cannot provide all my documents due to lack of access to them. Is there any possibility for me to provide those documents later ?\n",
      "1/1 [==============================] - 0s 33ms/step\n",
      "Admissions and Application Process <class 'str'>\n"
     ]
    },
    {
     "name": "stderr",
     "output_type": "stream",
     "text": [
      "408it [01:49,  4.92it/s]"
     ]
    },
    {
     "name": "stdout",
     "output_type": "stream",
     "text": [
      "Hi, I have a question regarding minimum english level for applicants. May I not provide language certificate and provide documents from my previous university where I studied in english? \n",
      "1/1 [==============================] - 0s 20ms/step\n"
     ]
    },
    {
     "name": "stderr",
     "output_type": "stream",
     "text": [
      "409it [01:50,  5.02it/s]"
     ]
    },
    {
     "name": "stdout",
     "output_type": "stream",
     "text": [
      "Admissions and Application Process <class 'str'>\n",
      "Good morning, I apply for various universities and would like to know whether you give ability to provide copies of documents instead of original for enrollment process?\n",
      "1/1 [==============================] - 0s 21ms/step\n",
      "Admissions and Application Process <class 'str'>\n"
     ]
    },
    {
     "name": "stderr",
     "output_type": "stream",
     "text": [
      "410it [01:50,  3.51it/s]"
     ]
    },
    {
     "name": "stdout",
     "output_type": "stream",
     "text": [
      "Hi, I dropped from my previous university where I was on second year of Finance studies. Is there a possibility to countinue my studies from third year? If yes, which classes should I retake?\n",
      "1/1 [==============================] - 0s 19ms/step\n",
      "Contacts <class 'str'>\n"
     ]
    },
    {
     "name": "stderr",
     "output_type": "stream",
     "text": [
      "411it [01:50,  3.82it/s]"
     ]
    },
    {
     "name": "stdout",
     "output_type": "stream",
     "text": [
      "Hello, I have graduated from the university a few years agom now I plan to apply for Master degree. Is my Bachelors degree still valid and can I study Marketing if my Bachelor's degree was from Management?\n",
      "1/1 [==============================] - 0s 23ms/step\n",
      "Double Degree programs <class 'str'>\n"
     ]
    },
    {
     "name": "stderr",
     "output_type": "stream",
     "text": [
      "412it [01:50,  4.01it/s]"
     ]
    },
    {
     "name": "stdout",
     "output_type": "stream",
     "text": [
      "Hi, my passport expires in a few monthes, in september. Renewal process wil take about a few monthes. Is it possible to provide my old or temporary  passport in order to provide full set of documents?\n",
      "1/1 [==============================] - 0s 30ms/step\n"
     ]
    },
    {
     "name": "stderr",
     "output_type": "stream",
     "text": [
      "413it [01:51,  4.31it/s]"
     ]
    },
    {
     "name": "stdout",
     "output_type": "stream",
     "text": [
      "Educational resources <class 'str'>\n",
      "Hello, I study on Mangement & AI program and would like to change my major on clean Management. Will it be possible to enroll without losing years and star studies from second year?\n",
      "1/1 [==============================] - 0s 137ms/step\n"
     ]
    },
    {
     "name": "stderr",
     "output_type": "stream",
     "text": [
      "414it [01:51,  3.83it/s]"
     ]
    },
    {
     "name": "stdout",
     "output_type": "stream",
     "text": [
      "Contacts <class 'str'>\n",
      "Hi, I do not have any english certificate and want to gather one for application process. Could you recommend me which one of those certificates is most useful fur studies at Kozminski? \n",
      "1/1 [==============================] - 0s 19ms/step\n",
      "Admissions and Application Process <class 'str'>\n"
     ]
    },
    {
     "name": "stderr",
     "output_type": "stream",
     "text": [
      "415it [01:51,  4.23it/s]"
     ]
    },
    {
     "name": "stdout",
     "output_type": "stream",
     "text": [
      "Which certificate is more preferable for aplication? TOEFL or IELTS?\n",
      "1/1 [==============================] - 0s 24ms/step\n",
      "Admissions and Application Process <class 'str'>\n"
     ]
    },
    {
     "name": "stderr",
     "output_type": "stream",
     "text": [
      "416it [01:51,  4.41it/s]"
     ]
    },
    {
     "name": "stdout",
     "output_type": "stream",
     "text": [
      "When application process for Bachelor's degree starts in summer?\n",
      "1/1 [==============================] - 0s 19ms/step\n",
      "Admissions and Application Process <class 'str'>\n"
     ]
    },
    {
     "name": "stderr",
     "output_type": "stream",
     "text": [
      "417it [01:52,  4.73it/s]"
     ]
    },
    {
     "name": "stdout",
     "output_type": "stream",
     "text": [
      "When can I apply again if my papers were rejected?\n",
      "1/1 [==============================] - 0s 26ms/step\n",
      "Admissions and Application Process <class 'str'>\n"
     ]
    },
    {
     "name": "stderr",
     "output_type": "stream",
     "text": [
      "418it [01:52,  4.93it/s]"
     ]
    },
    {
     "name": "stdout",
     "output_type": "stream",
     "text": [
      "Can you name the most essential documents that I should provide no later then application deadline?\n",
      "1/1 [==============================] - 0s 30ms/step\n",
      "Admissions and Application Process <class 'str'>\n"
     ]
    },
    {
     "name": "stderr",
     "output_type": "stream",
     "text": [
      "419it [01:52,  5.03it/s]"
     ]
    },
    {
     "name": "stdout",
     "output_type": "stream",
     "text": [
      "Which documents can be added after application process deadline was reached?\n",
      "1/1 [==============================] - 0s 26ms/step\n",
      "Admissions and Application Process <class 'str'>\n"
     ]
    },
    {
     "name": "stderr",
     "output_type": "stream",
     "text": [
      "420it [01:52,  4.97it/s]"
     ]
    },
    {
     "name": "stdout",
     "output_type": "stream",
     "text": [
      "What is the maximum number of people that can be enrolled on Bachelor's in Finance?\n",
      "1/1 [==============================] - 0s 30ms/step\n",
      "Programmes and Degrees <class 'str'>\n"
     ]
    },
    {
     "name": "stderr",
     "output_type": "stream",
     "text": [
      "421it [01:52,  4.98it/s]"
     ]
    },
    {
     "name": "stdout",
     "output_type": "stream",
     "text": [
      "If I missed summer deadline may I apply in the winter?\n",
      "1/1 [==============================] - 0s 20ms/step\n"
     ]
    },
    {
     "name": "stderr",
     "output_type": "stream",
     "text": [
      "422it [01:52,  5.04it/s]"
     ]
    },
    {
     "name": "stdout",
     "output_type": "stream",
     "text": [
      "Admissions and Application Process <class 'str'>\n",
      "What are the documents that basing on you make a decision whether persone is enrolled or not?\n",
      "1/1 [==============================] - 0s 23ms/step\n",
      "Study and Internship abroad <class 'str'>\n"
     ]
    },
    {
     "name": "stderr",
     "output_type": "stream",
     "text": [
      "423it [01:53,  5.16it/s]"
     ]
    },
    {
     "name": "stdout",
     "output_type": "stream",
     "text": [
      "What is minimal score for TOEFL certificate?\n",
      "1/1 [==============================] - 0s 19ms/step\n"
     ]
    },
    {
     "name": "stderr",
     "output_type": "stream",
     "text": [
      "424it [01:53,  4.28it/s]"
     ]
    },
    {
     "name": "stdout",
     "output_type": "stream",
     "text": [
      "Admissions and Application Process <class 'str'>\n",
      "What is the threshold that I should pass in order to have positive decision on my english certificate?\n",
      "1/1 [==============================] - 0s 19ms/step\n",
      "Admissions and Application Process <class 'str'>\n"
     ]
    },
    {
     "name": "stderr",
     "output_type": "stream",
     "text": [
      "425it [01:53,  4.58it/s]"
     ]
    },
    {
     "name": "stdout",
     "output_type": "stream",
     "text": [
      "May I send my original documents tou your officу only after my final decision about application? \n",
      "1/1 [==============================] - 0s 19ms/step\n",
      "Admissions and Application Process <class 'str'>\n"
     ]
    },
    {
     "name": "stderr",
     "output_type": "stream",
     "text": [
      "426it [01:53,  4.77it/s]"
     ]
    },
    {
     "name": "stdout",
     "output_type": "stream",
     "text": [
      "How much time does it take to process all the documents?\n",
      "1/1 [==============================] - 0s 31ms/step\n",
      "Admissions and Application Process <class 'str'>\n"
     ]
    },
    {
     "name": "stderr",
     "output_type": "stream",
     "text": [
      "427it [01:54,  4.88it/s]"
     ]
    },
    {
     "name": "stdout",
     "output_type": "stream",
     "text": [
      "When will the final admission results be known?\n",
      "1/1 [==============================] - 0s 20ms/step\n",
      "Admissions and Application Process <class 'str'>\n"
     ]
    },
    {
     "name": "stderr",
     "output_type": "stream",
     "text": [
      "428it [01:54,  5.07it/s]"
     ]
    },
    {
     "name": "stdout",
     "output_type": "stream",
     "text": [
      "If my documents do not met the requirements will I have time to replace them with propper ones? \n",
      "1/1 [==============================] - 0s 31ms/step\n",
      "Internship <class 'str'>\n"
     ]
    },
    {
     "name": "stderr",
     "output_type": "stream",
     "text": [
      "429it [01:54,  5.14it/s]"
     ]
    },
    {
     "name": "stdout",
     "output_type": "stream",
     "text": [
      "May I apply for two and more programs at the University and choose only after knowing the results? \n",
      "1/1 [==============================] - 0s 20ms/step\n",
      "Admissions and Application Process <class 'str'>\n"
     ]
    },
    {
     "name": "stderr",
     "output_type": "stream",
     "text": [
      "430it [01:54,  5.00it/s]"
     ]
    },
    {
     "name": "stdout",
     "output_type": "stream",
     "text": [
      "Should I bring application documents by myself or they can be delivered by post? \n",
      "1/1 [==============================] - 0s 19ms/step\n",
      "Admissions and Application Process <class 'str'>\n"
     ]
    },
    {
     "name": "stderr",
     "output_type": "stream",
     "text": [
      "431it [01:54,  5.07it/s]"
     ]
    },
    {
     "name": "stdout",
     "output_type": "stream",
     "text": [
      "Can you guide me on full list of documents that I shoud provide in order to go to the University? \n",
      "1/1 [==============================] - 0s 42ms/step\n",
      "Internship <class 'str'>\n"
     ]
    },
    {
     "name": "stderr",
     "output_type": "stream",
     "text": [
      "432it [01:55,  4.78it/s]"
     ]
    },
    {
     "name": "stdout",
     "output_type": "stream",
     "text": [
      "May I bring copy of my records transcript if need original one in my country?\n",
      "1/1 [==============================] - 0s 23ms/step\n",
      "Internship <class 'str'>\n"
     ]
    },
    {
     "name": "stderr",
     "output_type": "stream",
     "text": [
      "433it [01:55,  4.04it/s]"
     ]
    },
    {
     "name": "stdout",
     "output_type": "stream",
     "text": [
      "How will I be informed about application final decision?\n",
      "1/1 [==============================] - 0s 40ms/step\n",
      "Admissions and Application Process <class 'str'>\n"
     ]
    },
    {
     "name": "stderr",
     "output_type": "stream",
     "text": [
      "434it [01:55,  2.91it/s]"
     ]
    },
    {
     "name": "stdout",
     "output_type": "stream",
     "text": [
      "In how many universities and courses may I apply simultaniously? \n",
      "1/1 [==============================] - 0s 22ms/step\n",
      "Admissions and Application Process <class 'str'>\n"
     ]
    },
    {
     "name": "stderr",
     "output_type": "stream",
     "text": [
      "435it [01:56,  3.30it/s]"
     ]
    },
    {
     "name": "stdout",
     "output_type": "stream",
     "text": [
      "May i provide all the information from my passport without having it with me?  \n",
      "1/1 [==============================] - 0s 21ms/step\n"
     ]
    },
    {
     "name": "stderr",
     "output_type": "stream",
     "text": [
      "436it [01:56,  3.69it/s]"
     ]
    },
    {
     "name": "stdout",
     "output_type": "stream",
     "text": [
      "Contacts <class 'str'>\n",
      "What should I have in order to prove that I have graduated from Master's degree? \n",
      "1/1 [==============================] - 0s 27ms/step\n"
     ]
    },
    {
     "name": "stderr",
     "output_type": "stream",
     "text": [
      "437it [01:56,  4.02it/s]"
     ]
    },
    {
     "name": "stdout",
     "output_type": "stream",
     "text": [
      "Double Degree programs <class 'str'>\n",
      "May I attach the scholarship documents right away with application documents?\n",
      "1/1 [==============================] - 0s 24ms/step\n",
      "Scholarship "
     ]
    },
    {
     "name": "stderr",
     "output_type": "stream",
     "text": [
      "438it [01:56,  4.19it/s]"
     ]
    },
    {
     "name": "stdout",
     "output_type": "stream",
     "text": [
      " <class 'str'>\n",
      "Are there any nationalities that are not allowed to study in your university?\n",
      "1/1 [==============================] - 0s 21ms/step\n"
     ]
    },
    {
     "name": "stderr",
     "output_type": "stream",
     "text": [
      "439it [01:56,  4.41it/s]"
     ]
    },
    {
     "name": "stdout",
     "output_type": "stream",
     "text": [
      "Contacts <class 'str'>\n",
      "Do I also receive information regarding housing after receiving application results?\n",
      "1/1 [==============================] - 0s 21ms/step\n",
      "Student Housing <class 'str'>\n"
     ]
    },
    {
     "name": "stderr",
     "output_type": "stream",
     "text": [
      "440it [01:57,  4.56it/s]"
     ]
    },
    {
     "name": "stdout",
     "output_type": "stream",
     "text": [
      "Is there possibility to apply fully online, without sending any physical documents? \n",
      "1/1 [==============================] - 0s 19ms/step\n",
      "Admissions and Application Process <class 'str'>\n"
     ]
    },
    {
     "name": "stderr",
     "output_type": "stream",
     "text": [
      "441it [01:57,  4.60it/s]"
     ]
    },
    {
     "name": "stdout",
     "output_type": "stream",
     "text": [
      "How can I skip missing data if I apply online?\n",
      "1/1 [==============================] - 0s 29ms/step\n",
      "Admissions and Application Process <class 'str'>\n"
     ]
    },
    {
     "name": "stderr",
     "output_type": "stream",
     "text": [
      "442it [01:57,  4.51it/s]"
     ]
    },
    {
     "name": "stdout",
     "output_type": "stream",
     "text": [
      "Are there any inner tests that I should pass or is ot only GPA and language certificate?\n",
      "1/1 [==============================] - 0s 19ms/step\n",
      "Admissions and Application Process <class 'str'>\n"
     ]
    },
    {
     "name": "stderr",
     "output_type": "stream",
     "text": [
      "443it [01:57,  4.05it/s]"
     ]
    },
    {
     "name": "stdout",
     "output_type": "stream",
     "text": [
      "How deadlines are vary from one program to another?\n",
      "1/1 [==============================] - 0s 19ms/step\n"
     ]
    },
    {
     "name": "stderr",
     "output_type": "stream",
     "text": [
      "444it [01:58,  4.37it/s]"
     ]
    },
    {
     "name": "stdout",
     "output_type": "stream",
     "text": [
      "Admissions and Application Process <class 'str'>\n",
      "What is the program with the latest application deadline?\n",
      "1/1 [==============================] - 0s 21ms/step\n",
      "Admissions and Application Process <class 'str'>\n"
     ]
    },
    {
     "name": "stderr",
     "output_type": "stream",
     "text": [
      "445it [01:58,  4.62it/s]"
     ]
    },
    {
     "name": "stdout",
     "output_type": "stream",
     "text": [
      "Will Kozminski hold any presentations on how to apply in a propper way?\n",
      "1/1 [==============================] - 0s 19ms/step\n",
      "Admissions and Application Process <class 'str'>\n"
     ]
    },
    {
     "name": "stderr",
     "output_type": "stream",
     "text": [
      "446it [01:58,  4.72it/s]"
     ]
    },
    {
     "name": "stdout",
     "output_type": "stream",
     "text": [
      "On which website I can sign my application documents online?\n",
      "1/1 [==============================] - 0s 20ms/step\n",
      "Admissions and Application Process <class 'str'>\n"
     ]
    },
    {
     "name": "stderr",
     "output_type": "stream",
     "text": [
      "447it [01:58,  4.85it/s]"
     ]
    },
    {
     "name": "stdout",
     "output_type": "stream",
     "text": [
      "Is there any option to receive decision a bit earlier than it should be? \n",
      "1/1 [==============================] - 0s 20ms/step\n",
      "Internship <class 'str'>\n"
     ]
    },
    {
     "name": "stderr",
     "output_type": "stream",
     "text": [
      "448it [01:58,  5.01it/s]"
     ]
    },
    {
     "name": "stdout",
     "output_type": "stream",
     "text": [
      "Where can I attach my recommendation and motivation letter?\n",
      "1/1 [==============================] - 0s 28ms/step\n",
      "Admissions and Application Process <class 'str'>\n"
     ]
    },
    {
     "name": "stderr",
     "output_type": "stream",
     "text": [
      "449it [01:59,  4.28it/s]"
     ]
    },
    {
     "name": "stdout",
     "output_type": "stream",
     "text": [
      "Will I receive any notification that my documents were received and all structured in a right form?\n",
      "1/1 [==============================] - 0s 25ms/step\n",
      "Internship <class 'str'>\n"
     ]
    },
    {
     "name": "stderr",
     "output_type": "stream",
     "text": [
      "450it [01:59,  4.27it/s]"
     ]
    },
    {
     "name": "stdout",
     "output_type": "stream",
     "text": [
      "Are there any additional documents that can higher my chance of successful enrollment?\n",
      "1/1 [==============================] - 0s 22ms/step\n",
      "Admissions and Application Process <class 'str'>\n"
     ]
    },
    {
     "name": "stderr",
     "output_type": "stream",
     "text": [
      "451it [01:59,  4.24it/s]"
     ]
    },
    {
     "name": "stdout",
     "output_type": "stream",
     "text": [
      "Whom can I contact beffor sending my papers in order to check them?\n",
      "1/1 [==============================] - 0s 21ms/step\n",
      "Contacts <class 'str'>\n"
     ]
    },
    {
     "name": "stderr",
     "output_type": "stream",
     "text": [
      "452it [01:59,  4.26it/s]"
     ]
    },
    {
     "name": "stdout",
     "output_type": "stream",
     "text": [
      "May I still be enrolled by committee decision if requirments of GPA are not met?\n",
      "1/1 [==============================] - 0s 20ms/step\n",
      "Internship <class 'str'>\n"
     ]
    },
    {
     "name": "stderr",
     "output_type": "stream",
     "text": [
      "453it [02:00,  4.47it/s]"
     ]
    },
    {
     "name": "stdout",
     "output_type": "stream",
     "text": [
      "What are most frequient mistakes that are done during application process?\n",
      "1/1 [==============================] - 0s 21ms/step\n"
     ]
    },
    {
     "name": "stderr",
     "output_type": "stream",
     "text": [
      "454it [02:00,  4.66it/s]"
     ]
    },
    {
     "name": "stdout",
     "output_type": "stream",
     "text": [
      "Admissions and Application Process <class 'str'>\n",
      "What is the most frequent reason why student's applications got rejected?\n",
      "1/1 [==============================] - 0s 119ms/step\n"
     ]
    },
    {
     "name": "stderr",
     "output_type": "stream",
     "text": [
      "455it [02:00,  4.11it/s]"
     ]
    },
    {
     "name": "stdout",
     "output_type": "stream",
     "text": [
      "Contacts <class 'str'>\n",
      "Hello, as an aspiring student at Kozminski University, I'm interested in getting more information about whom I can reach out to for any inquiries regarding the application process. Could you please provide me with the primary email address to connect with university representatives for assistance?\n",
      "1/1 [==============================] - 0s 33ms/step\n"
     ]
    },
    {
     "name": "stderr",
     "output_type": "stream",
     "text": [
      "456it [02:00,  4.12it/s]"
     ]
    },
    {
     "name": "stdout",
     "output_type": "stream",
     "text": [
      "Contacts <class 'str'>\n",
      "Greetings, my journey with Kozminski University has begun through an application, and I'm interested in learning about the ways available for getting in touch. To start, what is the main email address that I can use to contact the university for any queries I may have?\n",
      "1/1 [==============================] - 0s 26ms/step\n",
      "Contacts <class 'str'>\n"
     ]
    },
    {
     "name": "stderr",
     "output_type": "stream",
     "text": [
      "457it [02:01,  4.21it/s]"
     ]
    },
    {
     "name": "stdout",
     "output_type": "stream",
     "text": [
      "Hi there, as I take my first steps towards joining Kozminski University, I'm curious to know about the support channels in case I need immediate help. Can you guide me on whether there's a dedicated phone number I can call for instant assistance?\n",
      "1/1 [==============================] - 0s 35ms/step\n",
      "Internship <class 'str'>\n"
     ]
    },
    {
     "name": "stderr",
     "output_type": "stream",
     "text": [
      "458it [02:01,  3.17it/s]"
     ]
    },
    {
     "name": "stdout",
     "output_type": "stream",
     "text": [
      "Hello, I have a question, how I can effectively connect with university representatives. I mean, what are the options available for me to establish contact with any of the university's knowledgeable personnel?\n",
      "1/1 [==============================] - 0s 21ms/step\n"
     ]
    },
    {
     "name": "stderr",
     "output_type": "stream",
     "text": [
      "459it [02:01,  3.59it/s]"
     ]
    },
    {
     "name": "stdout",
     "output_type": "stream",
     "text": [
      "Contacts <class 'str'>\n",
      "Greetings, I'm excited about the prospect of joining Kozminski University and navigating through its diverse departments. Could you offer a comprehensive list of departments that can provide me with information and support through direct email or phone communication?\n",
      "1/1 [==============================] - 0s 20ms/step\n",
      "Contacts <class 'str'>\n"
     ]
    },
    {
     "name": "stderr",
     "output_type": "stream",
     "text": [
      "460it [02:01,  4.06it/s]"
     ]
    },
    {
     "name": "stdout",
     "output_type": "stream",
     "text": [
      "Hi there, I would like to explore different departments at Kozminski University. Can you please guide me by providing a detailed list of departments, along with their contact information for inquiries via email or phone?\n",
      "1/1 [==============================] - 0s 19ms/step\n",
      "Contacts <class 'str'>\n"
     ]
    },
    {
     "name": "stderr",
     "output_type": "stream",
     "text": [
      "461it [02:02,  4.42it/s]"
     ]
    },
    {
     "name": "stdout",
     "output_type": "stream",
     "text": [
      "Hello, could you kindly provide me with information about Kozminski University's exact address and detailed instructions on how to navigate to the campus?\n",
      "1/1 [==============================] - 0s 38ms/step\n",
      "Campus <class 'str'>\n"
     ]
    },
    {
     "name": "stderr",
     "output_type": "stream",
     "text": [
      "462it [02:02,  4.49it/s]"
     ]
    },
    {
     "name": "stdout",
     "output_type": "stream",
     "text": [
      "Greetings, as I progress through the application process with Kozminski University, I am curious about the best way to physically reach the campus. To facilitate this, could you guide me on how to locate the university's position on a map and obtain accurate directions for reaching there?\n",
      "1/1 [==============================] - 0s 22ms/step\n",
      "Contacts <class 'str'>\n"
     ]
    },
    {
     "name": "stderr",
     "output_type": "stream",
     "text": [
      "463it [02:02,  4.59it/s]"
     ]
    },
    {
     "name": "stdout",
     "output_type": "stream",
     "text": [
      "Hi there, I'm in the process of considering Kozminski University and I would like to learn about the various transportation options available for accessing the campus. Can you provide insights into the different modes of transportation that can be utilized to reach Kozminski University's campus?\n",
      "1/1 [==============================] - 0s 19ms/step\n",
      "Campus <class 'str'>\n"
     ]
    },
    {
     "name": "stderr",
     "output_type": "stream",
     "text": [
      "464it [02:02,  4.78it/s]"
     ]
    },
    {
     "name": "stdout",
     "output_type": "stream",
     "text": [
      "Hello, I have concerns regarding data protection and privacy related to my time at Kozminski University. Can you help me get in touch with the relevant department?\n",
      "1/1 [==============================] - 0s 36ms/step\n",
      "Contacts <class 'str'>\n"
     ]
    },
    {
     "name": "stderr",
     "output_type": "stream",
     "text": [
      "465it [02:02,  4.92it/s]"
     ]
    },
    {
     "name": "stdout",
     "output_type": "stream",
     "text": [
      "How can I reach the main reception desk at Kozminski University for general inquiries?\n",
      "1/1 [==============================] - 0s 112ms/step\n",
      "Contacts <class 'str'>\n"
     ]
    },
    {
     "name": "stderr",
     "output_type": "stream",
     "text": [
      "466it [02:03,  4.24it/s]"
     ]
    },
    {
     "name": "stdout",
     "output_type": "stream",
     "text": [
      "If I require assistance for particular university-related concerns, who would be the appropriate person to reach out to?\n",
      "1/1 [==============================] - 0s 44ms/step\n",
      "Contacts <class 'str'>\n"
     ]
    },
    {
     "name": "stderr",
     "output_type": "stream",
     "text": [
      "467it [02:03,  3.91it/s]"
     ]
    },
    {
     "name": "stdout",
     "output_type": "stream",
     "text": [
      "In the case of needing guidance for specific matters related to the university, who can I direct my questions to?\n",
      "1/1 [==============================] - 0s 29ms/step\n",
      "Educational resources <class 'str'>\n"
     ]
    },
    {
     "name": "stderr",
     "output_type": "stream",
     "text": [
      "468it [02:03,  4.08it/s]"
     ]
    },
    {
     "name": "stdout",
     "output_type": "stream",
     "text": [
      "What methods are available for me to reach out to different university offices for different purposes?\n",
      "1/1 [==============================] - 0s 29ms/step\n",
      "Contacts <class 'str'>\n"
     ]
    },
    {
     "name": "stderr",
     "output_type": "stream",
     "text": [
      "469it [02:03,  4.26it/s]"
     ]
    },
    {
     "name": "stdout",
     "output_type": "stream",
     "text": [
      "How do I access channels of communication to interact with various university offices?\n",
      "1/1 [==============================] - 0s 23ms/step\n",
      "Contacts <class 'str'>\n"
     ]
    },
    {
     "name": "stderr",
     "output_type": "stream",
     "text": [
      "470it [02:04,  4.33it/s]"
     ]
    },
    {
     "name": "stdout",
     "output_type": "stream",
     "text": [
      "What is the primary email address to contact university representatives for assistance?\n",
      "1/1 [==============================] - 0s 54ms/step\n",
      "Contacts <class 'str'>\n"
     ]
    },
    {
     "name": "stderr",
     "output_type": "stream",
     "text": [
      "471it [02:04,  4.30it/s]"
     ]
    },
    {
     "name": "stdout",
     "output_type": "stream",
     "text": [
      "What is the main email address to use for contacting the university?\n",
      "1/1 [==============================] - 0s 20ms/step\n",
      "Contacts "
     ]
    },
    {
     "name": "stderr",
     "output_type": "stream",
     "text": [
      "472it [02:04,  4.49it/s]"
     ]
    },
    {
     "name": "stdout",
     "output_type": "stream",
     "text": [
      "<class 'str'>\n",
      "Is there a phone number I can call for immediate assistance?\n",
      "1/1 [==============================] - 0s 55ms/step\n",
      "Educational resources <class 'str'>\n"
     ]
    },
    {
     "name": "stderr",
     "output_type": "stream",
     "text": [
      "473it [02:04,  3.94it/s]"
     ]
    },
    {
     "name": "stdout",
     "output_type": "stream",
     "text": [
      "How can I connect any of university representatives?\n",
      "1/1 [==============================] - 0s 25ms/step\n",
      "Contacts <class 'str'>\n"
     ]
    },
    {
     "name": "stderr",
     "output_type": "stream",
     "text": [
      "474it [02:05,  4.00it/s]"
     ]
    },
    {
     "name": "stdout",
     "output_type": "stream",
     "text": [
      "How can I find the university's official phone number to speak with a representative?\n",
      "1/1 [==============================] - 0s 129ms/step\n",
      "Contacts <class 'str'>\n"
     ]
    },
    {
     "name": "stderr",
     "output_type": "stream",
     "text": [
      "475it [02:05,  3.42it/s]"
     ]
    },
    {
     "name": "stdout",
     "output_type": "stream",
     "text": [
      "Is there a dedicated phone line I can call if I have urgent questions or concerns?\n",
      "1/1 [==============================] - 0s 135ms/step\n",
      "Contacts <class 'str'>\n"
     ]
    },
    {
     "name": "stderr",
     "output_type": "stream",
     "text": [
      "476it [02:06,  1.81it/s]"
     ]
    },
    {
     "name": "stdout",
     "output_type": "stream",
     "text": [
      "How do I contact the university if I need to update my personal information?\n",
      "1/1 [==============================] - 0s 87ms/step\n",
      "Contacts <class 'str'>\n"
     ]
    },
    {
     "name": "stderr",
     "output_type": "stream",
     "text": [
      "477it [02:07,  1.79it/s]"
     ]
    },
    {
     "name": "stdout",
     "output_type": "stream",
     "text": [
      "What is the hotline or helpline number for immediate assistance?\n",
      "1/1 [==============================] - 0s 60ms/step\n",
      "Educational resources <class 'str'>\n"
     ]
    },
    {
     "name": "stderr",
     "output_type": "stream",
     "text": [
      "478it [02:07,  1.74it/s]"
     ]
    },
    {
     "name": "stdout",
     "output_type": "stream",
     "text": [
      "Where can I find detailed contact information for university offices?\n",
      "1/1 [==============================] - 0s 31ms/step\n",
      "Contacts <class 'str'>\n"
     ]
    },
    {
     "name": "stderr",
     "output_type": "stream",
     "text": [
      "479it [02:08,  1.50it/s]"
     ]
    },
    {
     "name": "stdout",
     "output_type": "stream",
     "text": [
      "How can I find the contact details for various university departments and offices?\n",
      "1/1 [==============================] - 0s 37ms/step\n",
      "Contacts <class 'str'>\n"
     ]
    },
    {
     "name": "stderr",
     "output_type": "stream",
     "text": [
      "480it [02:09,  1.48it/s]"
     ]
    },
    {
     "name": "stdout",
     "output_type": "stream",
     "text": [
      "How can I contact the Rector's Office of Kozminski University?\n",
      "1/1 [==============================] - 0s 58ms/step\n",
      "Contacts <class 'str'>\n"
     ]
    },
    {
     "name": "stderr",
     "output_type": "stream",
     "text": [
      "481it [02:11,  1.04it/s]"
     ]
    },
    {
     "name": "stdout",
     "output_type": "stream",
     "text": [
      "Who should I seek guidance from regarding course selection and academic planning?\n",
      "1/1 [==============================] - 0s 78ms/step\n",
      "Contacts <class 'str'>\n"
     ]
    },
    {
     "name": "stderr",
     "output_type": "stream",
     "text": [
      "482it [02:11,  1.12it/s]"
     ]
    },
    {
     "name": "stdout",
     "output_type": "stream",
     "text": [
      "How can I get in touch with university representatives for various inquiries?\n",
      "1/1 [==============================] - 0s 66ms/step\n",
      "Contacts <class 'str'>\n"
     ]
    },
    {
     "name": "stderr",
     "output_type": "stream",
     "text": [
      "483it [02:13,  1.03it/s]"
     ]
    },
    {
     "name": "stdout",
     "output_type": "stream",
     "text": [
      "What is the best way to contact the university's administrative offices?\n",
      "1/1 [==============================] - 0s 49ms/step\n",
      "Contacts <class 'str'>\n"
     ]
    },
    {
     "name": "stderr",
     "output_type": "stream",
     "text": [
      "484it [02:13,  1.21it/s]"
     ]
    },
    {
     "name": "stdout",
     "output_type": "stream",
     "text": [
      "What are the ways to get in touch with university offices?\n",
      "1/1 [==============================] - 0s 197ms/step\n",
      "Contacts <class 'str'>\n"
     ]
    },
    {
     "name": "stderr",
     "output_type": "stream",
     "text": [
      "485it [02:14,  1.09it/s]"
     ]
    },
    {
     "name": "stdout",
     "output_type": "stream",
     "text": [
      "Who should I reach out to if I have questions about admissions and enrollment?\n",
      "1/1 [==============================] - 0s 68ms/step\n",
      "Admissions and Application Process <class 'str'>\n"
     ]
    },
    {
     "name": "stderr",
     "output_type": "stream",
     "text": [
      "486it [02:15,  1.21it/s]"
     ]
    },
    {
     "name": "stdout",
     "output_type": "stream",
     "text": [
      "Is there a specific contact form for sending inquiries?\n",
      "1/1 [==============================] - 0s 32ms/step\n",
      "Contacts <class 'str'>\n"
     ]
    },
    {
     "name": "stderr",
     "output_type": "stream",
     "text": [
      "487it [02:15,  1.48it/s]"
     ]
    },
    {
     "name": "stdout",
     "output_type": "stream",
     "text": [
      "How can I connect with university staff for general assistance and guidance?\n",
      "1/1 [==============================] - 0s 25ms/step\n",
      "Contacts <class 'str'>\n"
     ]
    },
    {
     "name": "stderr",
     "output_type": "stream",
     "text": [
      "488it [02:15,  1.75it/s]"
     ]
    },
    {
     "name": "stdout",
     "output_type": "stream",
     "text": [
      "How do I seek assistance or support from university staff?\n",
      "1/1 [==============================] - 0s 28ms/step\n",
      "Contacts <class 'str'>\n"
     ]
    },
    {
     "name": "stderr",
     "output_type": "stream",
     "text": [
      "489it [02:16,  2.03it/s]"
     ]
    },
    {
     "name": "stdout",
     "output_type": "stream",
     "text": [
      "Could you provide me with information about Kozminski University's exact address and how to reach the campus?\n",
      "1/1 [==============================] - 0s 36ms/step\n",
      "Contacts <class 'str'>\n"
     ]
    },
    {
     "name": "stderr",
     "output_type": "stream",
     "text": [
      "490it [02:16,  2.36it/s]"
     ]
    },
    {
     "name": "stdout",
     "output_type": "stream",
     "text": [
      "How can I find the university's location on a map and get directions for reaching there?\n",
      "1/1 [==============================] - 0s 52ms/step\n",
      "Contacts <class 'str'>\n"
     ]
    },
    {
     "name": "stderr",
     "output_type": "stream",
     "text": [
      "491it [02:16,  2.29it/s]"
     ]
    },
    {
     "name": "stdout",
     "output_type": "stream",
     "text": [
      "What transportation options are available to access Kozminski University's campus?\n",
      "1/1 [==============================] - 0s 35ms/step\n",
      "Contacts <class 'str'>\n"
     ]
    },
    {
     "name": "stderr",
     "output_type": "stream",
     "text": [
      "492it [02:17,  2.41it/s]"
     ]
    },
    {
     "name": "stdout",
     "output_type": "stream",
     "text": [
      "Could you guide me on the best way to get to the university and what are the nearby landmarks?\n",
      "1/1 [==============================] - 0s 28ms/step\n",
      "Contacts <class 'str'>\n"
     ]
    },
    {
     "name": "stderr",
     "output_type": "stream",
     "text": [
      "493it [02:17,  2.42it/s]"
     ]
    },
    {
     "name": "stdout",
     "output_type": "stream",
     "text": [
      "Can you provide me with the street details and other directions to navigate to Kozminski University?\n",
      "1/1 [==============================] - 0s 22ms/step\n",
      "Programmes and Degrees <class 'str'>\n"
     ]
    },
    {
     "name": "stderr",
     "output_type": "stream",
     "text": [
      "494it [02:18,  2.69it/s]"
     ]
    },
    {
     "name": "stdout",
     "output_type": "stream",
     "text": [
      "What is the street address of Kozminski University?\n",
      "1/1 [==============================] - 0s 23ms/step\n",
      "Programmes and Degrees <class 'str'>\n"
     ]
    },
    {
     "name": "stderr",
     "output_type": "stream",
     "text": [
      "495it [02:18,  2.98it/s]"
     ]
    },
    {
     "name": "stdout",
     "output_type": "stream",
     "text": [
      "Where can I find the exact location of the university on a map?\n",
      "1/1 [==============================] - 0s 28ms/step\n",
      "Contacts <class 'str'>\n"
     ]
    },
    {
     "name": "stderr",
     "output_type": "stream",
     "text": [
      "496it [02:18,  3.07it/s]"
     ]
    },
    {
     "name": "stdout",
     "output_type": "stream",
     "text": [
      "How do I get to Kozminski University using public transportation?\n",
      "1/1 [==============================] - 0s 21ms/step\n",
      "Contacts <class 'str'>\n"
     ]
    },
    {
     "name": "stderr",
     "output_type": "stream",
     "text": [
      "497it [02:18,  3.43it/s]"
     ]
    },
    {
     "name": "stdout",
     "output_type": "stream",
     "text": [
      "Can you suggest the nearest bus or tram stops to the university?\n",
      "1/1 [==============================] - 0s 31ms/step\n",
      "Contacts <class 'str'>\n"
     ]
    },
    {
     "name": "stderr",
     "output_type": "stream",
     "text": [
      "498it [02:18,  3.66it/s]"
     ]
    },
    {
     "name": "stdout",
     "output_type": "stream",
     "text": [
      "Can you provide a brief overview of the neighborhood where the university is located?\n",
      "1/1 [==============================] - 0s 38ms/step\n",
      "Contacts <class 'str'>\n"
     ]
    },
    {
     "name": "stderr",
     "output_type": "stream",
     "text": [
      "499it [02:19,  3.89it/s]"
     ]
    },
    {
     "name": "stdout",
     "output_type": "stream",
     "text": [
      "Could you provide me with the VAT number of Kozminski University for official purposes?\n",
      "1/1 [==============================] - 0s 21ms/step\n",
      "Contacts <class 'str'>\n"
     ]
    },
    {
     "name": "stderr",
     "output_type": "stream",
     "text": [
      "500it [02:19,  3.96it/s]"
     ]
    },
    {
     "name": "stdout",
     "output_type": "stream",
     "text": [
      "What are the university's bank details for making tuition payments?\n",
      "1/1 [==============================] - 0s 25ms/step\n",
      "Open Days <class 'str'>\n"
     ]
    },
    {
     "name": "stderr",
     "output_type": "stream",
     "text": [
      "501it [02:19,  4.19it/s]"
     ]
    },
    {
     "name": "stdout",
     "output_type": "stream",
     "text": [
      "How can I obtain the necessary bank information to transfer tuition fees to Kozminski University?\n",
      "1/1 [==============================] - 0s 25ms/step\n",
      "Admissions and Application Process <class 'str'>\n"
     ]
    },
    {
     "name": "stderr",
     "output_type": "stream",
     "text": [
      "502it [02:19,  4.22it/s]"
     ]
    },
    {
     "name": "stdout",
     "output_type": "stream",
     "text": [
      "Is the VAT number and bank account information readily available on the university's official website for reference?\n",
      "1/1 [==============================] - 0s 32ms/step\n"
     ]
    },
    {
     "name": "stderr",
     "output_type": "stream",
     "text": [
      "503it [02:20,  4.41it/s]"
     ]
    },
    {
     "name": "stdout",
     "output_type": "stream",
     "text": [
      "Contacts <class 'str'>\n",
      "What's the process for contacting the university if I need to report a technical issue?\n",
      "1/1 [==============================] - 0s 21ms/step\n",
      "Contacts <class 'str'>\n"
     ]
    },
    {
     "name": "stderr",
     "output_type": "stream",
     "text": [
      "504it [02:20,  3.29it/s]"
     ]
    },
    {
     "name": "stdout",
     "output_type": "stream",
     "text": [
      "Where can I find contact information for different university departments?\n",
      "1/1 [==============================] - 0s 50ms/step\n",
      "Contacts <class 'str'>\n"
     ]
    },
    {
     "name": "stderr",
     "output_type": "stream",
     "text": [
      "505it [02:20,  3.31it/s]"
     ]
    },
    {
     "name": "stdout",
     "output_type": "stream",
     "text": [
      "Where can I provide feedback or suggestions about university services?\n",
      "1/1 [==============================] - 0s 34ms/step\n"
     ]
    },
    {
     "name": "stderr",
     "output_type": "stream",
     "text": [
      "506it [02:21,  3.69it/s]"
     ]
    },
    {
     "name": "stdout",
     "output_type": "stream",
     "text": [
      "Contacts <class 'str'>\n",
      "How can I get assistance from the university if I'm facing difficulties with my online courses?\n",
      "1/1 [==============================] - 0s 22ms/step\n",
      "Contacts"
     ]
    },
    {
     "name": "stderr",
     "output_type": "stream",
     "text": [
      "507it [02:21,  4.00it/s]"
     ]
    },
    {
     "name": "stdout",
     "output_type": "stream",
     "text": [
      " <class 'str'>\n",
      "How do I contact the university if I need to request official documents, like transcripts or certificates?\n",
      "1/1 [==============================] - 0s 25ms/step\n",
      "Contacts <class 'str'>\n"
     ]
    },
    {
     "name": "stderr",
     "output_type": "stream",
     "text": [
      "508it [02:21,  4.22it/s]"
     ]
    },
    {
     "name": "stdout",
     "output_type": "stream",
     "text": [
      "What is the email address for the admission office handling Bachelor's and Master's programs taught in Polish?\n",
      "1/1 [==============================] - 0s 22ms/step\n"
     ]
    },
    {
     "name": "stderr",
     "output_type": "stream",
     "text": [
      "509it [02:21,  4.52it/s]"
     ]
    },
    {
     "name": "stdout",
     "output_type": "stream",
     "text": [
      "Programmes and Degrees <class 'str'>\n",
      "How do I get in touch with the admissions team for Polish-taught programs if I'm an international applicant?\n",
      "1/1 [==============================] - 0s 30ms/step\n"
     ]
    },
    {
     "name": "stderr",
     "output_type": "stream",
     "text": [
      "510it [02:21,  4.44it/s]"
     ]
    },
    {
     "name": "stdout",
     "output_type": "stream",
     "text": [
      "Contacts <class 'str'>\n",
      "Could you provide the contact details for the admission office responsible for English-taught Bachelor's and Master's programs?\n",
      "1/1 [==============================] - 0s 24ms/step\n"
     ]
    },
    {
     "name": "stderr",
     "output_type": "stream",
     "text": [
      "511it [02:22,  4.11it/s]"
     ]
    },
    {
     "name": "stdout",
     "output_type": "stream",
     "text": [
      "Programmes and Degrees <class 'str'>\n",
      "What is the best way to contact the office handling admissions for postgraduate programs, MBA courses, and other similar offerings?\n",
      "1/1 [==============================] - 0s 20ms/step\n"
     ]
    },
    {
     "name": "stderr",
     "output_type": "stream",
     "text": [
      "512it [02:22,  4.31it/s]"
     ]
    },
    {
     "name": "stdout",
     "output_type": "stream",
     "text": [
      "Contacts <class 'str'>\n",
      "How can I reach the Doctoral School's administrative office for inquiries about applying to a Ph.D. program?\n",
      "1/1 [==============================] - 0s 21ms/step\n",
      "Contacts <class 'str'>\n"
     ]
    },
    {
     "name": "stderr",
     "output_type": "stream",
     "text": [
      "513it [02:22,  4.44it/s]"
     ]
    },
    {
     "name": "stdout",
     "output_type": "stream",
     "text": [
      "Are there any university contacts who specialize in providing guidance on international student visa procedures and regulations?\n",
      "1/1 [==============================] - 0s 40ms/step\n",
      "Contacts <class 'str'>\n"
     ]
    },
    {
     "name": "stderr",
     "output_type": "stream",
     "text": [
      "514it [02:22,  4.41it/s]"
     ]
    },
    {
     "name": "stdout",
     "output_type": "stream",
     "text": [
      "How can I reach out to university staff who can help me explore available scholarships and funding opportunities?\n",
      "1/1 [==============================] - 0s 190ms/step\n",
      "Contacts <class 'str'>\n"
     ]
    },
    {
     "name": "stderr",
     "output_type": "stream",
     "text": [
      "515it [02:23,  3.55it/s]"
     ]
    },
    {
     "name": "stdout",
     "output_type": "stream",
     "text": [
      "What is the process for contacting university offices responsible for coordinating study abroad or exchange programs?\n",
      "1/1 [==============================] - 0s 34ms/step\n"
     ]
    },
    {
     "name": "stderr",
     "output_type": "stream",
     "text": [
      "516it [02:23,  3.90it/s]"
     ]
    },
    {
     "name": "stdout",
     "output_type": "stream",
     "text": [
      "Contacts <class 'str'>\n",
      "How can I contact university offices for inquiries about housing and accommodations?\n",
      "1/1 [==============================] - 0s 21ms/step\n",
      "Contacts <class 'str'>\n"
     ]
    },
    {
     "name": "stderr",
     "output_type": "stream",
     "text": [
      "517it [02:23,  4.23it/s]"
     ]
    },
    {
     "name": "stdout",
     "output_type": "stream",
     "text": [
      "Who can I get in touch with to discuss options for continuing education and professional development?\n",
      "1/1 [==============================] - 0s 21ms/step\n",
      "Contacts <class 'str'>\n"
     ]
    },
    {
     "name": "stderr",
     "output_type": "stream",
     "text": [
      "518it [02:23,  4.50it/s]"
     ]
    },
    {
     "name": "stdout",
     "output_type": "stream",
     "text": [
      "What is the contact information for the student activities office, and how can I join clubs and organizations?\n",
      "1/1 [==============================] - 0s 19ms/step\n"
     ]
    },
    {
     "name": "stderr",
     "output_type": "stream",
     "text": [
      "519it [02:24,  4.62it/s]"
     ]
    },
    {
     "name": "stdout",
     "output_type": "stream",
     "text": [
      "Contacts <class 'str'>\n",
      "Hey, I've just applied to Kozminski University and I would like to explore the available facilities. Can you advise on whether the university has a library and if yes, is it open for all students to use?\n",
      "1/1 [==============================] - 0s 26ms/step\n",
      "Programmes and Degrees <class 'str'>\n"
     ]
    },
    {
     "name": "stderr",
     "output_type": "stream",
     "text": [
      "520it [02:24,  4.81it/s]"
     ]
    },
    {
     "name": "stdout",
     "output_type": "stream",
     "text": [
      "Hello, having recently joined Kozminski University, could you direct me to where I can find comprehensive information about the range of resources offered by the university library?\n",
      "1/1 [==============================] - 0s 32ms/step\n",
      "Contacts <class 'str'>\n"
     ]
    },
    {
     "name": "stderr",
     "output_type": "stream",
     "text": [
      "521it [02:24,  4.67it/s]"
     ]
    },
    {
     "name": "stdout",
     "output_type": "stream",
     "text": [
      "Hi, as a new student here at Kozminski University, I'm curious to learn about the available study spaces and resources on campus. Can you guide me on where I can access books and study materials conveniently?\n",
      "1/1 [==============================] - 0s 22ms/step\n",
      "Educational resources <class 'str'>\n"
     ]
    },
    {
     "name": "stderr",
     "output_type": "stream",
     "text": [
      "522it [02:24,  4.76it/s]"
     ]
    },
    {
     "name": "stdout",
     "output_type": "stream",
     "text": [
      "Hello, I've recently taken a step further in my academic journey as a graduate student at Kozminski University. Could you provide information on whether I can continue to use the library as a graduate?\n",
      "1/1 [==============================] - 0s 19ms/step\n",
      "Contacts <class 'str'>\n"
     ]
    },
    {
     "name": "stderr",
     "output_type": "stream",
     "text": [
      "523it [02:24,  4.74it/s]"
     ]
    },
    {
     "name": "stdout",
     "output_type": "stream",
     "text": [
      "Hi, I have just joined Kozminski University, want to learn about the services that can improve my academic experience. Can you enlighten me on the range of services that the university library provides?\n",
      "1/1 [==============================] - 0s 24ms/step\n",
      "Contacts <class 'str'>\n"
     ]
    },
    {
     "name": "stderr",
     "output_type": "stream",
     "text": [
      "524it [02:25,  4.82it/s]"
     ]
    },
    {
     "name": "stdout",
     "output_type": "stream",
     "text": [
      "Hello, I'm in the process of becoming a student at Kozminski University. Could you please provide me with information about the databases that Kozminski University has access to?\n",
      "1/1 [==============================] - 0s 23ms/step\n",
      "Educational resources <class 'str'>\n"
     ]
    },
    {
     "name": "stderr",
     "output_type": "stream",
     "text": [
      "525it [02:25,  5.01it/s]"
     ]
    },
    {
     "name": "stdout",
     "output_type": "stream",
     "text": [
      "Hello, I'm curious about the range of databases that Kozminski University provides access to. Can you provide me with a comprehensive list of databases available for students?\n",
      "1/1 [==============================] - 0s 85ms/step\n",
      "Educational resources <class 'str'>\n"
     ]
    },
    {
     "name": "stderr",
     "output_type": "stream",
     "text": [
      "526it [02:25,  3.94it/s]"
     ]
    },
    {
     "name": "stdout",
     "output_type": "stream",
     "text": [
      "Hello, I'm interested in exploring content from multiple databases simultaneously. Could you guide me on how to efficiently navigate through different databases to find relevant information?\n",
      "1/1 [==============================] - 0s 20ms/step\n",
      "Educational resources <class 'str'>\n"
     ]
    },
    {
     "name": "stderr",
     "output_type": "stream",
     "text": [
      "527it [02:26,  2.86it/s]"
     ]
    },
    {
     "name": "stdout",
     "output_type": "stream",
     "text": [
      "Hello, I'm curious about the library services provided by Kozminski University. Could you provide an overview of what the library offers to students?\n",
      "1/1 [==============================] - 0s 25ms/step\n",
      "Programmes and Degrees <class 'str'>\n"
     ]
    },
    {
     "name": "stderr",
     "output_type": "stream",
     "text": [
      "528it [02:26,  3.22it/s]"
     ]
    },
    {
     "name": "stdout",
     "output_type": "stream",
     "text": [
      "Does Kozminski University have a library?\n",
      "1/1 [==============================] - 0s 64ms/step\n",
      "Educational resources <class 'str'>\n"
     ]
    },
    {
     "name": "stderr",
     "output_type": "stream",
     "text": [
      "529it [02:26,  3.34it/s]"
     ]
    },
    {
     "name": "stdout",
     "output_type": "stream",
     "text": [
      "Is there a place on campus where I can access books and study materials?\n",
      "1/1 [==============================] - 0s 23ms/step\n"
     ]
    },
    {
     "name": "stderr",
     "output_type": "stream",
     "text": [
      "530it [02:26,  3.74it/s]"
     ]
    },
    {
     "name": "stdout",
     "output_type": "stream",
     "text": [
      "Educational resources <class 'str'>\n",
      "Can I borrow books from the university library?\n",
      "1/1 [==============================] - 0s 20ms/step\n",
      "Educational resources <class 'str'>\n"
     ]
    },
    {
     "name": "stderr",
     "output_type": "stream",
     "text": [
      "531it [02:27,  4.16it/s]"
     ]
    },
    {
     "name": "stdout",
     "output_type": "stream",
     "text": [
      "Where can I find information about the library's resources?\n",
      "1/1 [==============================] - 0s 23ms/step\n",
      "Educational resources <class 'str'>\n"
     ]
    },
    {
     "name": "stderr",
     "output_type": "stream",
     "text": [
      "532it [02:27,  4.39it/s]"
     ]
    },
    {
     "name": "stdout",
     "output_type": "stream",
     "text": [
      "Is the library open to all students?\n",
      "1/1 [==============================] - 0s 20ms/step\n",
      "Educational resources <class 'str'>\n"
     ]
    },
    {
     "name": "stderr",
     "output_type": "stream",
     "text": [
      "533it [02:27,  4.69it/s]"
     ]
    },
    {
     "name": "stdout",
     "output_type": "stream",
     "text": [
      "How can I find the library on campus?\n",
      "1/1 [==============================] - 0s 42ms/step\n",
      "Campus <class 'str'>\n"
     ]
    },
    {
     "name": "stderr",
     "output_type": "stream",
     "text": [
      "534it [02:27,  4.70it/s]"
     ]
    },
    {
     "name": "stdout",
     "output_type": "stream",
     "text": [
      "Are there computers available for use in the library?\n",
      "1/1 [==============================] - 0s 22ms/step\n",
      "Educational resources <class 'str'>\n"
     ]
    },
    {
     "name": "stderr",
     "output_type": "stream",
     "text": [
      "535it [02:27,  4.85it/s]"
     ]
    },
    {
     "name": "stdout",
     "output_type": "stream",
     "text": [
      "Is the library a quiet study area?\n",
      "1/1 [==============================] - 0s 37ms/step\n"
     ]
    },
    {
     "name": "stderr",
     "output_type": "stream",
     "text": [
      "536it [02:28,  4.91it/s]"
     ]
    },
    {
     "name": "stdout",
     "output_type": "stream",
     "text": [
      "Student Housing <class 'str'>\n",
      "Can I study in the library even if I'm not borrowing books?\n",
      "1/1 [==============================] - 0s 94ms/step\n"
     ]
    },
    {
     "name": "stderr",
     "output_type": "stream",
     "text": [
      "537it [02:28,  4.41it/s]"
     ]
    },
    {
     "name": "stdout",
     "output_type": "stream",
     "text": [
      "Educational resources <class 'str'>\n",
      "What services does the university library provide?\n",
      "1/1 [==============================] - 0s 24ms/step\n"
     ]
    },
    {
     "name": "stderr",
     "output_type": "stream",
     "text": [
      "538it [02:28,  4.47it/s]"
     ]
    },
    {
     "name": "stdout",
     "output_type": "stream",
     "text": [
      "Contacts <class 'str'>\n",
      "I'm interested in using the university library. Where is it located on campus, and how can I access it?\n",
      "1/1 [==============================] - 0s 28ms/step\n"
     ]
    },
    {
     "name": "stderr",
     "output_type": "stream",
     "text": [
      "539it [02:28,  4.56it/s]"
     ]
    },
    {
     "name": "stdout",
     "output_type": "stream",
     "text": [
      "Contacts <class 'str'>\n",
      "Can you explain how to borrow books and other materials from the library? What's the process?\n",
      "1/1 [==============================] - 0s 24ms/step\n"
     ]
    },
    {
     "name": "stderr",
     "output_type": "stream",
     "text": [
      "540it [02:28,  4.54it/s]"
     ]
    },
    {
     "name": "stdout",
     "output_type": "stream",
     "text": [
      "Educational resources <class 'str'>\n",
      "Is there a limit to the number of books I can borrow at once from the library?\n",
      "1/1 [==============================] - 0s 53ms/step\n"
     ]
    },
    {
     "name": "stderr",
     "output_type": "stream",
     "text": [
      "541it [02:29,  4.30it/s]"
     ]
    },
    {
     "name": "stdout",
     "output_type": "stream",
     "text": [
      "Educational resources <class 'str'>\n",
      "How can I renew borrowed books, and is there a limit on the number of renewals?\n",
      "1/1 [==============================] - 0s 21ms/step\n"
     ]
    },
    {
     "name": "stderr",
     "output_type": "stream",
     "text": [
      "542it [02:29,  4.53it/s]"
     ]
    },
    {
     "name": "stdout",
     "output_type": "stream",
     "text": [
      "Educational resources <class 'str'>\n",
      "As a new student, how do I obtain library membership? What documentation is required?\n",
      "1/1 [==============================] - 0s 40ms/step\n"
     ]
    },
    {
     "name": "stderr",
     "output_type": "stream",
     "text": [
      "543it [02:29,  4.38it/s]"
     ]
    },
    {
     "name": "stdout",
     "output_type": "stream",
     "text": [
      "Internship <class 'str'>\n",
      "Is there a specific identification card or library card needed to access the library?\n",
      "1/1 [==============================] - 0s 22ms/step\n"
     ]
    },
    {
     "name": "stderr",
     "output_type": "stream",
     "text": [
      "544it [02:29,  4.60it/s]"
     ]
    },
    {
     "name": "stdout",
     "output_type": "stream",
     "text": [
      "Contacts <class 'str'>\n",
      "Are there any restrictions on who can use the library's facilities and resources?\n",
      "1/1 [==============================] - 0s 21ms/step\n"
     ]
    },
    {
     "name": "stderr",
     "output_type": "stream",
     "text": [
      "545it [02:30,  4.70it/s]"
     ]
    },
    {
     "name": "stdout",
     "output_type": "stream",
     "text": [
      "Educational resources <class 'str'>\n",
      "Could you provide me with the library's opening hours during the academic year?\n",
      "1/1 [==============================] - 0s 161ms/step\n",
      "Educational resources <class 'str'>\n"
     ]
    },
    {
     "name": "stderr",
     "output_type": "stream",
     "text": [
      "546it [02:30,  3.47it/s]"
     ]
    },
    {
     "name": "stdout",
     "output_type": "stream",
     "text": [
      "Does the library have different operating hours during weekends compared to weekdays?\n",
      "1/1 [==============================] - 0s 22ms/step\n",
      "Open Days <class 'str'>\n"
     ]
    },
    {
     "name": "stderr",
     "output_type": "stream",
     "text": [
      "547it [02:30,  3.55it/s]"
     ]
    },
    {
     "name": "stdout",
     "output_type": "stream",
     "text": [
      "Are there any changes to the library's hours during holidays or breaks?\n",
      "1/1 [==============================] - 0s 39ms/step\n",
      "Educational resources <class 'str'>\n"
     ]
    },
    {
     "name": "stderr",
     "output_type": "stream",
     "text": [
      "548it [02:31,  3.74it/s]"
     ]
    },
    {
     "name": "stdout",
     "output_type": "stream",
     "text": [
      "What are the library's hours of operation during the summer?\n",
      "1/1 [==============================] - 0s 21ms/step\n"
     ]
    },
    {
     "name": "stderr",
     "output_type": "stream",
     "text": [
      "549it [02:31,  4.06it/s]"
     ]
    },
    {
     "name": "stdout",
     "output_type": "stream",
     "text": [
      "Educational resources <class 'str'>\n",
      "Is there an online portal where I can access the library's schedule and operating hours?\n",
      "1/1 [==============================] - 0s 20ms/step\n",
      "Educational resources <class 'str'>\n"
     ]
    },
    {
     "name": "stderr",
     "output_type": "stream",
     "text": [
      "550it [02:31,  3.13it/s]"
     ]
    },
    {
     "name": "stdout",
     "output_type": "stream",
     "text": [
      "I'm interested in electronic resources. Could you explain how to access online databases and e-books through the library?\n",
      "1/1 [==============================] - 0s 23ms/step\n",
      "Educational resources <class 'str'>\n"
     ]
    },
    {
     "name": "stderr",
     "output_type": "stream",
     "text": [
      "551it [02:31,  3.51it/s]"
     ]
    },
    {
     "name": "stdout",
     "output_type": "stream",
     "text": [
      "Does the library provide access to academic journals and research papers? How can I access them?\n",
      "1/1 [==============================] - 0s 21ms/step\n",
      "Educational resources <class 'str'>\n"
     ]
    },
    {
     "name": "stderr",
     "output_type": "stream",
     "text": [
      "552it [02:32,  3.83it/s]"
     ]
    },
    {
     "name": "stdout",
     "output_type": "stream",
     "text": [
      "Are there specific library services available for research assistance and guidance?\n",
      "1/1 [==============================] - 0s 21ms/step\n",
      "Contacts <class 'str'>\n"
     ]
    },
    {
     "name": "stderr",
     "output_type": "stream",
     "text": [
      "553it [02:32,  3.95it/s]"
     ]
    },
    {
     "name": "stdout",
     "output_type": "stream",
     "text": [
      "Could you provide information about any specialized sections within the library, such as study areas, quiet zones, or computer labs?\n",
      "1/1 [==============================] - 0s 31ms/step\n",
      "Educational resources <class 'str'>\n"
     ]
    },
    {
     "name": "stderr",
     "output_type": "stream",
     "text": [
      "554it [02:32,  4.16it/s]"
     ]
    },
    {
     "name": "stdout",
     "output_type": "stream",
     "text": [
      "Is there a way to request specific books or materials that are not currently available in the library's collection?\n",
      "1/1 [==============================] - 0s 25ms/step\n",
      "Educational resources <class 'str'>\n"
     ]
    },
    {
     "name": "stderr",
     "output_type": "stream",
     "text": [
      "555it [02:32,  3.76it/s]"
     ]
    },
    {
     "name": "stdout",
     "output_type": "stream",
     "text": [
      "Are there any designated spaces for collaborative work or team projects within the library?\n",
      "1/1 [==============================] - 0s 20ms/step\n"
     ]
    },
    {
     "name": "stderr",
     "output_type": "stream",
     "text": [
      "556it [02:33,  4.09it/s]"
     ]
    },
    {
     "name": "stdout",
     "output_type": "stream",
     "text": [
      "Student Housing <class 'str'>\n",
      "Could you provide information about the availability of Wi-Fi in the library?\n",
      "1/1 [==============================] - 0s 24ms/step\n",
      "Educational resources <class 'str'>\n"
     ]
    },
    {
     "name": "stderr",
     "output_type": "stream",
     "text": [
      "557it [02:33,  4.36it/s]"
     ]
    },
    {
     "name": "stdout",
     "output_type": "stream",
     "text": [
      "Is there a policy regarding noise levels in different sections of the library?\n",
      "1/1 [==============================] - 0s 21ms/step\n",
      "Educational resources <class 'str'>\n"
     ]
    },
    {
     "name": "stderr",
     "output_type": "stream",
     "text": [
      "558it [02:33,  4.44it/s]"
     ]
    },
    {
     "name": "stdout",
     "output_type": "stream",
     "text": [
      "Does the library offer any refreshments or snacks for students who plan to spend extended hours studying?\n",
      "1/1 [==============================] - 0s 23ms/step\n",
      "Educational resources <class 'str'>\n"
     ]
    },
    {
     "name": "stderr",
     "output_type": "stream",
     "text": [
      "559it [02:33,  4.47it/s]"
     ]
    },
    {
     "name": "stdout",
     "output_type": "stream",
     "text": [
      "I've heard about accessing databases via a proxy server. How can I access databases using my own computer or device?\n",
      "1/1 [==============================] - 0s 23ms/step\n"
     ]
    },
    {
     "name": "stderr",
     "output_type": "stream",
     "text": [
      "560it [02:33,  4.64it/s]"
     ]
    },
    {
     "name": "stdout",
     "output_type": "stream",
     "text": [
      "Educational resources <class 'str'>\n",
      "Hello, I'm new to using proxy servers. Could you provide step-by-step instructions on how to set up and use a proxy server to access databases at Kozminski University?\n",
      "1/1 [==============================] - 0s 21ms/step\n"
     ]
    },
    {
     "name": "stderr",
     "output_type": "stream",
     "text": [
      "561it [02:34,  4.63it/s]"
     ]
    },
    {
     "name": "stdout",
     "output_type": "stream",
     "text": [
      "Educational resources <class 'str'>\n",
      "I've heard that some databases can be accessed via a proxy server. Where can I find detailed guidelines on how to configure my device to use the proxy server?\n",
      "1/1 [==============================] - 0s 39ms/step\n"
     ]
    },
    {
     "name": "stderr",
     "output_type": "stream",
     "text": [
      "562it [02:34,  4.49it/s]"
     ]
    },
    {
     "name": "stdout",
     "output_type": "stream",
     "text": [
      "Educational resources <class 'str'>\n",
      "Is there a recommended web browser that works best with the proxy server setup for database access?\n",
      "1/1 [==============================] - 0s 25ms/step\n"
     ]
    },
    {
     "name": "stderr",
     "output_type": "stream",
     "text": [
      "563it [02:34,  4.39it/s]"
     ]
    },
    {
     "name": "stdout",
     "output_type": "stream",
     "text": [
      "Educational resources <class 'str'>\n",
      "Is there a specific software or application I need to install to access databases via the proxy server, or can I configure it directly in my browser?\n",
      "1/1 [==============================] - 0s 66ms/step\n",
      "Educational resources <class 'str'>\n"
     ]
    },
    {
     "name": "stderr",
     "output_type": "stream",
     "text": [
      "564it [02:35,  3.08it/s]"
     ]
    },
    {
     "name": "stdout",
     "output_type": "stream",
     "text": [
      "I'm not very tech-savvy. Could you provide simplified instructions on how to access databases via a proxy server?\n",
      "1/1 [==============================] - 0s 24ms/step\n",
      "Educational resources <class 'str'>\n"
     ]
    },
    {
     "name": "stderr",
     "output_type": "stream",
     "text": [
      "565it [02:35,  2.93it/s]"
     ]
    },
    {
     "name": "stdout",
     "output_type": "stream",
     "text": [
      "What should I do if I encounter any issues while setting up the proxy server for database access? Is there a support channel for troubleshooting?\n",
      "1/1 [==============================] - 0s 25ms/step\n",
      "Contacts <class 'str'>\n"
     ]
    },
    {
     "name": "stderr",
     "output_type": "stream",
     "text": [
      "566it [02:35,  3.18it/s]"
     ]
    },
    {
     "name": "stdout",
     "output_type": "stream",
     "text": [
      "For accessing specific databases, are there any passwords or permissions required? How can I obtain them?\n",
      "1/1 [==============================] - 0s 37ms/step\n",
      "Educational resources <class 'str'>\n"
     ]
    },
    {
     "name": "stderr",
     "output_type": "stream",
     "text": [
      "567it [02:35,  3.53it/s]"
     ]
    },
    {
     "name": "stdout",
     "output_type": "stream",
     "text": [
      "I'm interested in exploring the databases available at Kozminski University. Can you provide me with a list of the databases and their descriptions?\n",
      "1/1 [==============================] - 0s 24ms/step\n",
      "Educational resources <class 'str'>\n"
     ]
    },
    {
     "name": "stderr",
     "output_type": "stream",
     "text": [
      "568it [02:36,  3.73it/s]"
     ]
    },
    {
     "name": "stdout",
     "output_type": "stream",
     "text": [
      "How can I access digitized publications using the university database?\n",
      "1/1 [==============================] - 0s 36ms/step\n",
      "Educational resources <class 'str'>\n"
     ]
    },
    {
     "name": "stderr",
     "output_type": "stream",
     "text": [
      "569it [02:36,  4.03it/s]"
     ]
    },
    {
     "name": "stdout",
     "output_type": "stream",
     "text": [
      "Can you provide information on accessing journals and books from various publishers through the EBSCO database?\n",
      "1/1 [==============================] - 0s 20ms/step\n",
      "Educational resources <class 'str'>\n"
     ]
    },
    {
     "name": "stderr",
     "output_type": "stream",
     "text": [
      "570it [02:36,  4.21it/s]"
     ]
    },
    {
     "name": "stdout",
     "output_type": "stream",
     "text": [
      "I'm interested in accessing information through the EMIS database. How can I do this?\n",
      "1/1 [==============================] - 0s 20ms/step\n",
      "Contacts <class 'str'>\n"
     ]
    },
    {
     "name": "stderr",
     "output_type": "stream",
     "text": [
      "571it [02:36,  4.36it/s]"
     ]
    },
    {
     "name": "stdout",
     "output_type": "stream",
     "text": [
      "Could you guide me on how to register and access to Financial Times news through their database?\n",
      "1/1 [==============================] - 0s 21ms/step\n",
      "Educational resources <class 'str'>\n"
     ]
    },
    {
     "name": "stderr",
     "output_type": "stream",
     "text": [
      "572it [02:37,  3.21it/s]"
     ]
    },
    {
     "name": "stdout",
     "output_type": "stream",
     "text": [
      "I'm interested in exploring academic resources through databases. Could you share some details about the types of subjects and disciplines covered by the databases at KU?\n",
      "1/1 [==============================] - 0s 20ms/step\n",
      "Educational resources <class 'str'>\n"
     ]
    },
    {
     "name": "stderr",
     "output_type": "stream",
     "text": [
      "573it [02:37,  3.57it/s]"
     ]
    },
    {
     "name": "stdout",
     "output_type": "stream",
     "text": [
      "Is there a way to see which specific databases are accessible to Kozminski University students through an official list or webpage?\n",
      "1/1 [==============================] - 0s 35ms/step\n",
      "Contacts <class 'str'>\n"
     ]
    },
    {
     "name": "stderr",
     "output_type": "stream",
     "text": [
      "574it [02:37,  3.83it/s]"
     ]
    },
    {
     "name": "stdout",
     "output_type": "stream",
     "text": [
      "Can you guide me on how to verify my eligibility to access specific databases, especially if there are any restrictions based on my program or year of study?\n",
      "1/1 [==============================] - 0s 20ms/step\n",
      "Educational resources <class 'str'>\n"
     ]
    },
    {
     "name": "stderr",
     "output_type": "stream",
     "text": [
      "575it [02:38,  3.53it/s]"
     ]
    },
    {
     "name": "stdout",
     "output_type": "stream",
     "text": [
      "I'm looking for databases that offer financial information. Could you direct me to the databases that provide such data?\n",
      "1/1 [==============================] - 0s 20ms/step\n",
      "Educational resources <class 'str'>\n"
     ]
    },
    {
     "name": "stderr",
     "output_type": "stream",
     "text": [
      "576it [02:38,  3.84it/s]"
     ]
    },
    {
     "name": "stdout",
     "output_type": "stream",
     "text": [
      "I'm aiming to search for specific journal and magazine titles across various databases. How can I execute these searches in an effective and time-efficient manner?\n",
      "1/1 [==============================] - 0s 20ms/step\n"
     ]
    },
    {
     "name": "stderr",
     "output_type": "stream",
     "text": [
      "577it [02:38,  4.11it/s]"
     ]
    },
    {
     "name": "stdout",
     "output_type": "stream",
     "text": [
      "Educational resources <class 'str'>\n",
      "Can you guide me through the process of searching for the titles of journals and magazines across different databases?\n",
      "1/1 [==============================] - 0s 23ms/step\n",
      "Educational resources <class 'str'>\n"
     ]
    },
    {
     "name": "stderr",
     "output_type": "stream",
     "text": [
      "578it [02:38,  4.30it/s]"
     ]
    },
    {
     "name": "stdout",
     "output_type": "stream",
     "text": [
      "Are there any advanced search techniques I should be aware of when looking for specific journal or magazine titles in databases?\n",
      "1/1 [==============================] - 0s 21ms/step\n",
      "Educational resources <class 'str'>\n"
     ]
    },
    {
     "name": "stderr",
     "output_type": "stream",
     "text": [
      "579it [02:39,  3.64it/s]\n"
     ]
    }
   ],
   "source": [
    "#test \n",
    "query = \"Your query\"\n",
    "predict(query)"
   ]
  }
 ],
 "metadata": {
  "kernelspec": {
   "display_name": "my_env",
   "language": "python",
   "name": "python3"
  },
  "language_info": {
   "codemirror_mode": {
    "name": "ipython",
    "version": 3
   },
   "file_extension": ".py",
   "mimetype": "text/x-python",
   "name": "python",
   "nbconvert_exporter": "python",
   "pygments_lexer": "ipython3",
   "version": "3.9.13"
  },
  "orig_nbformat": 4
 },
 "nbformat": 4,
 "nbformat_minor": 2
}
